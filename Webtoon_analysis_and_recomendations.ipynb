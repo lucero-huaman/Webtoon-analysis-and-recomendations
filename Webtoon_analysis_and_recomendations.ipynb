{
  "nbformat": 4,
  "nbformat_minor": 0,
  "metadata": {
    "colab": {
      "provenance": [],
      "collapsed_sections": [
        "EzNX1WMM_iNQ",
        "EbIWolYRyv78",
        "UmyZg4k_y32F",
        "XKYG_aVDzcIa",
        "XUt-DOzNFWR0"
      ]
    },
    "kernelspec": {
      "name": "python3",
      "display_name": "Python 3"
    },
    "language_info": {
      "name": "python"
    }
  },
  "cells": [
    {
      "cell_type": "markdown",
      "source": [
        "#Análisis de Webtoon y recomendaciones"
      ],
      "metadata": {
        "id": "hCXK9nYS-wW2"
      }
    },
    {
      "cell_type": "markdown",
      "source": [
        "##Importar liberías"
      ],
      "metadata": {
        "id": "ueODBDVJ-rrQ"
      }
    },
    {
      "cell_type": "code",
      "execution_count": 112,
      "metadata": {
        "id": "fild5EH_93Xk"
      },
      "outputs": [],
      "source": [
        "import pandas as pd\n",
        "import numpy as np\n",
        "import matplotlib.pyplot as plt\n",
        "import plotly.express as px"
      ]
    },
    {
      "cell_type": "code",
      "source": [
        "import seaborn as sns"
      ],
      "metadata": {
        "id": "30b-jROFyz9U"
      },
      "execution_count": 113,
      "outputs": []
    },
    {
      "cell_type": "code",
      "source": [
        "import plotly.graph_objects as go"
      ],
      "metadata": {
        "id": "bySPi6Cz96kT"
      },
      "execution_count": 114,
      "outputs": []
    },
    {
      "cell_type": "markdown",
      "source": [
        "##Carga de datos"
      ],
      "metadata": {
        "id": "nNP2YCq8-3bw"
      }
    },
    {
      "cell_type": "code",
      "source": [
        "data=pd.read_excel('webtoon_final.xlsx')\n",
        "data.head()"
      ],
      "metadata": {
        "colab": {
          "base_uri": "https://localhost:8080/",
          "height": 617
        },
        "id": "8bH3RZDN975R",
        "outputId": "7225dfd6-c613-48a4-c6b6-f8d10b74a720"
      },
      "execution_count": 115,
      "outputs": [
        {
          "output_type": "execute_result",
          "data": {
            "text/plain": [
              "   title_id                         title  \\\n",
              "0      4598           Gemela desaparecida   \n",
              "1      4597         La basura en su lugar   \n",
              "2      4595  Hecho de Polvo de Estrellas    \n",
              "3      4594              Reflejo del alma   \n",
              "4      4510                 Nuestro hogar   \n",
              "\n",
              "                                          imagen_url  \\\n",
              "0  https://swebtoon-phinf.pstatic.net/20220816_86...   \n",
              "1  https://swebtoon-phinf.pstatic.net/20220803_18...   \n",
              "2  https://swebtoon-phinf.pstatic.net/20220819_27...   \n",
              "3  https://swebtoon-phinf.pstatic.net/20210530_24...   \n",
              "4  https://swebtoon-phinf.pstatic.net/20220720_16...   \n",
              "\n",
              "                                             pag_url    genre  \\\n",
              "0  https://www.webtoons.com/es/drama/vanishing-tw...    DRAMA   \n",
              "1  https://www.webtoons.com/es/drama/trash-belong...    DRAMA   \n",
              "2  https://www.webtoons.com/es/romance/hecho-de-p...  ROMANCE   \n",
              "3  https://www.webtoons.com/es/romance/reflejo-de...  ROMANCE   \n",
              "4  https://www.webtoons.com/es/romance/our-house/...  ROMANCE   \n",
              "\n",
              "                authors          weekdays  length  subscribers  rating  \\\n",
              "0            Gaje,Dodal         WEDNESDAY       4        63822    9.53   \n",
              "1             EDDiERiNG         WEDNESDAY       6       108708    9.71   \n",
              "2              Kalisami            MONDAY       4        61310    9.72   \n",
              "3                Magovi           TUESDAY       3        68428    9.85   \n",
              "4  Jinha,JIN Jongkyoung  WEDNESDAY,SUNDAY      11        38968    9.31   \n",
              "\n",
              "    views  likes   status  daily_pass  \\\n",
              "0  216223  31111  ONGOING       False   \n",
              "1  563964  81905  ONGOING       False   \n",
              "2  171510  24556  ONGOING       False   \n",
              "3  180379  35401  ONGOING       False   \n",
              "4  178647  29455  ONGOING       False   \n",
              "\n",
              "                                            synopsis  \n",
              "0  Janghwa es la típica chica universitaria: lind...  \n",
              "1  Woobin es un experto en seducir a mujeres rica...  \n",
              "2  Kalisa es una joven estrella del firmamento, c...  \n",
              "3  Annie es una chica insegura y solitaria con mi...  \n",
              "4  Hana es la hija del dueño de la pensión Cuatro...  "
            ],
            "text/html": [
              "\n",
              "\n",
              "  <div id=\"df-2fc5c9d8-8ae1-4971-af8d-ffe3bfb2fdb7\">\n",
              "    <div class=\"colab-df-container\">\n",
              "      <div>\n",
              "<style scoped>\n",
              "    .dataframe tbody tr th:only-of-type {\n",
              "        vertical-align: middle;\n",
              "    }\n",
              "\n",
              "    .dataframe tbody tr th {\n",
              "        vertical-align: top;\n",
              "    }\n",
              "\n",
              "    .dataframe thead th {\n",
              "        text-align: right;\n",
              "    }\n",
              "</style>\n",
              "<table border=\"1\" class=\"dataframe\">\n",
              "  <thead>\n",
              "    <tr style=\"text-align: right;\">\n",
              "      <th></th>\n",
              "      <th>title_id</th>\n",
              "      <th>title</th>\n",
              "      <th>imagen_url</th>\n",
              "      <th>pag_url</th>\n",
              "      <th>genre</th>\n",
              "      <th>authors</th>\n",
              "      <th>weekdays</th>\n",
              "      <th>length</th>\n",
              "      <th>subscribers</th>\n",
              "      <th>rating</th>\n",
              "      <th>views</th>\n",
              "      <th>likes</th>\n",
              "      <th>status</th>\n",
              "      <th>daily_pass</th>\n",
              "      <th>synopsis</th>\n",
              "    </tr>\n",
              "  </thead>\n",
              "  <tbody>\n",
              "    <tr>\n",
              "      <th>0</th>\n",
              "      <td>4598</td>\n",
              "      <td>Gemela desaparecida</td>\n",
              "      <td>https://swebtoon-phinf.pstatic.net/20220816_86...</td>\n",
              "      <td>https://www.webtoons.com/es/drama/vanishing-tw...</td>\n",
              "      <td>DRAMA</td>\n",
              "      <td>Gaje,Dodal</td>\n",
              "      <td>WEDNESDAY</td>\n",
              "      <td>4</td>\n",
              "      <td>63822</td>\n",
              "      <td>9.53</td>\n",
              "      <td>216223</td>\n",
              "      <td>31111</td>\n",
              "      <td>ONGOING</td>\n",
              "      <td>False</td>\n",
              "      <td>Janghwa es la típica chica universitaria: lind...</td>\n",
              "    </tr>\n",
              "    <tr>\n",
              "      <th>1</th>\n",
              "      <td>4597</td>\n",
              "      <td>La basura en su lugar</td>\n",
              "      <td>https://swebtoon-phinf.pstatic.net/20220803_18...</td>\n",
              "      <td>https://www.webtoons.com/es/drama/trash-belong...</td>\n",
              "      <td>DRAMA</td>\n",
              "      <td>EDDiERiNG</td>\n",
              "      <td>WEDNESDAY</td>\n",
              "      <td>6</td>\n",
              "      <td>108708</td>\n",
              "      <td>9.71</td>\n",
              "      <td>563964</td>\n",
              "      <td>81905</td>\n",
              "      <td>ONGOING</td>\n",
              "      <td>False</td>\n",
              "      <td>Woobin es un experto en seducir a mujeres rica...</td>\n",
              "    </tr>\n",
              "    <tr>\n",
              "      <th>2</th>\n",
              "      <td>4595</td>\n",
              "      <td>Hecho de Polvo de Estrellas</td>\n",
              "      <td>https://swebtoon-phinf.pstatic.net/20220819_27...</td>\n",
              "      <td>https://www.webtoons.com/es/romance/hecho-de-p...</td>\n",
              "      <td>ROMANCE</td>\n",
              "      <td>Kalisami</td>\n",
              "      <td>MONDAY</td>\n",
              "      <td>4</td>\n",
              "      <td>61310</td>\n",
              "      <td>9.72</td>\n",
              "      <td>171510</td>\n",
              "      <td>24556</td>\n",
              "      <td>ONGOING</td>\n",
              "      <td>False</td>\n",
              "      <td>Kalisa es una joven estrella del firmamento, c...</td>\n",
              "    </tr>\n",
              "    <tr>\n",
              "      <th>3</th>\n",
              "      <td>4594</td>\n",
              "      <td>Reflejo del alma</td>\n",
              "      <td>https://swebtoon-phinf.pstatic.net/20210530_24...</td>\n",
              "      <td>https://www.webtoons.com/es/romance/reflejo-de...</td>\n",
              "      <td>ROMANCE</td>\n",
              "      <td>Magovi</td>\n",
              "      <td>TUESDAY</td>\n",
              "      <td>3</td>\n",
              "      <td>68428</td>\n",
              "      <td>9.85</td>\n",
              "      <td>180379</td>\n",
              "      <td>35401</td>\n",
              "      <td>ONGOING</td>\n",
              "      <td>False</td>\n",
              "      <td>Annie es una chica insegura y solitaria con mi...</td>\n",
              "    </tr>\n",
              "    <tr>\n",
              "      <th>4</th>\n",
              "      <td>4510</td>\n",
              "      <td>Nuestro hogar</td>\n",
              "      <td>https://swebtoon-phinf.pstatic.net/20220720_16...</td>\n",
              "      <td>https://www.webtoons.com/es/romance/our-house/...</td>\n",
              "      <td>ROMANCE</td>\n",
              "      <td>Jinha,JIN Jongkyoung</td>\n",
              "      <td>WEDNESDAY,SUNDAY</td>\n",
              "      <td>11</td>\n",
              "      <td>38968</td>\n",
              "      <td>9.31</td>\n",
              "      <td>178647</td>\n",
              "      <td>29455</td>\n",
              "      <td>ONGOING</td>\n",
              "      <td>False</td>\n",
              "      <td>Hana es la hija del dueño de la pensión Cuatro...</td>\n",
              "    </tr>\n",
              "  </tbody>\n",
              "</table>\n",
              "</div>\n",
              "      <button class=\"colab-df-convert\" onclick=\"convertToInteractive('df-2fc5c9d8-8ae1-4971-af8d-ffe3bfb2fdb7')\"\n",
              "              title=\"Convert this dataframe to an interactive table.\"\n",
              "              style=\"display:none;\">\n",
              "\n",
              "  <svg xmlns=\"http://www.w3.org/2000/svg\" height=\"24px\"viewBox=\"0 0 24 24\"\n",
              "       width=\"24px\">\n",
              "    <path d=\"M0 0h24v24H0V0z\" fill=\"none\"/>\n",
              "    <path d=\"M18.56 5.44l.94 2.06.94-2.06 2.06-.94-2.06-.94-.94-2.06-.94 2.06-2.06.94zm-11 1L8.5 8.5l.94-2.06 2.06-.94-2.06-.94L8.5 2.5l-.94 2.06-2.06.94zm10 10l.94 2.06.94-2.06 2.06-.94-2.06-.94-.94-2.06-.94 2.06-2.06.94z\"/><path d=\"M17.41 7.96l-1.37-1.37c-.4-.4-.92-.59-1.43-.59-.52 0-1.04.2-1.43.59L10.3 9.45l-7.72 7.72c-.78.78-.78 2.05 0 2.83L4 21.41c.39.39.9.59 1.41.59.51 0 1.02-.2 1.41-.59l7.78-7.78 2.81-2.81c.8-.78.8-2.07 0-2.86zM5.41 20L4 18.59l7.72-7.72 1.47 1.35L5.41 20z\"/>\n",
              "  </svg>\n",
              "      </button>\n",
              "\n",
              "\n",
              "\n",
              "    <div id=\"df-c82ef041-a360-473d-bf8e-b5852a948340\">\n",
              "      <button class=\"colab-df-quickchart\" onclick=\"quickchart('df-c82ef041-a360-473d-bf8e-b5852a948340')\"\n",
              "              title=\"Suggest charts.\"\n",
              "              style=\"display:none;\">\n",
              "\n",
              "<svg xmlns=\"http://www.w3.org/2000/svg\" height=\"24px\"viewBox=\"0 0 24 24\"\n",
              "     width=\"24px\">\n",
              "    <g>\n",
              "        <path d=\"M19 3H5c-1.1 0-2 .9-2 2v14c0 1.1.9 2 2 2h14c1.1 0 2-.9 2-2V5c0-1.1-.9-2-2-2zM9 17H7v-7h2v7zm4 0h-2V7h2v10zm4 0h-2v-4h2v4z\"/>\n",
              "    </g>\n",
              "</svg>\n",
              "      </button>\n",
              "    </div>\n",
              "\n",
              "<style>\n",
              "  .colab-df-quickchart {\n",
              "    background-color: #E8F0FE;\n",
              "    border: none;\n",
              "    border-radius: 50%;\n",
              "    cursor: pointer;\n",
              "    display: none;\n",
              "    fill: #1967D2;\n",
              "    height: 32px;\n",
              "    padding: 0 0 0 0;\n",
              "    width: 32px;\n",
              "  }\n",
              "\n",
              "  .colab-df-quickchart:hover {\n",
              "    background-color: #E2EBFA;\n",
              "    box-shadow: 0px 1px 2px rgba(60, 64, 67, 0.3), 0px 1px 3px 1px rgba(60, 64, 67, 0.15);\n",
              "    fill: #174EA6;\n",
              "  }\n",
              "\n",
              "  [theme=dark] .colab-df-quickchart {\n",
              "    background-color: #3B4455;\n",
              "    fill: #D2E3FC;\n",
              "  }\n",
              "\n",
              "  [theme=dark] .colab-df-quickchart:hover {\n",
              "    background-color: #434B5C;\n",
              "    box-shadow: 0px 1px 3px 1px rgba(0, 0, 0, 0.15);\n",
              "    filter: drop-shadow(0px 1px 2px rgba(0, 0, 0, 0.3));\n",
              "    fill: #FFFFFF;\n",
              "  }\n",
              "</style>\n",
              "\n",
              "    <script>\n",
              "      async function quickchart(key) {\n",
              "        const containerElement = document.querySelector('#' + key);\n",
              "        const charts = await google.colab.kernel.invokeFunction(\n",
              "            'suggestCharts', [key], {});\n",
              "      }\n",
              "    </script>\n",
              "\n",
              "      <script>\n",
              "\n",
              "function displayQuickchartButton(domScope) {\n",
              "  let quickchartButtonEl =\n",
              "    domScope.querySelector('#df-c82ef041-a360-473d-bf8e-b5852a948340 button.colab-df-quickchart');\n",
              "  quickchartButtonEl.style.display =\n",
              "    google.colab.kernel.accessAllowed ? 'block' : 'none';\n",
              "}\n",
              "\n",
              "        displayQuickchartButton(document);\n",
              "      </script>\n",
              "      <style>\n",
              "    .colab-df-container {\n",
              "      display:flex;\n",
              "      flex-wrap:wrap;\n",
              "      gap: 12px;\n",
              "    }\n",
              "\n",
              "    .colab-df-convert {\n",
              "      background-color: #E8F0FE;\n",
              "      border: none;\n",
              "      border-radius: 50%;\n",
              "      cursor: pointer;\n",
              "      display: none;\n",
              "      fill: #1967D2;\n",
              "      height: 32px;\n",
              "      padding: 0 0 0 0;\n",
              "      width: 32px;\n",
              "    }\n",
              "\n",
              "    .colab-df-convert:hover {\n",
              "      background-color: #E2EBFA;\n",
              "      box-shadow: 0px 1px 2px rgba(60, 64, 67, 0.3), 0px 1px 3px 1px rgba(60, 64, 67, 0.15);\n",
              "      fill: #174EA6;\n",
              "    }\n",
              "\n",
              "    [theme=dark] .colab-df-convert {\n",
              "      background-color: #3B4455;\n",
              "      fill: #D2E3FC;\n",
              "    }\n",
              "\n",
              "    [theme=dark] .colab-df-convert:hover {\n",
              "      background-color: #434B5C;\n",
              "      box-shadow: 0px 1px 3px 1px rgba(0, 0, 0, 0.15);\n",
              "      filter: drop-shadow(0px 1px 2px rgba(0, 0, 0, 0.3));\n",
              "      fill: #FFFFFF;\n",
              "    }\n",
              "  </style>\n",
              "\n",
              "      <script>\n",
              "        const buttonEl =\n",
              "          document.querySelector('#df-2fc5c9d8-8ae1-4971-af8d-ffe3bfb2fdb7 button.colab-df-convert');\n",
              "        buttonEl.style.display =\n",
              "          google.colab.kernel.accessAllowed ? 'block' : 'none';\n",
              "\n",
              "        async function convertToInteractive(key) {\n",
              "          const element = document.querySelector('#df-2fc5c9d8-8ae1-4971-af8d-ffe3bfb2fdb7');\n",
              "          const dataTable =\n",
              "            await google.colab.kernel.invokeFunction('convertToInteractive',\n",
              "                                                     [key], {});\n",
              "          if (!dataTable) return;\n",
              "\n",
              "          const docLinkHtml = 'Like what you see? Visit the ' +\n",
              "            '<a target=\"_blank\" href=https://colab.research.google.com/notebooks/data_table.ipynb>data table notebook</a>'\n",
              "            + ' to learn more about interactive tables.';\n",
              "          element.innerHTML = '';\n",
              "          dataTable['output_type'] = 'display_data';\n",
              "          await google.colab.output.renderOutput(dataTable, element);\n",
              "          const docLink = document.createElement('div');\n",
              "          docLink.innerHTML = docLinkHtml;\n",
              "          element.appendChild(docLink);\n",
              "        }\n",
              "      </script>\n",
              "    </div>\n",
              "  </div>\n"
            ]
          },
          "metadata": {},
          "execution_count": 115
        }
      ]
    },
    {
      "cell_type": "code",
      "source": [
        "data.shape"
      ],
      "metadata": {
        "colab": {
          "base_uri": "https://localhost:8080/"
        },
        "id": "zJ1U9XhQAiPs",
        "outputId": "c0f00793-1565-4170-d086-21357f2a3e23"
      },
      "execution_count": 116,
      "outputs": [
        {
          "output_type": "execute_result",
          "data": {
            "text/plain": [
              "(317, 15)"
            ]
          },
          "metadata": {},
          "execution_count": 116
        }
      ]
    },
    {
      "cell_type": "code",
      "source": [
        "data.info()"
      ],
      "metadata": {
        "colab": {
          "base_uri": "https://localhost:8080/"
        },
        "id": "B3xtyLRR-97J",
        "outputId": "9ca710db-ef79-4dda-e308-75a9d3960652"
      },
      "execution_count": 117,
      "outputs": [
        {
          "output_type": "stream",
          "name": "stdout",
          "text": [
            "<class 'pandas.core.frame.DataFrame'>\n",
            "RangeIndex: 317 entries, 0 to 316\n",
            "Data columns (total 15 columns):\n",
            " #   Column       Non-Null Count  Dtype  \n",
            "---  ------       --------------  -----  \n",
            " 0   title_id     317 non-null    int64  \n",
            " 1   title        317 non-null    object \n",
            " 2   imagen_url   317 non-null    object \n",
            " 3   pag_url      317 non-null    object \n",
            " 4   genre        317 non-null    object \n",
            " 5   authors      316 non-null    object \n",
            " 6   weekdays     317 non-null    object \n",
            " 7   length       317 non-null    int64  \n",
            " 8   subscribers  317 non-null    int64  \n",
            " 9   rating       317 non-null    float64\n",
            " 10  views        317 non-null    int64  \n",
            " 11  likes        317 non-null    int64  \n",
            " 12  status       317 non-null    object \n",
            " 13  daily_pass   317 non-null    bool   \n",
            " 14  synopsis     317 non-null    object \n",
            "dtypes: bool(1), float64(1), int64(5), object(8)\n",
            "memory usage: 35.1+ KB\n"
          ]
        }
      ]
    },
    {
      "cell_type": "code",
      "source": [
        "data.describe()"
      ],
      "metadata": {
        "colab": {
          "base_uri": "https://localhost:8080/",
          "height": 364
        },
        "id": "87xPHyho-_MP",
        "outputId": "9326563a-bc10-4c00-e9a5-375b1acd5e23"
      },
      "execution_count": 118,
      "outputs": [
        {
          "output_type": "execute_result",
          "data": {
            "text/plain": [
              "          title_id      length   subscribers      rating         views  \\\n",
              "count   317.000000  317.000000  3.170000e+02  317.000000  3.170000e+02   \n",
              "mean   3147.375394   67.470032  3.094425e+05    9.688454  1.701456e+07   \n",
              "std     843.671741   86.976735  3.899575e+05    0.197025  3.731740e+07   \n",
              "min    1716.000000    1.000000  1.673300e+04    8.570000  6.337800e+04   \n",
              "25%    2444.000000   22.000000  9.827100e+04    9.630000  1.495496e+06   \n",
              "50%    3251.000000   49.000000  1.783660e+05    9.740000  4.799439e+06   \n",
              "75%    3794.000000   77.000000  3.392790e+05    9.820000  1.521993e+07   \n",
              "max    4598.000000  721.000000  3.285899e+06    9.930000  4.062923e+08   \n",
              "\n",
              "              likes  \n",
              "count  3.170000e+02  \n",
              "mean   2.040119e+06  \n",
              "std    3.533666e+06  \n",
              "min    1.149300e+04  \n",
              "25%    2.297770e+05  \n",
              "50%    7.071840e+05  \n",
              "75%    2.097921e+06  \n",
              "max    3.164553e+07  "
            ],
            "text/html": [
              "\n",
              "\n",
              "  <div id=\"df-c263a90c-6762-491d-8259-0062386edada\">\n",
              "    <div class=\"colab-df-container\">\n",
              "      <div>\n",
              "<style scoped>\n",
              "    .dataframe tbody tr th:only-of-type {\n",
              "        vertical-align: middle;\n",
              "    }\n",
              "\n",
              "    .dataframe tbody tr th {\n",
              "        vertical-align: top;\n",
              "    }\n",
              "\n",
              "    .dataframe thead th {\n",
              "        text-align: right;\n",
              "    }\n",
              "</style>\n",
              "<table border=\"1\" class=\"dataframe\">\n",
              "  <thead>\n",
              "    <tr style=\"text-align: right;\">\n",
              "      <th></th>\n",
              "      <th>title_id</th>\n",
              "      <th>length</th>\n",
              "      <th>subscribers</th>\n",
              "      <th>rating</th>\n",
              "      <th>views</th>\n",
              "      <th>likes</th>\n",
              "    </tr>\n",
              "  </thead>\n",
              "  <tbody>\n",
              "    <tr>\n",
              "      <th>count</th>\n",
              "      <td>317.000000</td>\n",
              "      <td>317.000000</td>\n",
              "      <td>3.170000e+02</td>\n",
              "      <td>317.000000</td>\n",
              "      <td>3.170000e+02</td>\n",
              "      <td>3.170000e+02</td>\n",
              "    </tr>\n",
              "    <tr>\n",
              "      <th>mean</th>\n",
              "      <td>3147.375394</td>\n",
              "      <td>67.470032</td>\n",
              "      <td>3.094425e+05</td>\n",
              "      <td>9.688454</td>\n",
              "      <td>1.701456e+07</td>\n",
              "      <td>2.040119e+06</td>\n",
              "    </tr>\n",
              "    <tr>\n",
              "      <th>std</th>\n",
              "      <td>843.671741</td>\n",
              "      <td>86.976735</td>\n",
              "      <td>3.899575e+05</td>\n",
              "      <td>0.197025</td>\n",
              "      <td>3.731740e+07</td>\n",
              "      <td>3.533666e+06</td>\n",
              "    </tr>\n",
              "    <tr>\n",
              "      <th>min</th>\n",
              "      <td>1716.000000</td>\n",
              "      <td>1.000000</td>\n",
              "      <td>1.673300e+04</td>\n",
              "      <td>8.570000</td>\n",
              "      <td>6.337800e+04</td>\n",
              "      <td>1.149300e+04</td>\n",
              "    </tr>\n",
              "    <tr>\n",
              "      <th>25%</th>\n",
              "      <td>2444.000000</td>\n",
              "      <td>22.000000</td>\n",
              "      <td>9.827100e+04</td>\n",
              "      <td>9.630000</td>\n",
              "      <td>1.495496e+06</td>\n",
              "      <td>2.297770e+05</td>\n",
              "    </tr>\n",
              "    <tr>\n",
              "      <th>50%</th>\n",
              "      <td>3251.000000</td>\n",
              "      <td>49.000000</td>\n",
              "      <td>1.783660e+05</td>\n",
              "      <td>9.740000</td>\n",
              "      <td>4.799439e+06</td>\n",
              "      <td>7.071840e+05</td>\n",
              "    </tr>\n",
              "    <tr>\n",
              "      <th>75%</th>\n",
              "      <td>3794.000000</td>\n",
              "      <td>77.000000</td>\n",
              "      <td>3.392790e+05</td>\n",
              "      <td>9.820000</td>\n",
              "      <td>1.521993e+07</td>\n",
              "      <td>2.097921e+06</td>\n",
              "    </tr>\n",
              "    <tr>\n",
              "      <th>max</th>\n",
              "      <td>4598.000000</td>\n",
              "      <td>721.000000</td>\n",
              "      <td>3.285899e+06</td>\n",
              "      <td>9.930000</td>\n",
              "      <td>4.062923e+08</td>\n",
              "      <td>3.164553e+07</td>\n",
              "    </tr>\n",
              "  </tbody>\n",
              "</table>\n",
              "</div>\n",
              "      <button class=\"colab-df-convert\" onclick=\"convertToInteractive('df-c263a90c-6762-491d-8259-0062386edada')\"\n",
              "              title=\"Convert this dataframe to an interactive table.\"\n",
              "              style=\"display:none;\">\n",
              "\n",
              "  <svg xmlns=\"http://www.w3.org/2000/svg\" height=\"24px\"viewBox=\"0 0 24 24\"\n",
              "       width=\"24px\">\n",
              "    <path d=\"M0 0h24v24H0V0z\" fill=\"none\"/>\n",
              "    <path d=\"M18.56 5.44l.94 2.06.94-2.06 2.06-.94-2.06-.94-.94-2.06-.94 2.06-2.06.94zm-11 1L8.5 8.5l.94-2.06 2.06-.94-2.06-.94L8.5 2.5l-.94 2.06-2.06.94zm10 10l.94 2.06.94-2.06 2.06-.94-2.06-.94-.94-2.06-.94 2.06-2.06.94z\"/><path d=\"M17.41 7.96l-1.37-1.37c-.4-.4-.92-.59-1.43-.59-.52 0-1.04.2-1.43.59L10.3 9.45l-7.72 7.72c-.78.78-.78 2.05 0 2.83L4 21.41c.39.39.9.59 1.41.59.51 0 1.02-.2 1.41-.59l7.78-7.78 2.81-2.81c.8-.78.8-2.07 0-2.86zM5.41 20L4 18.59l7.72-7.72 1.47 1.35L5.41 20z\"/>\n",
              "  </svg>\n",
              "      </button>\n",
              "\n",
              "\n",
              "\n",
              "    <div id=\"df-cc17fbc7-20de-48e0-96ea-e7151fb77d0f\">\n",
              "      <button class=\"colab-df-quickchart\" onclick=\"quickchart('df-cc17fbc7-20de-48e0-96ea-e7151fb77d0f')\"\n",
              "              title=\"Suggest charts.\"\n",
              "              style=\"display:none;\">\n",
              "\n",
              "<svg xmlns=\"http://www.w3.org/2000/svg\" height=\"24px\"viewBox=\"0 0 24 24\"\n",
              "     width=\"24px\">\n",
              "    <g>\n",
              "        <path d=\"M19 3H5c-1.1 0-2 .9-2 2v14c0 1.1.9 2 2 2h14c1.1 0 2-.9 2-2V5c0-1.1-.9-2-2-2zM9 17H7v-7h2v7zm4 0h-2V7h2v10zm4 0h-2v-4h2v4z\"/>\n",
              "    </g>\n",
              "</svg>\n",
              "      </button>\n",
              "    </div>\n",
              "\n",
              "<style>\n",
              "  .colab-df-quickchart {\n",
              "    background-color: #E8F0FE;\n",
              "    border: none;\n",
              "    border-radius: 50%;\n",
              "    cursor: pointer;\n",
              "    display: none;\n",
              "    fill: #1967D2;\n",
              "    height: 32px;\n",
              "    padding: 0 0 0 0;\n",
              "    width: 32px;\n",
              "  }\n",
              "\n",
              "  .colab-df-quickchart:hover {\n",
              "    background-color: #E2EBFA;\n",
              "    box-shadow: 0px 1px 2px rgba(60, 64, 67, 0.3), 0px 1px 3px 1px rgba(60, 64, 67, 0.15);\n",
              "    fill: #174EA6;\n",
              "  }\n",
              "\n",
              "  [theme=dark] .colab-df-quickchart {\n",
              "    background-color: #3B4455;\n",
              "    fill: #D2E3FC;\n",
              "  }\n",
              "\n",
              "  [theme=dark] .colab-df-quickchart:hover {\n",
              "    background-color: #434B5C;\n",
              "    box-shadow: 0px 1px 3px 1px rgba(0, 0, 0, 0.15);\n",
              "    filter: drop-shadow(0px 1px 2px rgba(0, 0, 0, 0.3));\n",
              "    fill: #FFFFFF;\n",
              "  }\n",
              "</style>\n",
              "\n",
              "    <script>\n",
              "      async function quickchart(key) {\n",
              "        const containerElement = document.querySelector('#' + key);\n",
              "        const charts = await google.colab.kernel.invokeFunction(\n",
              "            'suggestCharts', [key], {});\n",
              "      }\n",
              "    </script>\n",
              "\n",
              "      <script>\n",
              "\n",
              "function displayQuickchartButton(domScope) {\n",
              "  let quickchartButtonEl =\n",
              "    domScope.querySelector('#df-cc17fbc7-20de-48e0-96ea-e7151fb77d0f button.colab-df-quickchart');\n",
              "  quickchartButtonEl.style.display =\n",
              "    google.colab.kernel.accessAllowed ? 'block' : 'none';\n",
              "}\n",
              "\n",
              "        displayQuickchartButton(document);\n",
              "      </script>\n",
              "      <style>\n",
              "    .colab-df-container {\n",
              "      display:flex;\n",
              "      flex-wrap:wrap;\n",
              "      gap: 12px;\n",
              "    }\n",
              "\n",
              "    .colab-df-convert {\n",
              "      background-color: #E8F0FE;\n",
              "      border: none;\n",
              "      border-radius: 50%;\n",
              "      cursor: pointer;\n",
              "      display: none;\n",
              "      fill: #1967D2;\n",
              "      height: 32px;\n",
              "      padding: 0 0 0 0;\n",
              "      width: 32px;\n",
              "    }\n",
              "\n",
              "    .colab-df-convert:hover {\n",
              "      background-color: #E2EBFA;\n",
              "      box-shadow: 0px 1px 2px rgba(60, 64, 67, 0.3), 0px 1px 3px 1px rgba(60, 64, 67, 0.15);\n",
              "      fill: #174EA6;\n",
              "    }\n",
              "\n",
              "    [theme=dark] .colab-df-convert {\n",
              "      background-color: #3B4455;\n",
              "      fill: #D2E3FC;\n",
              "    }\n",
              "\n",
              "    [theme=dark] .colab-df-convert:hover {\n",
              "      background-color: #434B5C;\n",
              "      box-shadow: 0px 1px 3px 1px rgba(0, 0, 0, 0.15);\n",
              "      filter: drop-shadow(0px 1px 2px rgba(0, 0, 0, 0.3));\n",
              "      fill: #FFFFFF;\n",
              "    }\n",
              "  </style>\n",
              "\n",
              "      <script>\n",
              "        const buttonEl =\n",
              "          document.querySelector('#df-c263a90c-6762-491d-8259-0062386edada button.colab-df-convert');\n",
              "        buttonEl.style.display =\n",
              "          google.colab.kernel.accessAllowed ? 'block' : 'none';\n",
              "\n",
              "        async function convertToInteractive(key) {\n",
              "          const element = document.querySelector('#df-c263a90c-6762-491d-8259-0062386edada');\n",
              "          const dataTable =\n",
              "            await google.colab.kernel.invokeFunction('convertToInteractive',\n",
              "                                                     [key], {});\n",
              "          if (!dataTable) return;\n",
              "\n",
              "          const docLinkHtml = 'Like what you see? Visit the ' +\n",
              "            '<a target=\"_blank\" href=https://colab.research.google.com/notebooks/data_table.ipynb>data table notebook</a>'\n",
              "            + ' to learn more about interactive tables.';\n",
              "          element.innerHTML = '';\n",
              "          dataTable['output_type'] = 'display_data';\n",
              "          await google.colab.output.renderOutput(dataTable, element);\n",
              "          const docLink = document.createElement('div');\n",
              "          docLink.innerHTML = docLinkHtml;\n",
              "          element.appendChild(docLink);\n",
              "        }\n",
              "      </script>\n",
              "    </div>\n",
              "  </div>\n"
            ]
          },
          "metadata": {},
          "execution_count": 118
        }
      ]
    },
    {
      "cell_type": "markdown",
      "source": [
        "##Limpieza y tratamiento de datos"
      ],
      "metadata": {
        "id": "EzNX1WMM_iNQ"
      }
    },
    {
      "cell_type": "markdown",
      "source": [
        "###Reducción de autores por cantidad de obras de un mismo género"
      ],
      "metadata": {
        "id": "rwGe4B1VkY-N"
      }
    },
    {
      "cell_type": "code",
      "source": [
        "data['authors'].nunique()"
      ],
      "metadata": {
        "colab": {
          "base_uri": "https://localhost:8080/"
        },
        "id": "myuLC_fT1C-c",
        "outputId": "209bc9f0-4e4e-4829-876f-6d2b7e6cf763"
      },
      "execution_count": 245,
      "outputs": [
        {
          "output_type": "execute_result",
          "data": {
            "text/plain": [
              "303"
            ]
          },
          "metadata": {},
          "execution_count": 245
        }
      ]
    },
    {
      "cell_type": "code",
      "source": [
        "data['title'].count()"
      ],
      "metadata": {
        "colab": {
          "base_uri": "https://localhost:8080/"
        },
        "id": "TOmEH4K91fXg",
        "outputId": "419732f4-c3a5-4eb1-c18c-f1f24afcbb6e"
      },
      "execution_count": 247,
      "outputs": [
        {
          "output_type": "execute_result",
          "data": {
            "text/plain": [
              "317"
            ]
          },
          "metadata": {},
          "execution_count": 247
        }
      ]
    },
    {
      "cell_type": "code",
      "source": [
        "data.value_counts('authors')"
      ],
      "metadata": {
        "colab": {
          "base_uri": "https://localhost:8080/"
        },
        "id": "XG8MHsQ6YRv0",
        "outputId": "89e263be-e8dd-4e96-9692-a26e3b585bf6"
      },
      "execution_count": 119,
      "outputs": [
        {
          "output_type": "execute_result",
          "data": {
            "text/plain": [
              "authors\n",
              "HYBE                      3\n",
              "Lee Yeon                  2\n",
              "Xuann                     2\n",
              "MiTi,GUGU                 2\n",
              "Hongjacga                 2\n",
              "                         ..\n",
              "Hyun hoo Joo,Kumtata      1\n",
              "Hyeon A Cho               1\n",
              "Hwang Han-yeong,I-room    1\n",
              "Hwang DoTol,Jeongseo      1\n",
              "uru-chan                  1\n",
              "Length: 302, dtype: int64"
            ]
          },
          "metadata": {},
          "execution_count": 119
        }
      ]
    },
    {
      "cell_type": "code",
      "source": [
        "cant_author_filt = data[data['authors'].map(data['authors'].value_counts()) > 1][['authors','title', 'genre']]\n",
        "cant_author_filt.sort_values(by=['authors'], ascending=False)"
      ],
      "metadata": {
        "colab": {
          "base_uri": "https://localhost:8080/",
          "height": 992
        },
        "id": "oUcIrLIPZLHr",
        "outputId": "5d4619b8-69d8-48fe-af09-64c60a7d36ac"
      },
      "execution_count": 120,
      "outputs": [
        {
          "output_type": "execute_result",
          "data": {
            "text/plain": [
              "                        authors                                       title  \\\n",
              "315                 instantmiso                     El lamento de la sirena   \n",
              "74                  instantmiso                               Devora sueños   \n",
              "174                       Xuann                      ¡Pretende que me amas!   \n",
              "232                       Xuann                El lobo y la caperucita roja   \n",
              "284             Varios artistas                                    AMOR[ES]   \n",
              "273             Varios artistas                         #TipsParaCuarentena   \n",
              "311                   Snailords                             Maldito romance   \n",
              "89                    Snailords                        Muerte: Reprogramada   \n",
              "261                      Ryoung                                #Killstagram   \n",
              "43                       Ryoung                          Belleza en un clic   \n",
              "236                   MiTi,GUGU                                Perdón, mamá   \n",
              "116                   MiTi,GUGU  Perdón, Sarah: Bienvenido a nuestro Galaxy   \n",
              "234                    Lee Yeon                              Des/maquíllame   \n",
              "173                    Lee Yeon                    Sobreviviendo al romance   \n",
              "241                     Lee Hey                                Resurrección   \n",
              "192                     Lee Hey                            Un día de perros   \n",
              "235                    Jeongseo                            Querido fantasma   \n",
              "182                    Jeongseo                                     Aun así   \n",
              "228                          JH                                 El boxeador   \n",
              "147                          JH                                El horizonte   \n",
              "119                   Hongjacga                                     Delirio   \n",
              "185                   Hongjacga                     FLOWAR: Flores y Guerra   \n",
              "64                         HYBE                 Los buscadores de estrellas   \n",
              "78                         HYBE                              7FATES: CHAKHO   \n",
              "65                         HYBE                 DARK MOON: Altar de la Luna   \n",
              "300  Carnby Kim,Youngchan Hwang                                 Dulce hogar   \n",
              "313  Carnby Kim,Youngchan Hwang                                    Bastardo   \n",
              "\n",
              "            genre  \n",
              "315       ROMANCE  \n",
              "74        ROMANCE  \n",
              "174       ROMANCE  \n",
              "232        COMEDY  \n",
              "284       ROMANCE  \n",
              "273       TIPTOON  \n",
              "311       ROMANCE  \n",
              "89       THRILLER  \n",
              "261      THRILLER  \n",
              "43          DRAMA  \n",
              "236         DRAMA  \n",
              "116       TIPTOON  \n",
              "234       ROMANCE  \n",
              "173        HORROR  \n",
              "241       ROMANCE  \n",
              "192       ROMANCE  \n",
              "235  SUPERNATURAL  \n",
              "182       ROMANCE  \n",
              "228        SPORTS  \n",
              "147         DRAMA  \n",
              "119      THRILLER  \n",
              "185            SF  \n",
              "64        FANTASY  \n",
              "78        FANTASY  \n",
              "65        FANTASY  \n",
              "300      THRILLER  \n",
              "313      THRILLER  "
            ],
            "text/html": [
              "\n",
              "\n",
              "  <div id=\"df-08d75fa2-7aa0-4c3c-b202-a66e92d7f62c\">\n",
              "    <div class=\"colab-df-container\">\n",
              "      <div>\n",
              "<style scoped>\n",
              "    .dataframe tbody tr th:only-of-type {\n",
              "        vertical-align: middle;\n",
              "    }\n",
              "\n",
              "    .dataframe tbody tr th {\n",
              "        vertical-align: top;\n",
              "    }\n",
              "\n",
              "    .dataframe thead th {\n",
              "        text-align: right;\n",
              "    }\n",
              "</style>\n",
              "<table border=\"1\" class=\"dataframe\">\n",
              "  <thead>\n",
              "    <tr style=\"text-align: right;\">\n",
              "      <th></th>\n",
              "      <th>authors</th>\n",
              "      <th>title</th>\n",
              "      <th>genre</th>\n",
              "    </tr>\n",
              "  </thead>\n",
              "  <tbody>\n",
              "    <tr>\n",
              "      <th>315</th>\n",
              "      <td>instantmiso</td>\n",
              "      <td>El lamento de la sirena</td>\n",
              "      <td>ROMANCE</td>\n",
              "    </tr>\n",
              "    <tr>\n",
              "      <th>74</th>\n",
              "      <td>instantmiso</td>\n",
              "      <td>Devora sueños</td>\n",
              "      <td>ROMANCE</td>\n",
              "    </tr>\n",
              "    <tr>\n",
              "      <th>174</th>\n",
              "      <td>Xuann</td>\n",
              "      <td>¡Pretende que me amas!</td>\n",
              "      <td>ROMANCE</td>\n",
              "    </tr>\n",
              "    <tr>\n",
              "      <th>232</th>\n",
              "      <td>Xuann</td>\n",
              "      <td>El lobo y la caperucita roja</td>\n",
              "      <td>COMEDY</td>\n",
              "    </tr>\n",
              "    <tr>\n",
              "      <th>284</th>\n",
              "      <td>Varios artistas</td>\n",
              "      <td>AMOR[ES]</td>\n",
              "      <td>ROMANCE</td>\n",
              "    </tr>\n",
              "    <tr>\n",
              "      <th>273</th>\n",
              "      <td>Varios artistas</td>\n",
              "      <td>#TipsParaCuarentena</td>\n",
              "      <td>TIPTOON</td>\n",
              "    </tr>\n",
              "    <tr>\n",
              "      <th>311</th>\n",
              "      <td>Snailords</td>\n",
              "      <td>Maldito romance</td>\n",
              "      <td>ROMANCE</td>\n",
              "    </tr>\n",
              "    <tr>\n",
              "      <th>89</th>\n",
              "      <td>Snailords</td>\n",
              "      <td>Muerte: Reprogramada</td>\n",
              "      <td>THRILLER</td>\n",
              "    </tr>\n",
              "    <tr>\n",
              "      <th>261</th>\n",
              "      <td>Ryoung</td>\n",
              "      <td>#Killstagram</td>\n",
              "      <td>THRILLER</td>\n",
              "    </tr>\n",
              "    <tr>\n",
              "      <th>43</th>\n",
              "      <td>Ryoung</td>\n",
              "      <td>Belleza en un clic</td>\n",
              "      <td>DRAMA</td>\n",
              "    </tr>\n",
              "    <tr>\n",
              "      <th>236</th>\n",
              "      <td>MiTi,GUGU</td>\n",
              "      <td>Perdón, mamá</td>\n",
              "      <td>DRAMA</td>\n",
              "    </tr>\n",
              "    <tr>\n",
              "      <th>116</th>\n",
              "      <td>MiTi,GUGU</td>\n",
              "      <td>Perdón, Sarah: Bienvenido a nuestro Galaxy</td>\n",
              "      <td>TIPTOON</td>\n",
              "    </tr>\n",
              "    <tr>\n",
              "      <th>234</th>\n",
              "      <td>Lee Yeon</td>\n",
              "      <td>Des/maquíllame</td>\n",
              "      <td>ROMANCE</td>\n",
              "    </tr>\n",
              "    <tr>\n",
              "      <th>173</th>\n",
              "      <td>Lee Yeon</td>\n",
              "      <td>Sobreviviendo al romance</td>\n",
              "      <td>HORROR</td>\n",
              "    </tr>\n",
              "    <tr>\n",
              "      <th>241</th>\n",
              "      <td>Lee Hey</td>\n",
              "      <td>Resurrección</td>\n",
              "      <td>ROMANCE</td>\n",
              "    </tr>\n",
              "    <tr>\n",
              "      <th>192</th>\n",
              "      <td>Lee Hey</td>\n",
              "      <td>Un día de perros</td>\n",
              "      <td>ROMANCE</td>\n",
              "    </tr>\n",
              "    <tr>\n",
              "      <th>235</th>\n",
              "      <td>Jeongseo</td>\n",
              "      <td>Querido fantasma</td>\n",
              "      <td>SUPERNATURAL</td>\n",
              "    </tr>\n",
              "    <tr>\n",
              "      <th>182</th>\n",
              "      <td>Jeongseo</td>\n",
              "      <td>Aun así</td>\n",
              "      <td>ROMANCE</td>\n",
              "    </tr>\n",
              "    <tr>\n",
              "      <th>228</th>\n",
              "      <td>JH</td>\n",
              "      <td>El boxeador</td>\n",
              "      <td>SPORTS</td>\n",
              "    </tr>\n",
              "    <tr>\n",
              "      <th>147</th>\n",
              "      <td>JH</td>\n",
              "      <td>El horizonte</td>\n",
              "      <td>DRAMA</td>\n",
              "    </tr>\n",
              "    <tr>\n",
              "      <th>119</th>\n",
              "      <td>Hongjacga</td>\n",
              "      <td>Delirio</td>\n",
              "      <td>THRILLER</td>\n",
              "    </tr>\n",
              "    <tr>\n",
              "      <th>185</th>\n",
              "      <td>Hongjacga</td>\n",
              "      <td>FLOWAR: Flores y Guerra</td>\n",
              "      <td>SF</td>\n",
              "    </tr>\n",
              "    <tr>\n",
              "      <th>64</th>\n",
              "      <td>HYBE</td>\n",
              "      <td>Los buscadores de estrellas</td>\n",
              "      <td>FANTASY</td>\n",
              "    </tr>\n",
              "    <tr>\n",
              "      <th>78</th>\n",
              "      <td>HYBE</td>\n",
              "      <td>7FATES: CHAKHO</td>\n",
              "      <td>FANTASY</td>\n",
              "    </tr>\n",
              "    <tr>\n",
              "      <th>65</th>\n",
              "      <td>HYBE</td>\n",
              "      <td>DARK MOON: Altar de la Luna</td>\n",
              "      <td>FANTASY</td>\n",
              "    </tr>\n",
              "    <tr>\n",
              "      <th>300</th>\n",
              "      <td>Carnby Kim,Youngchan Hwang</td>\n",
              "      <td>Dulce hogar</td>\n",
              "      <td>THRILLER</td>\n",
              "    </tr>\n",
              "    <tr>\n",
              "      <th>313</th>\n",
              "      <td>Carnby Kim,Youngchan Hwang</td>\n",
              "      <td>Bastardo</td>\n",
              "      <td>THRILLER</td>\n",
              "    </tr>\n",
              "  </tbody>\n",
              "</table>\n",
              "</div>\n",
              "      <button class=\"colab-df-convert\" onclick=\"convertToInteractive('df-08d75fa2-7aa0-4c3c-b202-a66e92d7f62c')\"\n",
              "              title=\"Convert this dataframe to an interactive table.\"\n",
              "              style=\"display:none;\">\n",
              "\n",
              "  <svg xmlns=\"http://www.w3.org/2000/svg\" height=\"24px\"viewBox=\"0 0 24 24\"\n",
              "       width=\"24px\">\n",
              "    <path d=\"M0 0h24v24H0V0z\" fill=\"none\"/>\n",
              "    <path d=\"M18.56 5.44l.94 2.06.94-2.06 2.06-.94-2.06-.94-.94-2.06-.94 2.06-2.06.94zm-11 1L8.5 8.5l.94-2.06 2.06-.94-2.06-.94L8.5 2.5l-.94 2.06-2.06.94zm10 10l.94 2.06.94-2.06 2.06-.94-2.06-.94-.94-2.06-.94 2.06-2.06.94z\"/><path d=\"M17.41 7.96l-1.37-1.37c-.4-.4-.92-.59-1.43-.59-.52 0-1.04.2-1.43.59L10.3 9.45l-7.72 7.72c-.78.78-.78 2.05 0 2.83L4 21.41c.39.39.9.59 1.41.59.51 0 1.02-.2 1.41-.59l7.78-7.78 2.81-2.81c.8-.78.8-2.07 0-2.86zM5.41 20L4 18.59l7.72-7.72 1.47 1.35L5.41 20z\"/>\n",
              "  </svg>\n",
              "      </button>\n",
              "\n",
              "\n",
              "\n",
              "    <div id=\"df-e09c001a-9245-44f4-9b97-e72443cedb0e\">\n",
              "      <button class=\"colab-df-quickchart\" onclick=\"quickchart('df-e09c001a-9245-44f4-9b97-e72443cedb0e')\"\n",
              "              title=\"Suggest charts.\"\n",
              "              style=\"display:none;\">\n",
              "\n",
              "<svg xmlns=\"http://www.w3.org/2000/svg\" height=\"24px\"viewBox=\"0 0 24 24\"\n",
              "     width=\"24px\">\n",
              "    <g>\n",
              "        <path d=\"M19 3H5c-1.1 0-2 .9-2 2v14c0 1.1.9 2 2 2h14c1.1 0 2-.9 2-2V5c0-1.1-.9-2-2-2zM9 17H7v-7h2v7zm4 0h-2V7h2v10zm4 0h-2v-4h2v4z\"/>\n",
              "    </g>\n",
              "</svg>\n",
              "      </button>\n",
              "    </div>\n",
              "\n",
              "<style>\n",
              "  .colab-df-quickchart {\n",
              "    background-color: #E8F0FE;\n",
              "    border: none;\n",
              "    border-radius: 50%;\n",
              "    cursor: pointer;\n",
              "    display: none;\n",
              "    fill: #1967D2;\n",
              "    height: 32px;\n",
              "    padding: 0 0 0 0;\n",
              "    width: 32px;\n",
              "  }\n",
              "\n",
              "  .colab-df-quickchart:hover {\n",
              "    background-color: #E2EBFA;\n",
              "    box-shadow: 0px 1px 2px rgba(60, 64, 67, 0.3), 0px 1px 3px 1px rgba(60, 64, 67, 0.15);\n",
              "    fill: #174EA6;\n",
              "  }\n",
              "\n",
              "  [theme=dark] .colab-df-quickchart {\n",
              "    background-color: #3B4455;\n",
              "    fill: #D2E3FC;\n",
              "  }\n",
              "\n",
              "  [theme=dark] .colab-df-quickchart:hover {\n",
              "    background-color: #434B5C;\n",
              "    box-shadow: 0px 1px 3px 1px rgba(0, 0, 0, 0.15);\n",
              "    filter: drop-shadow(0px 1px 2px rgba(0, 0, 0, 0.3));\n",
              "    fill: #FFFFFF;\n",
              "  }\n",
              "</style>\n",
              "\n",
              "    <script>\n",
              "      async function quickchart(key) {\n",
              "        const containerElement = document.querySelector('#' + key);\n",
              "        const charts = await google.colab.kernel.invokeFunction(\n",
              "            'suggestCharts', [key], {});\n",
              "      }\n",
              "    </script>\n",
              "\n",
              "      <script>\n",
              "\n",
              "function displayQuickchartButton(domScope) {\n",
              "  let quickchartButtonEl =\n",
              "    domScope.querySelector('#df-e09c001a-9245-44f4-9b97-e72443cedb0e button.colab-df-quickchart');\n",
              "  quickchartButtonEl.style.display =\n",
              "    google.colab.kernel.accessAllowed ? 'block' : 'none';\n",
              "}\n",
              "\n",
              "        displayQuickchartButton(document);\n",
              "      </script>\n",
              "      <style>\n",
              "    .colab-df-container {\n",
              "      display:flex;\n",
              "      flex-wrap:wrap;\n",
              "      gap: 12px;\n",
              "    }\n",
              "\n",
              "    .colab-df-convert {\n",
              "      background-color: #E8F0FE;\n",
              "      border: none;\n",
              "      border-radius: 50%;\n",
              "      cursor: pointer;\n",
              "      display: none;\n",
              "      fill: #1967D2;\n",
              "      height: 32px;\n",
              "      padding: 0 0 0 0;\n",
              "      width: 32px;\n",
              "    }\n",
              "\n",
              "    .colab-df-convert:hover {\n",
              "      background-color: #E2EBFA;\n",
              "      box-shadow: 0px 1px 2px rgba(60, 64, 67, 0.3), 0px 1px 3px 1px rgba(60, 64, 67, 0.15);\n",
              "      fill: #174EA6;\n",
              "    }\n",
              "\n",
              "    [theme=dark] .colab-df-convert {\n",
              "      background-color: #3B4455;\n",
              "      fill: #D2E3FC;\n",
              "    }\n",
              "\n",
              "    [theme=dark] .colab-df-convert:hover {\n",
              "      background-color: #434B5C;\n",
              "      box-shadow: 0px 1px 3px 1px rgba(0, 0, 0, 0.15);\n",
              "      filter: drop-shadow(0px 1px 2px rgba(0, 0, 0, 0.3));\n",
              "      fill: #FFFFFF;\n",
              "    }\n",
              "  </style>\n",
              "\n",
              "      <script>\n",
              "        const buttonEl =\n",
              "          document.querySelector('#df-08d75fa2-7aa0-4c3c-b202-a66e92d7f62c button.colab-df-convert');\n",
              "        buttonEl.style.display =\n",
              "          google.colab.kernel.accessAllowed ? 'block' : 'none';\n",
              "\n",
              "        async function convertToInteractive(key) {\n",
              "          const element = document.querySelector('#df-08d75fa2-7aa0-4c3c-b202-a66e92d7f62c');\n",
              "          const dataTable =\n",
              "            await google.colab.kernel.invokeFunction('convertToInteractive',\n",
              "                                                     [key], {});\n",
              "          if (!dataTable) return;\n",
              "\n",
              "          const docLinkHtml = 'Like what you see? Visit the ' +\n",
              "            '<a target=\"_blank\" href=https://colab.research.google.com/notebooks/data_table.ipynb>data table notebook</a>'\n",
              "            + ' to learn more about interactive tables.';\n",
              "          element.innerHTML = '';\n",
              "          dataTable['output_type'] = 'display_data';\n",
              "          await google.colab.output.renderOutput(dataTable, element);\n",
              "          const docLink = document.createElement('div');\n",
              "          docLink.innerHTML = docLinkHtml;\n",
              "          element.appendChild(docLink);\n",
              "        }\n",
              "      </script>\n",
              "    </div>\n",
              "  </div>\n"
            ]
          },
          "metadata": {},
          "execution_count": 120
        }
      ]
    },
    {
      "cell_type": "code",
      "source": [
        "data.groupby('genre')['authors'].count()"
      ],
      "metadata": {
        "colab": {
          "base_uri": "https://localhost:8080/"
        },
        "id": "PV8TOnDfiNsl",
        "outputId": "30e79074-612e-46ad-d8e5-982dfb1710d1"
      },
      "execution_count": 211,
      "outputs": [
        {
          "output_type": "execute_result",
          "data": {
            "text/plain": [
              "genre\n",
              "ACTION            21\n",
              "COMEDY            19\n",
              "DRAMA             38\n",
              "FANTASY           43\n",
              "HISTORICAL         2\n",
              "HORROR            14\n",
              "ROMANCE          123\n",
              "SF                 6\n",
              "SLICE_OF_LIFE      8\n",
              "SPORTS             3\n",
              "SUPERNATURAL       9\n",
              "SUPER_HERO         4\n",
              "THRILLER          24\n",
              "TIPTOON            3\n",
              "Name: authors, dtype: int64"
            ]
          },
          "metadata": {},
          "execution_count": 211
        }
      ]
    },
    {
      "cell_type": "code",
      "source": [
        "# Filtrar los autores únicos por género y obra\n",
        "filtered_data = data.drop_duplicates(subset=['authors', 'genre'])\n",
        "\n",
        "# Calcular la cantidad de autores por género\n",
        "authors_per_genre = filtered_data.groupby('genre')['authors'].count()\n",
        "authors_per_genre"
      ],
      "metadata": {
        "colab": {
          "base_uri": "https://localhost:8080/"
        },
        "id": "PUOf9OSrcvcg",
        "outputId": "dc86415a-0233-4a3e-9c1b-74a584b3b724"
      },
      "execution_count": 212,
      "outputs": [
        {
          "output_type": "execute_result",
          "data": {
            "text/plain": [
              "genre\n",
              "ACTION            21\n",
              "COMEDY            19\n",
              "DRAMA             38\n",
              "FANTASY           41\n",
              "HISTORICAL         2\n",
              "HORROR            14\n",
              "ROMANCE          121\n",
              "SF                 6\n",
              "SLICE_OF_LIFE      8\n",
              "SPORTS             3\n",
              "SUPERNATURAL       9\n",
              "SUPER_HERO         4\n",
              "THRILLER          23\n",
              "TIPTOON            3\n",
              "Name: authors, dtype: int64"
            ]
          },
          "metadata": {},
          "execution_count": 212
        }
      ]
    },
    {
      "cell_type": "code",
      "source": [
        "authors_per_genre=authors_per_genre.reset_index(name='authors')\n",
        "authors_per_genre"
      ],
      "metadata": {
        "colab": {
          "base_uri": "https://localhost:8080/",
          "height": 488
        },
        "id": "7hhw4Qcto9zs",
        "outputId": "dbbbb5a3-096c-4695-a991-a42ff59fc164"
      },
      "execution_count": 213,
      "outputs": [
        {
          "output_type": "execute_result",
          "data": {
            "text/plain": [
              "            genre  authors\n",
              "0          ACTION       21\n",
              "1          COMEDY       19\n",
              "2           DRAMA       38\n",
              "3         FANTASY       41\n",
              "4      HISTORICAL        2\n",
              "5          HORROR       14\n",
              "6         ROMANCE      121\n",
              "7              SF        6\n",
              "8   SLICE_OF_LIFE        8\n",
              "9          SPORTS        3\n",
              "10   SUPERNATURAL        9\n",
              "11     SUPER_HERO        4\n",
              "12       THRILLER       23\n",
              "13        TIPTOON        3"
            ],
            "text/html": [
              "\n",
              "\n",
              "  <div id=\"df-7e212e45-04a6-44fd-9cb8-7066b87c5254\">\n",
              "    <div class=\"colab-df-container\">\n",
              "      <div>\n",
              "<style scoped>\n",
              "    .dataframe tbody tr th:only-of-type {\n",
              "        vertical-align: middle;\n",
              "    }\n",
              "\n",
              "    .dataframe tbody tr th {\n",
              "        vertical-align: top;\n",
              "    }\n",
              "\n",
              "    .dataframe thead th {\n",
              "        text-align: right;\n",
              "    }\n",
              "</style>\n",
              "<table border=\"1\" class=\"dataframe\">\n",
              "  <thead>\n",
              "    <tr style=\"text-align: right;\">\n",
              "      <th></th>\n",
              "      <th>genre</th>\n",
              "      <th>authors</th>\n",
              "    </tr>\n",
              "  </thead>\n",
              "  <tbody>\n",
              "    <tr>\n",
              "      <th>0</th>\n",
              "      <td>ACTION</td>\n",
              "      <td>21</td>\n",
              "    </tr>\n",
              "    <tr>\n",
              "      <th>1</th>\n",
              "      <td>COMEDY</td>\n",
              "      <td>19</td>\n",
              "    </tr>\n",
              "    <tr>\n",
              "      <th>2</th>\n",
              "      <td>DRAMA</td>\n",
              "      <td>38</td>\n",
              "    </tr>\n",
              "    <tr>\n",
              "      <th>3</th>\n",
              "      <td>FANTASY</td>\n",
              "      <td>41</td>\n",
              "    </tr>\n",
              "    <tr>\n",
              "      <th>4</th>\n",
              "      <td>HISTORICAL</td>\n",
              "      <td>2</td>\n",
              "    </tr>\n",
              "    <tr>\n",
              "      <th>5</th>\n",
              "      <td>HORROR</td>\n",
              "      <td>14</td>\n",
              "    </tr>\n",
              "    <tr>\n",
              "      <th>6</th>\n",
              "      <td>ROMANCE</td>\n",
              "      <td>121</td>\n",
              "    </tr>\n",
              "    <tr>\n",
              "      <th>7</th>\n",
              "      <td>SF</td>\n",
              "      <td>6</td>\n",
              "    </tr>\n",
              "    <tr>\n",
              "      <th>8</th>\n",
              "      <td>SLICE_OF_LIFE</td>\n",
              "      <td>8</td>\n",
              "    </tr>\n",
              "    <tr>\n",
              "      <th>9</th>\n",
              "      <td>SPORTS</td>\n",
              "      <td>3</td>\n",
              "    </tr>\n",
              "    <tr>\n",
              "      <th>10</th>\n",
              "      <td>SUPERNATURAL</td>\n",
              "      <td>9</td>\n",
              "    </tr>\n",
              "    <tr>\n",
              "      <th>11</th>\n",
              "      <td>SUPER_HERO</td>\n",
              "      <td>4</td>\n",
              "    </tr>\n",
              "    <tr>\n",
              "      <th>12</th>\n",
              "      <td>THRILLER</td>\n",
              "      <td>23</td>\n",
              "    </tr>\n",
              "    <tr>\n",
              "      <th>13</th>\n",
              "      <td>TIPTOON</td>\n",
              "      <td>3</td>\n",
              "    </tr>\n",
              "  </tbody>\n",
              "</table>\n",
              "</div>\n",
              "      <button class=\"colab-df-convert\" onclick=\"convertToInteractive('df-7e212e45-04a6-44fd-9cb8-7066b87c5254')\"\n",
              "              title=\"Convert this dataframe to an interactive table.\"\n",
              "              style=\"display:none;\">\n",
              "\n",
              "  <svg xmlns=\"http://www.w3.org/2000/svg\" height=\"24px\"viewBox=\"0 0 24 24\"\n",
              "       width=\"24px\">\n",
              "    <path d=\"M0 0h24v24H0V0z\" fill=\"none\"/>\n",
              "    <path d=\"M18.56 5.44l.94 2.06.94-2.06 2.06-.94-2.06-.94-.94-2.06-.94 2.06-2.06.94zm-11 1L8.5 8.5l.94-2.06 2.06-.94-2.06-.94L8.5 2.5l-.94 2.06-2.06.94zm10 10l.94 2.06.94-2.06 2.06-.94-2.06-.94-.94-2.06-.94 2.06-2.06.94z\"/><path d=\"M17.41 7.96l-1.37-1.37c-.4-.4-.92-.59-1.43-.59-.52 0-1.04.2-1.43.59L10.3 9.45l-7.72 7.72c-.78.78-.78 2.05 0 2.83L4 21.41c.39.39.9.59 1.41.59.51 0 1.02-.2 1.41-.59l7.78-7.78 2.81-2.81c.8-.78.8-2.07 0-2.86zM5.41 20L4 18.59l7.72-7.72 1.47 1.35L5.41 20z\"/>\n",
              "  </svg>\n",
              "      </button>\n",
              "\n",
              "\n",
              "\n",
              "    <div id=\"df-5e794dac-224d-4e3c-a2ad-da0597a106af\">\n",
              "      <button class=\"colab-df-quickchart\" onclick=\"quickchart('df-5e794dac-224d-4e3c-a2ad-da0597a106af')\"\n",
              "              title=\"Suggest charts.\"\n",
              "              style=\"display:none;\">\n",
              "\n",
              "<svg xmlns=\"http://www.w3.org/2000/svg\" height=\"24px\"viewBox=\"0 0 24 24\"\n",
              "     width=\"24px\">\n",
              "    <g>\n",
              "        <path d=\"M19 3H5c-1.1 0-2 .9-2 2v14c0 1.1.9 2 2 2h14c1.1 0 2-.9 2-2V5c0-1.1-.9-2-2-2zM9 17H7v-7h2v7zm4 0h-2V7h2v10zm4 0h-2v-4h2v4z\"/>\n",
              "    </g>\n",
              "</svg>\n",
              "      </button>\n",
              "    </div>\n",
              "\n",
              "<style>\n",
              "  .colab-df-quickchart {\n",
              "    background-color: #E8F0FE;\n",
              "    border: none;\n",
              "    border-radius: 50%;\n",
              "    cursor: pointer;\n",
              "    display: none;\n",
              "    fill: #1967D2;\n",
              "    height: 32px;\n",
              "    padding: 0 0 0 0;\n",
              "    width: 32px;\n",
              "  }\n",
              "\n",
              "  .colab-df-quickchart:hover {\n",
              "    background-color: #E2EBFA;\n",
              "    box-shadow: 0px 1px 2px rgba(60, 64, 67, 0.3), 0px 1px 3px 1px rgba(60, 64, 67, 0.15);\n",
              "    fill: #174EA6;\n",
              "  }\n",
              "\n",
              "  [theme=dark] .colab-df-quickchart {\n",
              "    background-color: #3B4455;\n",
              "    fill: #D2E3FC;\n",
              "  }\n",
              "\n",
              "  [theme=dark] .colab-df-quickchart:hover {\n",
              "    background-color: #434B5C;\n",
              "    box-shadow: 0px 1px 3px 1px rgba(0, 0, 0, 0.15);\n",
              "    filter: drop-shadow(0px 1px 2px rgba(0, 0, 0, 0.3));\n",
              "    fill: #FFFFFF;\n",
              "  }\n",
              "</style>\n",
              "\n",
              "    <script>\n",
              "      async function quickchart(key) {\n",
              "        const containerElement = document.querySelector('#' + key);\n",
              "        const charts = await google.colab.kernel.invokeFunction(\n",
              "            'suggestCharts', [key], {});\n",
              "      }\n",
              "    </script>\n",
              "\n",
              "      <script>\n",
              "\n",
              "function displayQuickchartButton(domScope) {\n",
              "  let quickchartButtonEl =\n",
              "    domScope.querySelector('#df-5e794dac-224d-4e3c-a2ad-da0597a106af button.colab-df-quickchart');\n",
              "  quickchartButtonEl.style.display =\n",
              "    google.colab.kernel.accessAllowed ? 'block' : 'none';\n",
              "}\n",
              "\n",
              "        displayQuickchartButton(document);\n",
              "      </script>\n",
              "      <style>\n",
              "    .colab-df-container {\n",
              "      display:flex;\n",
              "      flex-wrap:wrap;\n",
              "      gap: 12px;\n",
              "    }\n",
              "\n",
              "    .colab-df-convert {\n",
              "      background-color: #E8F0FE;\n",
              "      border: none;\n",
              "      border-radius: 50%;\n",
              "      cursor: pointer;\n",
              "      display: none;\n",
              "      fill: #1967D2;\n",
              "      height: 32px;\n",
              "      padding: 0 0 0 0;\n",
              "      width: 32px;\n",
              "    }\n",
              "\n",
              "    .colab-df-convert:hover {\n",
              "      background-color: #E2EBFA;\n",
              "      box-shadow: 0px 1px 2px rgba(60, 64, 67, 0.3), 0px 1px 3px 1px rgba(60, 64, 67, 0.15);\n",
              "      fill: #174EA6;\n",
              "    }\n",
              "\n",
              "    [theme=dark] .colab-df-convert {\n",
              "      background-color: #3B4455;\n",
              "      fill: #D2E3FC;\n",
              "    }\n",
              "\n",
              "    [theme=dark] .colab-df-convert:hover {\n",
              "      background-color: #434B5C;\n",
              "      box-shadow: 0px 1px 3px 1px rgba(0, 0, 0, 0.15);\n",
              "      filter: drop-shadow(0px 1px 2px rgba(0, 0, 0, 0.3));\n",
              "      fill: #FFFFFF;\n",
              "    }\n",
              "  </style>\n",
              "\n",
              "      <script>\n",
              "        const buttonEl =\n",
              "          document.querySelector('#df-7e212e45-04a6-44fd-9cb8-7066b87c5254 button.colab-df-convert');\n",
              "        buttonEl.style.display =\n",
              "          google.colab.kernel.accessAllowed ? 'block' : 'none';\n",
              "\n",
              "        async function convertToInteractive(key) {\n",
              "          const element = document.querySelector('#df-7e212e45-04a6-44fd-9cb8-7066b87c5254');\n",
              "          const dataTable =\n",
              "            await google.colab.kernel.invokeFunction('convertToInteractive',\n",
              "                                                     [key], {});\n",
              "          if (!dataTable) return;\n",
              "\n",
              "          const docLinkHtml = 'Like what you see? Visit the ' +\n",
              "            '<a target=\"_blank\" href=https://colab.research.google.com/notebooks/data_table.ipynb>data table notebook</a>'\n",
              "            + ' to learn more about interactive tables.';\n",
              "          element.innerHTML = '';\n",
              "          dataTable['output_type'] = 'display_data';\n",
              "          await google.colab.output.renderOutput(dataTable, element);\n",
              "          const docLink = document.createElement('div');\n",
              "          docLink.innerHTML = docLinkHtml;\n",
              "          element.appendChild(docLink);\n",
              "        }\n",
              "      </script>\n",
              "    </div>\n",
              "  </div>\n"
            ]
          },
          "metadata": {},
          "execution_count": 213
        }
      ]
    },
    {
      "cell_type": "markdown",
      "source": [
        "###Identificación y corrección de nulos"
      ],
      "metadata": {
        "id": "EbIWolYRyv78"
      }
    },
    {
      "cell_type": "code",
      "source": [
        "data.isnull().sum()"
      ],
      "metadata": {
        "colab": {
          "base_uri": "https://localhost:8080/"
        },
        "id": "3VEudyr3AGmX",
        "outputId": "3821b4fb-83f1-4474-98dc-318e55d388ef"
      },
      "execution_count": 123,
      "outputs": [
        {
          "output_type": "execute_result",
          "data": {
            "text/plain": [
              "title_id       0\n",
              "title          0\n",
              "imagen_url     0\n",
              "pag_url        0\n",
              "genre          0\n",
              "authors        1\n",
              "weekdays       0\n",
              "length         0\n",
              "subscribers    0\n",
              "rating         0\n",
              "views          0\n",
              "likes          0\n",
              "status         0\n",
              "daily_pass     0\n",
              "synopsis       0\n",
              "dtype: int64"
            ]
          },
          "metadata": {},
          "execution_count": 123
        }
      ]
    },
    {
      "cell_type": "code",
      "source": [
        "data[data.isnull().any(axis=1)]"
      ],
      "metadata": {
        "colab": {
          "base_uri": "https://localhost:8080/",
          "height": 232
        },
        "id": "_9FHj1KqBqZX",
        "outputId": "aadbf024-44fc-43cc-8aa0-31b271446c05"
      },
      "execution_count": 124,
      "outputs": [
        {
          "output_type": "execute_result",
          "data": {
            "text/plain": [
              "    title_id                                title  \\\n",
              "90      3693  Mi compañero de cuarto es un kumiho   \n",
              "\n",
              "                                           imagen_url  \\\n",
              "90  https://swebtoon-phinf.pstatic.net/20211207_10...   \n",
              "\n",
              "                                              pag_url    genre authors  \\\n",
              "90  https://www.webtoons.com/es/romance/my-roommat...  ROMANCE     NaN   \n",
              "\n",
              "            weekdays  length  subscribers  rating    views    likes   status  \\\n",
              "90  MONDAY,WEDNESDAY      78       206320    9.75  8034860  1301961  ONGOING   \n",
              "\n",
              "    daily_pass                                           synopsis  \n",
              "90       False  Ahora una serie popular de acción real.\\nEn ot...  "
            ],
            "text/html": [
              "\n",
              "\n",
              "  <div id=\"df-3d4dfd43-a92b-4da1-8f8b-b3a810dab8b1\">\n",
              "    <div class=\"colab-df-container\">\n",
              "      <div>\n",
              "<style scoped>\n",
              "    .dataframe tbody tr th:only-of-type {\n",
              "        vertical-align: middle;\n",
              "    }\n",
              "\n",
              "    .dataframe tbody tr th {\n",
              "        vertical-align: top;\n",
              "    }\n",
              "\n",
              "    .dataframe thead th {\n",
              "        text-align: right;\n",
              "    }\n",
              "</style>\n",
              "<table border=\"1\" class=\"dataframe\">\n",
              "  <thead>\n",
              "    <tr style=\"text-align: right;\">\n",
              "      <th></th>\n",
              "      <th>title_id</th>\n",
              "      <th>title</th>\n",
              "      <th>imagen_url</th>\n",
              "      <th>pag_url</th>\n",
              "      <th>genre</th>\n",
              "      <th>authors</th>\n",
              "      <th>weekdays</th>\n",
              "      <th>length</th>\n",
              "      <th>subscribers</th>\n",
              "      <th>rating</th>\n",
              "      <th>views</th>\n",
              "      <th>likes</th>\n",
              "      <th>status</th>\n",
              "      <th>daily_pass</th>\n",
              "      <th>synopsis</th>\n",
              "    </tr>\n",
              "  </thead>\n",
              "  <tbody>\n",
              "    <tr>\n",
              "      <th>90</th>\n",
              "      <td>3693</td>\n",
              "      <td>Mi compañero de cuarto es un kumiho</td>\n",
              "      <td>https://swebtoon-phinf.pstatic.net/20211207_10...</td>\n",
              "      <td>https://www.webtoons.com/es/romance/my-roommat...</td>\n",
              "      <td>ROMANCE</td>\n",
              "      <td>NaN</td>\n",
              "      <td>MONDAY,WEDNESDAY</td>\n",
              "      <td>78</td>\n",
              "      <td>206320</td>\n",
              "      <td>9.75</td>\n",
              "      <td>8034860</td>\n",
              "      <td>1301961</td>\n",
              "      <td>ONGOING</td>\n",
              "      <td>False</td>\n",
              "      <td>Ahora una serie popular de acción real.\\nEn ot...</td>\n",
              "    </tr>\n",
              "  </tbody>\n",
              "</table>\n",
              "</div>\n",
              "      <button class=\"colab-df-convert\" onclick=\"convertToInteractive('df-3d4dfd43-a92b-4da1-8f8b-b3a810dab8b1')\"\n",
              "              title=\"Convert this dataframe to an interactive table.\"\n",
              "              style=\"display:none;\">\n",
              "\n",
              "  <svg xmlns=\"http://www.w3.org/2000/svg\" height=\"24px\"viewBox=\"0 0 24 24\"\n",
              "       width=\"24px\">\n",
              "    <path d=\"M0 0h24v24H0V0z\" fill=\"none\"/>\n",
              "    <path d=\"M18.56 5.44l.94 2.06.94-2.06 2.06-.94-2.06-.94-.94-2.06-.94 2.06-2.06.94zm-11 1L8.5 8.5l.94-2.06 2.06-.94-2.06-.94L8.5 2.5l-.94 2.06-2.06.94zm10 10l.94 2.06.94-2.06 2.06-.94-2.06-.94-.94-2.06-.94 2.06-2.06.94z\"/><path d=\"M17.41 7.96l-1.37-1.37c-.4-.4-.92-.59-1.43-.59-.52 0-1.04.2-1.43.59L10.3 9.45l-7.72 7.72c-.78.78-.78 2.05 0 2.83L4 21.41c.39.39.9.59 1.41.59.51 0 1.02-.2 1.41-.59l7.78-7.78 2.81-2.81c.8-.78.8-2.07 0-2.86zM5.41 20L4 18.59l7.72-7.72 1.47 1.35L5.41 20z\"/>\n",
              "  </svg>\n",
              "      </button>\n",
              "\n",
              "\n",
              "\n",
              "    <div id=\"df-f112027d-4144-4f7d-8c6b-663b4388cd7a\">\n",
              "      <button class=\"colab-df-quickchart\" onclick=\"quickchart('df-f112027d-4144-4f7d-8c6b-663b4388cd7a')\"\n",
              "              title=\"Suggest charts.\"\n",
              "              style=\"display:none;\">\n",
              "\n",
              "<svg xmlns=\"http://www.w3.org/2000/svg\" height=\"24px\"viewBox=\"0 0 24 24\"\n",
              "     width=\"24px\">\n",
              "    <g>\n",
              "        <path d=\"M19 3H5c-1.1 0-2 .9-2 2v14c0 1.1.9 2 2 2h14c1.1 0 2-.9 2-2V5c0-1.1-.9-2-2-2zM9 17H7v-7h2v7zm4 0h-2V7h2v10zm4 0h-2v-4h2v4z\"/>\n",
              "    </g>\n",
              "</svg>\n",
              "      </button>\n",
              "    </div>\n",
              "\n",
              "<style>\n",
              "  .colab-df-quickchart {\n",
              "    background-color: #E8F0FE;\n",
              "    border: none;\n",
              "    border-radius: 50%;\n",
              "    cursor: pointer;\n",
              "    display: none;\n",
              "    fill: #1967D2;\n",
              "    height: 32px;\n",
              "    padding: 0 0 0 0;\n",
              "    width: 32px;\n",
              "  }\n",
              "\n",
              "  .colab-df-quickchart:hover {\n",
              "    background-color: #E2EBFA;\n",
              "    box-shadow: 0px 1px 2px rgba(60, 64, 67, 0.3), 0px 1px 3px 1px rgba(60, 64, 67, 0.15);\n",
              "    fill: #174EA6;\n",
              "  }\n",
              "\n",
              "  [theme=dark] .colab-df-quickchart {\n",
              "    background-color: #3B4455;\n",
              "    fill: #D2E3FC;\n",
              "  }\n",
              "\n",
              "  [theme=dark] .colab-df-quickchart:hover {\n",
              "    background-color: #434B5C;\n",
              "    box-shadow: 0px 1px 3px 1px rgba(0, 0, 0, 0.15);\n",
              "    filter: drop-shadow(0px 1px 2px rgba(0, 0, 0, 0.3));\n",
              "    fill: #FFFFFF;\n",
              "  }\n",
              "</style>\n",
              "\n",
              "    <script>\n",
              "      async function quickchart(key) {\n",
              "        const containerElement = document.querySelector('#' + key);\n",
              "        const charts = await google.colab.kernel.invokeFunction(\n",
              "            'suggestCharts', [key], {});\n",
              "      }\n",
              "    </script>\n",
              "\n",
              "      <script>\n",
              "\n",
              "function displayQuickchartButton(domScope) {\n",
              "  let quickchartButtonEl =\n",
              "    domScope.querySelector('#df-f112027d-4144-4f7d-8c6b-663b4388cd7a button.colab-df-quickchart');\n",
              "  quickchartButtonEl.style.display =\n",
              "    google.colab.kernel.accessAllowed ? 'block' : 'none';\n",
              "}\n",
              "\n",
              "        displayQuickchartButton(document);\n",
              "      </script>\n",
              "      <style>\n",
              "    .colab-df-container {\n",
              "      display:flex;\n",
              "      flex-wrap:wrap;\n",
              "      gap: 12px;\n",
              "    }\n",
              "\n",
              "    .colab-df-convert {\n",
              "      background-color: #E8F0FE;\n",
              "      border: none;\n",
              "      border-radius: 50%;\n",
              "      cursor: pointer;\n",
              "      display: none;\n",
              "      fill: #1967D2;\n",
              "      height: 32px;\n",
              "      padding: 0 0 0 0;\n",
              "      width: 32px;\n",
              "    }\n",
              "\n",
              "    .colab-df-convert:hover {\n",
              "      background-color: #E2EBFA;\n",
              "      box-shadow: 0px 1px 2px rgba(60, 64, 67, 0.3), 0px 1px 3px 1px rgba(60, 64, 67, 0.15);\n",
              "      fill: #174EA6;\n",
              "    }\n",
              "\n",
              "    [theme=dark] .colab-df-convert {\n",
              "      background-color: #3B4455;\n",
              "      fill: #D2E3FC;\n",
              "    }\n",
              "\n",
              "    [theme=dark] .colab-df-convert:hover {\n",
              "      background-color: #434B5C;\n",
              "      box-shadow: 0px 1px 3px 1px rgba(0, 0, 0, 0.15);\n",
              "      filter: drop-shadow(0px 1px 2px rgba(0, 0, 0, 0.3));\n",
              "      fill: #FFFFFF;\n",
              "    }\n",
              "  </style>\n",
              "\n",
              "      <script>\n",
              "        const buttonEl =\n",
              "          document.querySelector('#df-3d4dfd43-a92b-4da1-8f8b-b3a810dab8b1 button.colab-df-convert');\n",
              "        buttonEl.style.display =\n",
              "          google.colab.kernel.accessAllowed ? 'block' : 'none';\n",
              "\n",
              "        async function convertToInteractive(key) {\n",
              "          const element = document.querySelector('#df-3d4dfd43-a92b-4da1-8f8b-b3a810dab8b1');\n",
              "          const dataTable =\n",
              "            await google.colab.kernel.invokeFunction('convertToInteractive',\n",
              "                                                     [key], {});\n",
              "          if (!dataTable) return;\n",
              "\n",
              "          const docLinkHtml = 'Like what you see? Visit the ' +\n",
              "            '<a target=\"_blank\" href=https://colab.research.google.com/notebooks/data_table.ipynb>data table notebook</a>'\n",
              "            + ' to learn more about interactive tables.';\n",
              "          element.innerHTML = '';\n",
              "          dataTable['output_type'] = 'display_data';\n",
              "          await google.colab.output.renderOutput(dataTable, element);\n",
              "          const docLink = document.createElement('div');\n",
              "          docLink.innerHTML = docLinkHtml;\n",
              "          element.appendChild(docLink);\n",
              "        }\n",
              "      </script>\n",
              "    </div>\n",
              "  </div>\n"
            ]
          },
          "metadata": {},
          "execution_count": 124
        }
      ]
    },
    {
      "cell_type": "markdown",
      "source": [
        "Investigando se identifico que alias del autor es NA, sin embargo, python lo esta considerando como nulo, por lo que se reemplazara por otro nombre"
      ],
      "metadata": {
        "id": "VyCwiIEGCv8G"
      }
    },
    {
      "cell_type": "code",
      "source": [
        "data.loc[90,'authors']"
      ],
      "metadata": {
        "colab": {
          "base_uri": "https://localhost:8080/"
        },
        "id": "UxFlKFvbDhtO",
        "outputId": "275088a3-2e69-41bd-fac9-9d817fd26d28"
      },
      "execution_count": 125,
      "outputs": [
        {
          "output_type": "execute_result",
          "data": {
            "text/plain": [
              "nan"
            ]
          },
          "metadata": {},
          "execution_count": 125
        }
      ]
    },
    {
      "cell_type": "code",
      "source": [
        "data.loc[90,'authors']='Na'"
      ],
      "metadata": {
        "id": "w-MJATebEG7z"
      },
      "execution_count": 126,
      "outputs": []
    },
    {
      "cell_type": "code",
      "source": [
        "data.loc[90,:]"
      ],
      "metadata": {
        "colab": {
          "base_uri": "https://localhost:8080/"
        },
        "id": "IDBGR219EOqT",
        "outputId": "d46851e6-5ade-4e69-e094-e033cc6e44c0"
      },
      "execution_count": 127,
      "outputs": [
        {
          "output_type": "execute_result",
          "data": {
            "text/plain": [
              "title_id                                                    3693\n",
              "title                        Mi compañero de cuarto es un kumiho\n",
              "imagen_url     https://swebtoon-phinf.pstatic.net/20211207_10...\n",
              "pag_url        https://www.webtoons.com/es/romance/my-roommat...\n",
              "genre                                                    ROMANCE\n",
              "authors                                                       Na\n",
              "weekdays                                        MONDAY,WEDNESDAY\n",
              "length                                                        78\n",
              "subscribers                                               206320\n",
              "rating                                                      9.75\n",
              "views                                                    8034860\n",
              "likes                                                    1301961\n",
              "status                                                   ONGOING\n",
              "daily_pass                                                 False\n",
              "synopsis       Ahora una serie popular de acción real.\\nEn ot...\n",
              "Name: 90, dtype: object"
            ]
          },
          "metadata": {},
          "execution_count": 127
        }
      ]
    },
    {
      "cell_type": "code",
      "source": [
        "data.isnull().sum()"
      ],
      "metadata": {
        "colab": {
          "base_uri": "https://localhost:8080/"
        },
        "id": "t9fsFzeYE-On",
        "outputId": "c2357143-cf1d-4417-d1f6-b3bbb404073d"
      },
      "execution_count": 128,
      "outputs": [
        {
          "output_type": "execute_result",
          "data": {
            "text/plain": [
              "title_id       0\n",
              "title          0\n",
              "imagen_url     0\n",
              "pag_url        0\n",
              "genre          0\n",
              "authors        0\n",
              "weekdays       0\n",
              "length         0\n",
              "subscribers    0\n",
              "rating         0\n",
              "views          0\n",
              "likes          0\n",
              "status         0\n",
              "daily_pass     0\n",
              "synopsis       0\n",
              "dtype: int64"
            ]
          },
          "metadata": {},
          "execution_count": 128
        }
      ]
    },
    {
      "cell_type": "code",
      "source": [
        "data.value_counts('authors')"
      ],
      "metadata": {
        "colab": {
          "base_uri": "https://localhost:8080/"
        },
        "id": "pnUnGsys_29o",
        "outputId": "01c96a2d-1ab6-4932-95f8-620a20875f3b"
      },
      "execution_count": 129,
      "outputs": [
        {
          "output_type": "execute_result",
          "data": {
            "text/plain": [
              "authors\n",
              "HYBE                         3\n",
              "Snailords                    2\n",
              "MiTi,GUGU                    2\n",
              "Jeongseo                     2\n",
              "Hongjacga                    2\n",
              "                            ..\n",
              "Hyungwook Shin,Sunhee Kim    1\n",
              "Hyun hoo Joo,Kumtata         1\n",
              "Hyeon A Cho                  1\n",
              "Hwang Han-yeong,I-room       1\n",
              "uru-chan                     1\n",
              "Length: 303, dtype: int64"
            ]
          },
          "metadata": {},
          "execution_count": 129
        }
      ]
    },
    {
      "cell_type": "code",
      "source": [
        "data.value_counts('genre')"
      ],
      "metadata": {
        "colab": {
          "base_uri": "https://localhost:8080/"
        },
        "id": "kS-GNBr2_j-G",
        "outputId": "c9c610e9-3985-4c03-b766-59eeb620d651"
      },
      "execution_count": 130,
      "outputs": [
        {
          "output_type": "execute_result",
          "data": {
            "text/plain": [
              "genre\n",
              "ROMANCE          123\n",
              "FANTASY           43\n",
              "DRAMA             38\n",
              "THRILLER          24\n",
              "ACTION            21\n",
              "COMEDY            19\n",
              "HORROR            14\n",
              "SUPERNATURAL       9\n",
              "SLICE_OF_LIFE      8\n",
              "SF                 6\n",
              "SUPER_HERO         4\n",
              "SPORTS             3\n",
              "TIPTOON            3\n",
              "HISTORICAL         2\n",
              "dtype: int64"
            ]
          },
          "metadata": {},
          "execution_count": 130
        }
      ]
    },
    {
      "cell_type": "markdown",
      "source": [
        "###Cálculo de actualizaciones por día"
      ],
      "metadata": {
        "id": "UmyZg4k_y32F"
      }
    },
    {
      "cell_type": "code",
      "source": [
        "data.value_counts('weekdays')"
      ],
      "metadata": {
        "colab": {
          "base_uri": "https://localhost:8080/"
        },
        "id": "pnLPdf6fF9as",
        "outputId": "fca2b866-abe9-420a-c335-b598576db694"
      },
      "execution_count": 131,
      "outputs": [
        {
          "output_type": "execute_result",
          "data": {
            "text/plain": [
              "weekdays\n",
              "SATURDAY                                                    42\n",
              "SUNDAY                                                      40\n",
              "FRIDAY                                                      37\n",
              "WEDNESDAY                                                   36\n",
              "MONDAY                                                      36\n",
              "TUESDAY                                                     33\n",
              "THURSDAY                                                    33\n",
              "MONDAY,TUESDAY,WEDNESDAY,THURSDAY,FRIDAY,SATURDAY,SUNDAY    24\n",
              "MONDAY,THURSDAY                                              5\n",
              "WEDNESDAY,SUNDAY                                             4\n",
              "THURSDAY,SUNDAY                                              3\n",
              "TUESDAY,FRIDAY                                               3\n",
              "MONDAY,WEDNESDAY                                             3\n",
              "FRIDAY,SUNDAY                                                2\n",
              "TUESDAY,SUNDAY                                               2\n",
              "TUESDAY,SATURDAY                                             2\n",
              "MONDAY,WEDNESDAY,FRIDAY                                      2\n",
              "THURSDAY,FRIDAY,SATURDAY                                     1\n",
              "MONDAY,SATURDAY,SUNDAY                                       1\n",
              "MONDAY,FRIDAY                                                1\n",
              "MONDAY,FRIDAY,SATURDAY,SUNDAY                                1\n",
              "MONDAY,FRIDAY,SUNDAY                                         1\n",
              "MONDAY,SATURDAY                                              1\n",
              "TUESDAY,THURSDAY                                             1\n",
              "TUESDAY,THURSDAY,FRIDAY                                      1\n",
              "FRIDAY,SATURDAY                                              1\n",
              "MONDAY,TUESDAY,WEDNESDAY,THURSDAY,FRIDAY                     1\n",
              "dtype: int64"
            ]
          },
          "metadata": {},
          "execution_count": 131
        }
      ]
    },
    {
      "cell_type": "code",
      "source": [
        "dias=data.value_counts('weekdays')"
      ],
      "metadata": {
        "id": "f-RWco6NHhZD"
      },
      "execution_count": 132,
      "outputs": []
    },
    {
      "cell_type": "code",
      "source": [
        "dias=pd.DataFrame(dias,columns=['cantidad'])\n",
        "dias.reset_index(inplace=True)\n",
        "dias"
      ],
      "metadata": {
        "colab": {
          "base_uri": "https://localhost:8080/",
          "height": 896
        },
        "id": "CWUeclF0jsbC",
        "outputId": "c5b74f9f-5c01-4108-914d-dc5f265b546a"
      },
      "execution_count": 133,
      "outputs": [
        {
          "output_type": "execute_result",
          "data": {
            "text/plain": [
              "                                             weekdays  cantidad\n",
              "0                                            SATURDAY        42\n",
              "1                                              SUNDAY        40\n",
              "2                                              FRIDAY        37\n",
              "3                                           WEDNESDAY        36\n",
              "4                                              MONDAY        36\n",
              "5                                             TUESDAY        33\n",
              "6                                            THURSDAY        33\n",
              "7   MONDAY,TUESDAY,WEDNESDAY,THURSDAY,FRIDAY,SATUR...        24\n",
              "8                                     MONDAY,THURSDAY         5\n",
              "9                                    WEDNESDAY,SUNDAY         4\n",
              "10                                    THURSDAY,SUNDAY         3\n",
              "11                                     TUESDAY,FRIDAY         3\n",
              "12                                   MONDAY,WEDNESDAY         3\n",
              "13                                      FRIDAY,SUNDAY         2\n",
              "14                                     TUESDAY,SUNDAY         2\n",
              "15                                   TUESDAY,SATURDAY         2\n",
              "16                            MONDAY,WEDNESDAY,FRIDAY         2\n",
              "17                           THURSDAY,FRIDAY,SATURDAY         1\n",
              "18                             MONDAY,SATURDAY,SUNDAY         1\n",
              "19                                      MONDAY,FRIDAY         1\n",
              "20                      MONDAY,FRIDAY,SATURDAY,SUNDAY         1\n",
              "21                               MONDAY,FRIDAY,SUNDAY         1\n",
              "22                                    MONDAY,SATURDAY         1\n",
              "23                                   TUESDAY,THURSDAY         1\n",
              "24                            TUESDAY,THURSDAY,FRIDAY         1\n",
              "25                                    FRIDAY,SATURDAY         1\n",
              "26           MONDAY,TUESDAY,WEDNESDAY,THURSDAY,FRIDAY         1"
            ],
            "text/html": [
              "\n",
              "\n",
              "  <div id=\"df-92ed5f29-7f26-4f78-9dc8-f480553be5a4\">\n",
              "    <div class=\"colab-df-container\">\n",
              "      <div>\n",
              "<style scoped>\n",
              "    .dataframe tbody tr th:only-of-type {\n",
              "        vertical-align: middle;\n",
              "    }\n",
              "\n",
              "    .dataframe tbody tr th {\n",
              "        vertical-align: top;\n",
              "    }\n",
              "\n",
              "    .dataframe thead th {\n",
              "        text-align: right;\n",
              "    }\n",
              "</style>\n",
              "<table border=\"1\" class=\"dataframe\">\n",
              "  <thead>\n",
              "    <tr style=\"text-align: right;\">\n",
              "      <th></th>\n",
              "      <th>weekdays</th>\n",
              "      <th>cantidad</th>\n",
              "    </tr>\n",
              "  </thead>\n",
              "  <tbody>\n",
              "    <tr>\n",
              "      <th>0</th>\n",
              "      <td>SATURDAY</td>\n",
              "      <td>42</td>\n",
              "    </tr>\n",
              "    <tr>\n",
              "      <th>1</th>\n",
              "      <td>SUNDAY</td>\n",
              "      <td>40</td>\n",
              "    </tr>\n",
              "    <tr>\n",
              "      <th>2</th>\n",
              "      <td>FRIDAY</td>\n",
              "      <td>37</td>\n",
              "    </tr>\n",
              "    <tr>\n",
              "      <th>3</th>\n",
              "      <td>WEDNESDAY</td>\n",
              "      <td>36</td>\n",
              "    </tr>\n",
              "    <tr>\n",
              "      <th>4</th>\n",
              "      <td>MONDAY</td>\n",
              "      <td>36</td>\n",
              "    </tr>\n",
              "    <tr>\n",
              "      <th>5</th>\n",
              "      <td>TUESDAY</td>\n",
              "      <td>33</td>\n",
              "    </tr>\n",
              "    <tr>\n",
              "      <th>6</th>\n",
              "      <td>THURSDAY</td>\n",
              "      <td>33</td>\n",
              "    </tr>\n",
              "    <tr>\n",
              "      <th>7</th>\n",
              "      <td>MONDAY,TUESDAY,WEDNESDAY,THURSDAY,FRIDAY,SATUR...</td>\n",
              "      <td>24</td>\n",
              "    </tr>\n",
              "    <tr>\n",
              "      <th>8</th>\n",
              "      <td>MONDAY,THURSDAY</td>\n",
              "      <td>5</td>\n",
              "    </tr>\n",
              "    <tr>\n",
              "      <th>9</th>\n",
              "      <td>WEDNESDAY,SUNDAY</td>\n",
              "      <td>4</td>\n",
              "    </tr>\n",
              "    <tr>\n",
              "      <th>10</th>\n",
              "      <td>THURSDAY,SUNDAY</td>\n",
              "      <td>3</td>\n",
              "    </tr>\n",
              "    <tr>\n",
              "      <th>11</th>\n",
              "      <td>TUESDAY,FRIDAY</td>\n",
              "      <td>3</td>\n",
              "    </tr>\n",
              "    <tr>\n",
              "      <th>12</th>\n",
              "      <td>MONDAY,WEDNESDAY</td>\n",
              "      <td>3</td>\n",
              "    </tr>\n",
              "    <tr>\n",
              "      <th>13</th>\n",
              "      <td>FRIDAY,SUNDAY</td>\n",
              "      <td>2</td>\n",
              "    </tr>\n",
              "    <tr>\n",
              "      <th>14</th>\n",
              "      <td>TUESDAY,SUNDAY</td>\n",
              "      <td>2</td>\n",
              "    </tr>\n",
              "    <tr>\n",
              "      <th>15</th>\n",
              "      <td>TUESDAY,SATURDAY</td>\n",
              "      <td>2</td>\n",
              "    </tr>\n",
              "    <tr>\n",
              "      <th>16</th>\n",
              "      <td>MONDAY,WEDNESDAY,FRIDAY</td>\n",
              "      <td>2</td>\n",
              "    </tr>\n",
              "    <tr>\n",
              "      <th>17</th>\n",
              "      <td>THURSDAY,FRIDAY,SATURDAY</td>\n",
              "      <td>1</td>\n",
              "    </tr>\n",
              "    <tr>\n",
              "      <th>18</th>\n",
              "      <td>MONDAY,SATURDAY,SUNDAY</td>\n",
              "      <td>1</td>\n",
              "    </tr>\n",
              "    <tr>\n",
              "      <th>19</th>\n",
              "      <td>MONDAY,FRIDAY</td>\n",
              "      <td>1</td>\n",
              "    </tr>\n",
              "    <tr>\n",
              "      <th>20</th>\n",
              "      <td>MONDAY,FRIDAY,SATURDAY,SUNDAY</td>\n",
              "      <td>1</td>\n",
              "    </tr>\n",
              "    <tr>\n",
              "      <th>21</th>\n",
              "      <td>MONDAY,FRIDAY,SUNDAY</td>\n",
              "      <td>1</td>\n",
              "    </tr>\n",
              "    <tr>\n",
              "      <th>22</th>\n",
              "      <td>MONDAY,SATURDAY</td>\n",
              "      <td>1</td>\n",
              "    </tr>\n",
              "    <tr>\n",
              "      <th>23</th>\n",
              "      <td>TUESDAY,THURSDAY</td>\n",
              "      <td>1</td>\n",
              "    </tr>\n",
              "    <tr>\n",
              "      <th>24</th>\n",
              "      <td>TUESDAY,THURSDAY,FRIDAY</td>\n",
              "      <td>1</td>\n",
              "    </tr>\n",
              "    <tr>\n",
              "      <th>25</th>\n",
              "      <td>FRIDAY,SATURDAY</td>\n",
              "      <td>1</td>\n",
              "    </tr>\n",
              "    <tr>\n",
              "      <th>26</th>\n",
              "      <td>MONDAY,TUESDAY,WEDNESDAY,THURSDAY,FRIDAY</td>\n",
              "      <td>1</td>\n",
              "    </tr>\n",
              "  </tbody>\n",
              "</table>\n",
              "</div>\n",
              "      <button class=\"colab-df-convert\" onclick=\"convertToInteractive('df-92ed5f29-7f26-4f78-9dc8-f480553be5a4')\"\n",
              "              title=\"Convert this dataframe to an interactive table.\"\n",
              "              style=\"display:none;\">\n",
              "\n",
              "  <svg xmlns=\"http://www.w3.org/2000/svg\" height=\"24px\"viewBox=\"0 0 24 24\"\n",
              "       width=\"24px\">\n",
              "    <path d=\"M0 0h24v24H0V0z\" fill=\"none\"/>\n",
              "    <path d=\"M18.56 5.44l.94 2.06.94-2.06 2.06-.94-2.06-.94-.94-2.06-.94 2.06-2.06.94zm-11 1L8.5 8.5l.94-2.06 2.06-.94-2.06-.94L8.5 2.5l-.94 2.06-2.06.94zm10 10l.94 2.06.94-2.06 2.06-.94-2.06-.94-.94-2.06-.94 2.06-2.06.94z\"/><path d=\"M17.41 7.96l-1.37-1.37c-.4-.4-.92-.59-1.43-.59-.52 0-1.04.2-1.43.59L10.3 9.45l-7.72 7.72c-.78.78-.78 2.05 0 2.83L4 21.41c.39.39.9.59 1.41.59.51 0 1.02-.2 1.41-.59l7.78-7.78 2.81-2.81c.8-.78.8-2.07 0-2.86zM5.41 20L4 18.59l7.72-7.72 1.47 1.35L5.41 20z\"/>\n",
              "  </svg>\n",
              "      </button>\n",
              "\n",
              "\n",
              "\n",
              "    <div id=\"df-a0719915-7e63-4e8a-91da-c854ea6f95c0\">\n",
              "      <button class=\"colab-df-quickchart\" onclick=\"quickchart('df-a0719915-7e63-4e8a-91da-c854ea6f95c0')\"\n",
              "              title=\"Suggest charts.\"\n",
              "              style=\"display:none;\">\n",
              "\n",
              "<svg xmlns=\"http://www.w3.org/2000/svg\" height=\"24px\"viewBox=\"0 0 24 24\"\n",
              "     width=\"24px\">\n",
              "    <g>\n",
              "        <path d=\"M19 3H5c-1.1 0-2 .9-2 2v14c0 1.1.9 2 2 2h14c1.1 0 2-.9 2-2V5c0-1.1-.9-2-2-2zM9 17H7v-7h2v7zm4 0h-2V7h2v10zm4 0h-2v-4h2v4z\"/>\n",
              "    </g>\n",
              "</svg>\n",
              "      </button>\n",
              "    </div>\n",
              "\n",
              "<style>\n",
              "  .colab-df-quickchart {\n",
              "    background-color: #E8F0FE;\n",
              "    border: none;\n",
              "    border-radius: 50%;\n",
              "    cursor: pointer;\n",
              "    display: none;\n",
              "    fill: #1967D2;\n",
              "    height: 32px;\n",
              "    padding: 0 0 0 0;\n",
              "    width: 32px;\n",
              "  }\n",
              "\n",
              "  .colab-df-quickchart:hover {\n",
              "    background-color: #E2EBFA;\n",
              "    box-shadow: 0px 1px 2px rgba(60, 64, 67, 0.3), 0px 1px 3px 1px rgba(60, 64, 67, 0.15);\n",
              "    fill: #174EA6;\n",
              "  }\n",
              "\n",
              "  [theme=dark] .colab-df-quickchart {\n",
              "    background-color: #3B4455;\n",
              "    fill: #D2E3FC;\n",
              "  }\n",
              "\n",
              "  [theme=dark] .colab-df-quickchart:hover {\n",
              "    background-color: #434B5C;\n",
              "    box-shadow: 0px 1px 3px 1px rgba(0, 0, 0, 0.15);\n",
              "    filter: drop-shadow(0px 1px 2px rgba(0, 0, 0, 0.3));\n",
              "    fill: #FFFFFF;\n",
              "  }\n",
              "</style>\n",
              "\n",
              "    <script>\n",
              "      async function quickchart(key) {\n",
              "        const containerElement = document.querySelector('#' + key);\n",
              "        const charts = await google.colab.kernel.invokeFunction(\n",
              "            'suggestCharts', [key], {});\n",
              "      }\n",
              "    </script>\n",
              "\n",
              "      <script>\n",
              "\n",
              "function displayQuickchartButton(domScope) {\n",
              "  let quickchartButtonEl =\n",
              "    domScope.querySelector('#df-a0719915-7e63-4e8a-91da-c854ea6f95c0 button.colab-df-quickchart');\n",
              "  quickchartButtonEl.style.display =\n",
              "    google.colab.kernel.accessAllowed ? 'block' : 'none';\n",
              "}\n",
              "\n",
              "        displayQuickchartButton(document);\n",
              "      </script>\n",
              "      <style>\n",
              "    .colab-df-container {\n",
              "      display:flex;\n",
              "      flex-wrap:wrap;\n",
              "      gap: 12px;\n",
              "    }\n",
              "\n",
              "    .colab-df-convert {\n",
              "      background-color: #E8F0FE;\n",
              "      border: none;\n",
              "      border-radius: 50%;\n",
              "      cursor: pointer;\n",
              "      display: none;\n",
              "      fill: #1967D2;\n",
              "      height: 32px;\n",
              "      padding: 0 0 0 0;\n",
              "      width: 32px;\n",
              "    }\n",
              "\n",
              "    .colab-df-convert:hover {\n",
              "      background-color: #E2EBFA;\n",
              "      box-shadow: 0px 1px 2px rgba(60, 64, 67, 0.3), 0px 1px 3px 1px rgba(60, 64, 67, 0.15);\n",
              "      fill: #174EA6;\n",
              "    }\n",
              "\n",
              "    [theme=dark] .colab-df-convert {\n",
              "      background-color: #3B4455;\n",
              "      fill: #D2E3FC;\n",
              "    }\n",
              "\n",
              "    [theme=dark] .colab-df-convert:hover {\n",
              "      background-color: #434B5C;\n",
              "      box-shadow: 0px 1px 3px 1px rgba(0, 0, 0, 0.15);\n",
              "      filter: drop-shadow(0px 1px 2px rgba(0, 0, 0, 0.3));\n",
              "      fill: #FFFFFF;\n",
              "    }\n",
              "  </style>\n",
              "\n",
              "      <script>\n",
              "        const buttonEl =\n",
              "          document.querySelector('#df-92ed5f29-7f26-4f78-9dc8-f480553be5a4 button.colab-df-convert');\n",
              "        buttonEl.style.display =\n",
              "          google.colab.kernel.accessAllowed ? 'block' : 'none';\n",
              "\n",
              "        async function convertToInteractive(key) {\n",
              "          const element = document.querySelector('#df-92ed5f29-7f26-4f78-9dc8-f480553be5a4');\n",
              "          const dataTable =\n",
              "            await google.colab.kernel.invokeFunction('convertToInteractive',\n",
              "                                                     [key], {});\n",
              "          if (!dataTable) return;\n",
              "\n",
              "          const docLinkHtml = 'Like what you see? Visit the ' +\n",
              "            '<a target=\"_blank\" href=https://colab.research.google.com/notebooks/data_table.ipynb>data table notebook</a>'\n",
              "            + ' to learn more about interactive tables.';\n",
              "          element.innerHTML = '';\n",
              "          dataTable['output_type'] = 'display_data';\n",
              "          await google.colab.output.renderOutput(dataTable, element);\n",
              "          const docLink = document.createElement('div');\n",
              "          docLink.innerHTML = docLinkHtml;\n",
              "          element.appendChild(docLink);\n",
              "        }\n",
              "      </script>\n",
              "    </div>\n",
              "  </div>\n"
            ]
          },
          "metadata": {},
          "execution_count": 133
        }
      ]
    },
    {
      "cell_type": "code",
      "source": [
        "dias.columns.values"
      ],
      "metadata": {
        "colab": {
          "base_uri": "https://localhost:8080/"
        },
        "id": "ul0d2PU8kQi1",
        "outputId": "968ef9c6-76d1-4a1b-9d90-5906279a69f0"
      },
      "execution_count": 134,
      "outputs": [
        {
          "output_type": "execute_result",
          "data": {
            "text/plain": [
              "array(['weekdays', 'cantidad'], dtype=object)"
            ]
          },
          "metadata": {},
          "execution_count": 134
        }
      ]
    },
    {
      "cell_type": "code",
      "source": [
        "dias['cantidad'] = dias['cantidad'].astype(int)\n",
        "\n",
        "# Función para separar los días si hay más de uno\n",
        "def separar_dias(row):\n",
        "    dias = row['weekdays'].split(',')\n",
        "    return pd.Series({dia.strip(): row['cantidad'] for dia in dias})\n",
        "\n",
        "# Aplicar la función a cada fila del DataFrame\n",
        "data_separada = dias.apply(separar_dias, axis=1).fillna(0)\n",
        "\n",
        "# Sumar las ocurrencias de cada día individualmente\n",
        "total_por_dia = data_separada.sum()\n",
        "\n",
        "print(total_por_dia)"
      ],
      "metadata": {
        "colab": {
          "base_uri": "https://localhost:8080/"
        },
        "id": "RTkjlrl-gnyM",
        "outputId": "69b5446b-326e-4adf-8c21-e5d37682dbd6"
      },
      "execution_count": 135,
      "outputs": [
        {
          "output_type": "stream",
          "name": "stdout",
          "text": [
            "FRIDAY       75.0\n",
            "MONDAY       76.0\n",
            "SATURDAY     73.0\n",
            "SUNDAY       78.0\n",
            "THURSDAY     69.0\n",
            "TUESDAY      67.0\n",
            "WEDNESDAY    70.0\n",
            "dtype: float64\n"
          ]
        }
      ]
    },
    {
      "cell_type": "code",
      "source": [
        "total_por_dia=pd.DataFrame(total_por_dia,columns=['cantidad'])\n",
        "total_por_dia.reset_index(inplace=True)"
      ],
      "metadata": {
        "id": "8vDSIEK1tx0B"
      },
      "execution_count": 136,
      "outputs": []
    },
    {
      "cell_type": "code",
      "source": [
        "total_por_dia.columns = total_por_dia.columns.str.replace('index', 'dias')"
      ],
      "metadata": {
        "id": "d_ya3ctov6Zm"
      },
      "execution_count": 137,
      "outputs": []
    },
    {
      "cell_type": "code",
      "source": [
        "total_por_dia.columns.values"
      ],
      "metadata": {
        "colab": {
          "base_uri": "https://localhost:8080/"
        },
        "id": "1vuEQpcdvoEB",
        "outputId": "8e6ab75b-8fa3-4d2c-9787-7744de69c26b"
      },
      "execution_count": 138,
      "outputs": [
        {
          "output_type": "execute_result",
          "data": {
            "text/plain": [
              "array(['dias', 'cantidad'], dtype=object)"
            ]
          },
          "metadata": {},
          "execution_count": 138
        }
      ]
    },
    {
      "cell_type": "markdown",
      "source": [
        "###Cálculo de actualizaciones por género"
      ],
      "metadata": {
        "id": "FyFazkX-zWej"
      }
    },
    {
      "cell_type": "markdown",
      "source": [
        "####Romance"
      ],
      "metadata": {
        "id": "qpM3DYK8U74k"
      }
    },
    {
      "cell_type": "code",
      "source": [
        "dias_romance=data[data['genre']=='ROMANCE'].value_counts('weekdays')\n",
        "dias_romance"
      ],
      "metadata": {
        "colab": {
          "base_uri": "https://localhost:8080/"
        },
        "id": "WWmE-0XCM1ba",
        "outputId": "0a6295b8-a87e-488e-8369-e76412953eb4"
      },
      "execution_count": 139,
      "outputs": [
        {
          "output_type": "execute_result",
          "data": {
            "text/plain": [
              "weekdays\n",
              "SATURDAY                                                    20\n",
              "MONDAY                                                      17\n",
              "FRIDAY                                                      17\n",
              "SUNDAY                                                      16\n",
              "TUESDAY                                                     13\n",
              "WEDNESDAY                                                   11\n",
              "MONDAY,TUESDAY,WEDNESDAY,THURSDAY,FRIDAY,SATURDAY,SUNDAY     8\n",
              "THURSDAY                                                     8\n",
              "MONDAY,THURSDAY                                              2\n",
              "MONDAY,WEDNESDAY                                             2\n",
              "TUESDAY,SATURDAY                                             2\n",
              "MONDAY,FRIDAY                                                1\n",
              "MONDAY,SATURDAY                                              1\n",
              "MONDAY,SATURDAY,SUNDAY                                       1\n",
              "FRIDAY,SUNDAY                                                1\n",
              "THURSDAY,FRIDAY,SATURDAY                                     1\n",
              "TUESDAY,FRIDAY                                               1\n",
              "WEDNESDAY,SUNDAY                                             1\n",
              "dtype: int64"
            ]
          },
          "metadata": {},
          "execution_count": 139
        }
      ]
    },
    {
      "cell_type": "code",
      "source": [
        "dias_romance=pd.DataFrame(dias_romance,columns=['cantidad'])\n",
        "dias_romance.reset_index(inplace=True)\n",
        "dias_romance"
      ],
      "metadata": {
        "colab": {
          "base_uri": "https://localhost:8080/",
          "height": 614
        },
        "id": "wbG8lV8iNlFA",
        "outputId": "eca05be6-e249-499d-9a4a-5d6b7fea62ac"
      },
      "execution_count": 140,
      "outputs": [
        {
          "output_type": "execute_result",
          "data": {
            "text/plain": [
              "                                             weekdays  cantidad\n",
              "0                                            SATURDAY        20\n",
              "1                                              MONDAY        17\n",
              "2                                              FRIDAY        17\n",
              "3                                              SUNDAY        16\n",
              "4                                             TUESDAY        13\n",
              "5                                           WEDNESDAY        11\n",
              "6   MONDAY,TUESDAY,WEDNESDAY,THURSDAY,FRIDAY,SATUR...         8\n",
              "7                                            THURSDAY         8\n",
              "8                                     MONDAY,THURSDAY         2\n",
              "9                                    MONDAY,WEDNESDAY         2\n",
              "10                                   TUESDAY,SATURDAY         2\n",
              "11                                      MONDAY,FRIDAY         1\n",
              "12                                    MONDAY,SATURDAY         1\n",
              "13                             MONDAY,SATURDAY,SUNDAY         1\n",
              "14                                      FRIDAY,SUNDAY         1\n",
              "15                           THURSDAY,FRIDAY,SATURDAY         1\n",
              "16                                     TUESDAY,FRIDAY         1\n",
              "17                                   WEDNESDAY,SUNDAY         1"
            ],
            "text/html": [
              "\n",
              "\n",
              "  <div id=\"df-85a4fb35-b47d-4661-9c02-4589d5efbe71\">\n",
              "    <div class=\"colab-df-container\">\n",
              "      <div>\n",
              "<style scoped>\n",
              "    .dataframe tbody tr th:only-of-type {\n",
              "        vertical-align: middle;\n",
              "    }\n",
              "\n",
              "    .dataframe tbody tr th {\n",
              "        vertical-align: top;\n",
              "    }\n",
              "\n",
              "    .dataframe thead th {\n",
              "        text-align: right;\n",
              "    }\n",
              "</style>\n",
              "<table border=\"1\" class=\"dataframe\">\n",
              "  <thead>\n",
              "    <tr style=\"text-align: right;\">\n",
              "      <th></th>\n",
              "      <th>weekdays</th>\n",
              "      <th>cantidad</th>\n",
              "    </tr>\n",
              "  </thead>\n",
              "  <tbody>\n",
              "    <tr>\n",
              "      <th>0</th>\n",
              "      <td>SATURDAY</td>\n",
              "      <td>20</td>\n",
              "    </tr>\n",
              "    <tr>\n",
              "      <th>1</th>\n",
              "      <td>MONDAY</td>\n",
              "      <td>17</td>\n",
              "    </tr>\n",
              "    <tr>\n",
              "      <th>2</th>\n",
              "      <td>FRIDAY</td>\n",
              "      <td>17</td>\n",
              "    </tr>\n",
              "    <tr>\n",
              "      <th>3</th>\n",
              "      <td>SUNDAY</td>\n",
              "      <td>16</td>\n",
              "    </tr>\n",
              "    <tr>\n",
              "      <th>4</th>\n",
              "      <td>TUESDAY</td>\n",
              "      <td>13</td>\n",
              "    </tr>\n",
              "    <tr>\n",
              "      <th>5</th>\n",
              "      <td>WEDNESDAY</td>\n",
              "      <td>11</td>\n",
              "    </tr>\n",
              "    <tr>\n",
              "      <th>6</th>\n",
              "      <td>MONDAY,TUESDAY,WEDNESDAY,THURSDAY,FRIDAY,SATUR...</td>\n",
              "      <td>8</td>\n",
              "    </tr>\n",
              "    <tr>\n",
              "      <th>7</th>\n",
              "      <td>THURSDAY</td>\n",
              "      <td>8</td>\n",
              "    </tr>\n",
              "    <tr>\n",
              "      <th>8</th>\n",
              "      <td>MONDAY,THURSDAY</td>\n",
              "      <td>2</td>\n",
              "    </tr>\n",
              "    <tr>\n",
              "      <th>9</th>\n",
              "      <td>MONDAY,WEDNESDAY</td>\n",
              "      <td>2</td>\n",
              "    </tr>\n",
              "    <tr>\n",
              "      <th>10</th>\n",
              "      <td>TUESDAY,SATURDAY</td>\n",
              "      <td>2</td>\n",
              "    </tr>\n",
              "    <tr>\n",
              "      <th>11</th>\n",
              "      <td>MONDAY,FRIDAY</td>\n",
              "      <td>1</td>\n",
              "    </tr>\n",
              "    <tr>\n",
              "      <th>12</th>\n",
              "      <td>MONDAY,SATURDAY</td>\n",
              "      <td>1</td>\n",
              "    </tr>\n",
              "    <tr>\n",
              "      <th>13</th>\n",
              "      <td>MONDAY,SATURDAY,SUNDAY</td>\n",
              "      <td>1</td>\n",
              "    </tr>\n",
              "    <tr>\n",
              "      <th>14</th>\n",
              "      <td>FRIDAY,SUNDAY</td>\n",
              "      <td>1</td>\n",
              "    </tr>\n",
              "    <tr>\n",
              "      <th>15</th>\n",
              "      <td>THURSDAY,FRIDAY,SATURDAY</td>\n",
              "      <td>1</td>\n",
              "    </tr>\n",
              "    <tr>\n",
              "      <th>16</th>\n",
              "      <td>TUESDAY,FRIDAY</td>\n",
              "      <td>1</td>\n",
              "    </tr>\n",
              "    <tr>\n",
              "      <th>17</th>\n",
              "      <td>WEDNESDAY,SUNDAY</td>\n",
              "      <td>1</td>\n",
              "    </tr>\n",
              "  </tbody>\n",
              "</table>\n",
              "</div>\n",
              "      <button class=\"colab-df-convert\" onclick=\"convertToInteractive('df-85a4fb35-b47d-4661-9c02-4589d5efbe71')\"\n",
              "              title=\"Convert this dataframe to an interactive table.\"\n",
              "              style=\"display:none;\">\n",
              "\n",
              "  <svg xmlns=\"http://www.w3.org/2000/svg\" height=\"24px\"viewBox=\"0 0 24 24\"\n",
              "       width=\"24px\">\n",
              "    <path d=\"M0 0h24v24H0V0z\" fill=\"none\"/>\n",
              "    <path d=\"M18.56 5.44l.94 2.06.94-2.06 2.06-.94-2.06-.94-.94-2.06-.94 2.06-2.06.94zm-11 1L8.5 8.5l.94-2.06 2.06-.94-2.06-.94L8.5 2.5l-.94 2.06-2.06.94zm10 10l.94 2.06.94-2.06 2.06-.94-2.06-.94-.94-2.06-.94 2.06-2.06.94z\"/><path d=\"M17.41 7.96l-1.37-1.37c-.4-.4-.92-.59-1.43-.59-.52 0-1.04.2-1.43.59L10.3 9.45l-7.72 7.72c-.78.78-.78 2.05 0 2.83L4 21.41c.39.39.9.59 1.41.59.51 0 1.02-.2 1.41-.59l7.78-7.78 2.81-2.81c.8-.78.8-2.07 0-2.86zM5.41 20L4 18.59l7.72-7.72 1.47 1.35L5.41 20z\"/>\n",
              "  </svg>\n",
              "      </button>\n",
              "\n",
              "\n",
              "\n",
              "    <div id=\"df-cc11b643-5ed4-4611-8dc1-45342087a9e7\">\n",
              "      <button class=\"colab-df-quickchart\" onclick=\"quickchart('df-cc11b643-5ed4-4611-8dc1-45342087a9e7')\"\n",
              "              title=\"Suggest charts.\"\n",
              "              style=\"display:none;\">\n",
              "\n",
              "<svg xmlns=\"http://www.w3.org/2000/svg\" height=\"24px\"viewBox=\"0 0 24 24\"\n",
              "     width=\"24px\">\n",
              "    <g>\n",
              "        <path d=\"M19 3H5c-1.1 0-2 .9-2 2v14c0 1.1.9 2 2 2h14c1.1 0 2-.9 2-2V5c0-1.1-.9-2-2-2zM9 17H7v-7h2v7zm4 0h-2V7h2v10zm4 0h-2v-4h2v4z\"/>\n",
              "    </g>\n",
              "</svg>\n",
              "      </button>\n",
              "    </div>\n",
              "\n",
              "<style>\n",
              "  .colab-df-quickchart {\n",
              "    background-color: #E8F0FE;\n",
              "    border: none;\n",
              "    border-radius: 50%;\n",
              "    cursor: pointer;\n",
              "    display: none;\n",
              "    fill: #1967D2;\n",
              "    height: 32px;\n",
              "    padding: 0 0 0 0;\n",
              "    width: 32px;\n",
              "  }\n",
              "\n",
              "  .colab-df-quickchart:hover {\n",
              "    background-color: #E2EBFA;\n",
              "    box-shadow: 0px 1px 2px rgba(60, 64, 67, 0.3), 0px 1px 3px 1px rgba(60, 64, 67, 0.15);\n",
              "    fill: #174EA6;\n",
              "  }\n",
              "\n",
              "  [theme=dark] .colab-df-quickchart {\n",
              "    background-color: #3B4455;\n",
              "    fill: #D2E3FC;\n",
              "  }\n",
              "\n",
              "  [theme=dark] .colab-df-quickchart:hover {\n",
              "    background-color: #434B5C;\n",
              "    box-shadow: 0px 1px 3px 1px rgba(0, 0, 0, 0.15);\n",
              "    filter: drop-shadow(0px 1px 2px rgba(0, 0, 0, 0.3));\n",
              "    fill: #FFFFFF;\n",
              "  }\n",
              "</style>\n",
              "\n",
              "    <script>\n",
              "      async function quickchart(key) {\n",
              "        const containerElement = document.querySelector('#' + key);\n",
              "        const charts = await google.colab.kernel.invokeFunction(\n",
              "            'suggestCharts', [key], {});\n",
              "      }\n",
              "    </script>\n",
              "\n",
              "      <script>\n",
              "\n",
              "function displayQuickchartButton(domScope) {\n",
              "  let quickchartButtonEl =\n",
              "    domScope.querySelector('#df-cc11b643-5ed4-4611-8dc1-45342087a9e7 button.colab-df-quickchart');\n",
              "  quickchartButtonEl.style.display =\n",
              "    google.colab.kernel.accessAllowed ? 'block' : 'none';\n",
              "}\n",
              "\n",
              "        displayQuickchartButton(document);\n",
              "      </script>\n",
              "      <style>\n",
              "    .colab-df-container {\n",
              "      display:flex;\n",
              "      flex-wrap:wrap;\n",
              "      gap: 12px;\n",
              "    }\n",
              "\n",
              "    .colab-df-convert {\n",
              "      background-color: #E8F0FE;\n",
              "      border: none;\n",
              "      border-radius: 50%;\n",
              "      cursor: pointer;\n",
              "      display: none;\n",
              "      fill: #1967D2;\n",
              "      height: 32px;\n",
              "      padding: 0 0 0 0;\n",
              "      width: 32px;\n",
              "    }\n",
              "\n",
              "    .colab-df-convert:hover {\n",
              "      background-color: #E2EBFA;\n",
              "      box-shadow: 0px 1px 2px rgba(60, 64, 67, 0.3), 0px 1px 3px 1px rgba(60, 64, 67, 0.15);\n",
              "      fill: #174EA6;\n",
              "    }\n",
              "\n",
              "    [theme=dark] .colab-df-convert {\n",
              "      background-color: #3B4455;\n",
              "      fill: #D2E3FC;\n",
              "    }\n",
              "\n",
              "    [theme=dark] .colab-df-convert:hover {\n",
              "      background-color: #434B5C;\n",
              "      box-shadow: 0px 1px 3px 1px rgba(0, 0, 0, 0.15);\n",
              "      filter: drop-shadow(0px 1px 2px rgba(0, 0, 0, 0.3));\n",
              "      fill: #FFFFFF;\n",
              "    }\n",
              "  </style>\n",
              "\n",
              "      <script>\n",
              "        const buttonEl =\n",
              "          document.querySelector('#df-85a4fb35-b47d-4661-9c02-4589d5efbe71 button.colab-df-convert');\n",
              "        buttonEl.style.display =\n",
              "          google.colab.kernel.accessAllowed ? 'block' : 'none';\n",
              "\n",
              "        async function convertToInteractive(key) {\n",
              "          const element = document.querySelector('#df-85a4fb35-b47d-4661-9c02-4589d5efbe71');\n",
              "          const dataTable =\n",
              "            await google.colab.kernel.invokeFunction('convertToInteractive',\n",
              "                                                     [key], {});\n",
              "          if (!dataTable) return;\n",
              "\n",
              "          const docLinkHtml = 'Like what you see? Visit the ' +\n",
              "            '<a target=\"_blank\" href=https://colab.research.google.com/notebooks/data_table.ipynb>data table notebook</a>'\n",
              "            + ' to learn more about interactive tables.';\n",
              "          element.innerHTML = '';\n",
              "          dataTable['output_type'] = 'display_data';\n",
              "          await google.colab.output.renderOutput(dataTable, element);\n",
              "          const docLink = document.createElement('div');\n",
              "          docLink.innerHTML = docLinkHtml;\n",
              "          element.appendChild(docLink);\n",
              "        }\n",
              "      </script>\n",
              "    </div>\n",
              "  </div>\n"
            ]
          },
          "metadata": {},
          "execution_count": 140
        }
      ]
    },
    {
      "cell_type": "code",
      "source": [
        "dias_romance.columns.values"
      ],
      "metadata": {
        "colab": {
          "base_uri": "https://localhost:8080/"
        },
        "id": "hzppqJfYRRR2",
        "outputId": "4878522b-c5cc-485e-92a6-0543e9164e06"
      },
      "execution_count": 141,
      "outputs": [
        {
          "output_type": "execute_result",
          "data": {
            "text/plain": [
              "array(['weekdays', 'cantidad'], dtype=object)"
            ]
          },
          "metadata": {},
          "execution_count": 141
        }
      ]
    },
    {
      "cell_type": "code",
      "source": [
        "dias_romance['cantidad'] = dias_romance['cantidad'].astype(int)\n",
        "\n",
        "def separar_dias(row):\n",
        "    dias_list = row['weekdays'].split(',')\n",
        "    return pd.Series({dia.strip(): row['cantidad'] for dia in dias_list})\n",
        "\n",
        "# Aplicar la función a cada fila del DataFrame\n",
        "data_separada = dias_romance.apply(separar_dias, axis=1).fillna(0)\n",
        "\n",
        "# Sumar las ocurrencias de cada día individualmente\n",
        "total_dias_romance = data_separada.sum()\n",
        "\n",
        "print(total_dias_romance)\n"
      ],
      "metadata": {
        "colab": {
          "base_uri": "https://localhost:8080/"
        },
        "id": "8sJrRogwRYKO",
        "outputId": "dd38afeb-c907-4da4-b921-efcfc4fb5120"
      },
      "execution_count": 142,
      "outputs": [
        {
          "output_type": "stream",
          "name": "stdout",
          "text": [
            "FRIDAY       29.0\n",
            "MONDAY       32.0\n",
            "SATURDAY     33.0\n",
            "SUNDAY       27.0\n",
            "THURSDAY     19.0\n",
            "TUESDAY      24.0\n",
            "WEDNESDAY    22.0\n",
            "dtype: float64\n"
          ]
        }
      ]
    },
    {
      "cell_type": "code",
      "source": [
        "total_dias_romance=pd.DataFrame(total_dias_romance,columns=['cantidad'])\n",
        "total_dias_romance.reset_index(inplace=True)\n",
        "total_dias_romance.columns = total_dias_romance.columns.str.replace('index', 'dias')\n",
        "total_dias_romance.columns = total_dias_romance.columns.str.replace('cantidad', 'romance')\n",
        "total_dias_romance.columns.values"
      ],
      "metadata": {
        "colab": {
          "base_uri": "https://localhost:8080/"
        },
        "id": "ggSfoA1UmSgP",
        "outputId": "9e41a49d-e4d3-4433-983c-049e9bd2a226"
      },
      "execution_count": 143,
      "outputs": [
        {
          "output_type": "execute_result",
          "data": {
            "text/plain": [
              "array(['dias', 'romance'], dtype=object)"
            ]
          },
          "metadata": {},
          "execution_count": 143
        }
      ]
    },
    {
      "cell_type": "markdown",
      "source": [
        "####Fantasia"
      ],
      "metadata": {
        "id": "q36U-Ff0WGcv"
      }
    },
    {
      "cell_type": "code",
      "source": [
        "dias_fantasy=data[data['genre']=='FANTASY'].value_counts('weekdays')\n",
        "dias_fantasy"
      ],
      "metadata": {
        "colab": {
          "base_uri": "https://localhost:8080/"
        },
        "outputId": "5a5f1cad-ff69-4638-bdbe-fdc0ddada4ef",
        "id": "JN2Mctf6WGcv"
      },
      "execution_count": 144,
      "outputs": [
        {
          "output_type": "execute_result",
          "data": {
            "text/plain": [
              "weekdays\n",
              "SUNDAY                                                      8\n",
              "THURSDAY                                                    8\n",
              "FRIDAY                                                      5\n",
              "MONDAY                                                      5\n",
              "TUESDAY                                                     5\n",
              "WEDNESDAY                                                   5\n",
              "MONDAY,THURSDAY                                             2\n",
              "SATURDAY                                                    2\n",
              "MONDAY,TUESDAY,WEDNESDAY,THURSDAY,FRIDAY,SATURDAY,SUNDAY    1\n",
              "THURSDAY,SUNDAY                                             1\n",
              "TUESDAY,FRIDAY                                              1\n",
              "dtype: int64"
            ]
          },
          "metadata": {},
          "execution_count": 144
        }
      ]
    },
    {
      "cell_type": "code",
      "source": [
        "dias_fantasy=pd.DataFrame(dias_fantasy,columns=['cantidad'])\n",
        "dias_fantasy.reset_index(inplace=True)"
      ],
      "metadata": {
        "id": "MLScYhTnWGcw"
      },
      "execution_count": 145,
      "outputs": []
    },
    {
      "cell_type": "code",
      "source": [
        "total_por_dia.columns = total_por_dia.columns.str.replace('index', 'dias')"
      ],
      "metadata": {
        "id": "HxHN89-OWtLs"
      },
      "execution_count": 146,
      "outputs": []
    },
    {
      "cell_type": "code",
      "source": [
        "dias_fantasy.columns.values"
      ],
      "metadata": {
        "colab": {
          "base_uri": "https://localhost:8080/"
        },
        "outputId": "d11cc12d-6ce0-44ad-8fcd-8ae2caca09f5",
        "id": "vB0TIEYJWGcw"
      },
      "execution_count": 147,
      "outputs": [
        {
          "output_type": "execute_result",
          "data": {
            "text/plain": [
              "array(['weekdays', 'cantidad'], dtype=object)"
            ]
          },
          "metadata": {},
          "execution_count": 147
        }
      ]
    },
    {
      "cell_type": "code",
      "source": [
        "dias_fantasy['cantidad'] = dias_fantasy['cantidad'].astype(int)\n",
        "\n",
        "def separar_dias(row):\n",
        "    dias_list = row['weekdays'].split(',')\n",
        "    return pd.Series({dia.strip(): row['cantidad'] for dia in dias_list})\n",
        "\n",
        "# Aplicar la función a cada fila del DataFrame\n",
        "data_separada = dias_romance.apply(separar_dias, axis=1).fillna(0)\n",
        "\n",
        "# Sumar las ocurrencias de cada día individualmente\n",
        "total_dias_fantasy = data_separada.sum()\n",
        "\n",
        "print(total_dias_fantasy)\n"
      ],
      "metadata": {
        "colab": {
          "base_uri": "https://localhost:8080/"
        },
        "outputId": "52f3dd01-df20-41c9-ae33-96cc192ac25e",
        "id": "oLXd048RWGcx"
      },
      "execution_count": 148,
      "outputs": [
        {
          "output_type": "stream",
          "name": "stdout",
          "text": [
            "FRIDAY       29.0\n",
            "MONDAY       32.0\n",
            "SATURDAY     33.0\n",
            "SUNDAY       27.0\n",
            "THURSDAY     19.0\n",
            "TUESDAY      24.0\n",
            "WEDNESDAY    22.0\n",
            "dtype: float64\n"
          ]
        }
      ]
    },
    {
      "cell_type": "code",
      "source": [
        "total_dias_fantasy=pd.DataFrame(total_dias_fantasy,columns=['cantidad'])\n",
        "total_dias_fantasy.reset_index(inplace=True)\n",
        "total_dias_fantasy.columns = total_dias_fantasy.columns.str.replace('index', 'dias')\n",
        "total_dias_fantasy.columns = total_dias_fantasy.columns.str.replace('cantidad', 'fantasy')\n",
        "total_dias_fantasy.columns.values"
      ],
      "metadata": {
        "colab": {
          "base_uri": "https://localhost:8080/"
        },
        "id": "FXCR4MGumYx0",
        "outputId": "4435ecb5-d431-461c-8a2b-8d0ff35151e5"
      },
      "execution_count": 149,
      "outputs": [
        {
          "output_type": "execute_result",
          "data": {
            "text/plain": [
              "array(['dias', 'fantasy'], dtype=object)"
            ]
          },
          "metadata": {},
          "execution_count": 149
        }
      ]
    },
    {
      "cell_type": "markdown",
      "source": [
        "####Drama"
      ],
      "metadata": {
        "id": "2hcnslJlW4y9"
      }
    },
    {
      "cell_type": "code",
      "source": [
        "dias_drama=data[data['genre']=='DRAMA'].value_counts('weekdays')\n",
        "dias_drama"
      ],
      "metadata": {
        "colab": {
          "base_uri": "https://localhost:8080/"
        },
        "outputId": "1ddeccba-b4ae-409a-ac89-2ee5b648c2d3",
        "id": "2RMoi_AeW4y-"
      },
      "execution_count": 150,
      "outputs": [
        {
          "output_type": "execute_result",
          "data": {
            "text/plain": [
              "weekdays\n",
              "WEDNESDAY                                                   6\n",
              "MONDAY                                                      5\n",
              "MONDAY,TUESDAY,WEDNESDAY,THURSDAY,FRIDAY,SATURDAY,SUNDAY    5\n",
              "THURSDAY                                                    5\n",
              "FRIDAY                                                      4\n",
              "TUESDAY                                                     4\n",
              "SATURDAY                                                    3\n",
              "SUNDAY                                                      2\n",
              "MONDAY,FRIDAY,SATURDAY,SUNDAY                               1\n",
              "THURSDAY,SUNDAY                                             1\n",
              "TUESDAY,SUNDAY                                              1\n",
              "TUESDAY,THURSDAY,FRIDAY                                     1\n",
              "dtype: int64"
            ]
          },
          "metadata": {},
          "execution_count": 150
        }
      ]
    },
    {
      "cell_type": "code",
      "source": [
        "dias_drama=pd.DataFrame(dias_drama,columns=['cantidad'])\n",
        "dias_drama.reset_index(inplace=True)"
      ],
      "metadata": {
        "id": "v85w49izW4y_"
      },
      "execution_count": 151,
      "outputs": []
    },
    {
      "cell_type": "code",
      "source": [
        "dias_drama.columns.values"
      ],
      "metadata": {
        "colab": {
          "base_uri": "https://localhost:8080/"
        },
        "outputId": "c2322aa1-1731-417b-8473-df259387a2b7",
        "id": "CjssZZtPW4zB"
      },
      "execution_count": 152,
      "outputs": [
        {
          "output_type": "execute_result",
          "data": {
            "text/plain": [
              "array(['weekdays', 'cantidad'], dtype=object)"
            ]
          },
          "metadata": {},
          "execution_count": 152
        }
      ]
    },
    {
      "cell_type": "code",
      "source": [
        "dias_drama['cantidad'] = dias_drama['cantidad'].astype(int)\n",
        "\n",
        "def separar_dias(row):\n",
        "    dias_list = row['weekdays'].split(',')\n",
        "    return pd.Series({dia.strip(): row['cantidad'] for dia in dias_list})\n",
        "\n",
        "# Aplicar la función a cada fila del DataFrame\n",
        "data_separada = dias_drama.apply(separar_dias, axis=1).fillna(0)\n",
        "\n",
        "# Sumar las ocurrencias de cada día individualmente\n",
        "total_dias_drama = data_separada.sum()\n",
        "\n",
        "print(total_dias_drama)\n"
      ],
      "metadata": {
        "colab": {
          "base_uri": "https://localhost:8080/"
        },
        "outputId": "902682a2-f398-43a7-ab87-7fb422e6838c",
        "id": "5jyHQ0PIW4zB"
      },
      "execution_count": 153,
      "outputs": [
        {
          "output_type": "stream",
          "name": "stdout",
          "text": [
            "FRIDAY       11.0\n",
            "MONDAY       11.0\n",
            "SATURDAY      9.0\n",
            "SUNDAY       10.0\n",
            "THURSDAY     12.0\n",
            "TUESDAY      11.0\n",
            "WEDNESDAY    11.0\n",
            "dtype: float64\n"
          ]
        }
      ]
    },
    {
      "cell_type": "code",
      "source": [
        "total_dias_drama=pd.DataFrame(total_dias_drama,columns=['cantidad'])\n",
        "total_dias_drama.reset_index(inplace=True)\n",
        "total_dias_drama.columns = total_dias_drama.columns.str.replace('index', 'dias')\n",
        "total_dias_drama.columns = total_dias_drama.columns.str.replace('cantidad', 'drama')\n",
        "total_dias_drama.columns.values"
      ],
      "metadata": {
        "colab": {
          "base_uri": "https://localhost:8080/"
        },
        "id": "1MEvgJxzmiFd",
        "outputId": "da78099b-a41d-400b-fa21-72dd3b6d1377"
      },
      "execution_count": 154,
      "outputs": [
        {
          "output_type": "execute_result",
          "data": {
            "text/plain": [
              "array(['dias', 'drama'], dtype=object)"
            ]
          },
          "metadata": {},
          "execution_count": 154
        }
      ]
    },
    {
      "cell_type": "markdown",
      "source": [
        "####Thriller"
      ],
      "metadata": {
        "id": "_IFkygxtcP6c"
      }
    },
    {
      "cell_type": "code",
      "source": [
        "dias_thriller=data[data['genre']=='THRILLER'].value_counts('weekdays')\n",
        "dias_thriller"
      ],
      "metadata": {
        "colab": {
          "base_uri": "https://localhost:8080/"
        },
        "outputId": "dc8fde87-287d-4bf7-86d1-2c8a427b477c",
        "id": "VSsNqgOjXj6Z"
      },
      "execution_count": 155,
      "outputs": [
        {
          "output_type": "execute_result",
          "data": {
            "text/plain": [
              "weekdays\n",
              "MONDAY,TUESDAY,WEDNESDAY,THURSDAY,FRIDAY,SATURDAY,SUNDAY    5\n",
              "SATURDAY                                                    5\n",
              "WEDNESDAY                                                   5\n",
              "SUNDAY                                                      3\n",
              "TUESDAY                                                     3\n",
              "FRIDAY                                                      1\n",
              "MONDAY                                                      1\n",
              "THURSDAY,SUNDAY                                             1\n",
              "dtype: int64"
            ]
          },
          "metadata": {},
          "execution_count": 155
        }
      ]
    },
    {
      "cell_type": "code",
      "source": [
        "dias_thriller=pd.DataFrame(dias_thriller,columns=['cantidad'])\n",
        "dias_thriller.reset_index(inplace=True)"
      ],
      "metadata": {
        "id": "Lwe590LGXj6a"
      },
      "execution_count": 156,
      "outputs": []
    },
    {
      "cell_type": "code",
      "source": [
        "dias_thriller.columns.values"
      ],
      "metadata": {
        "colab": {
          "base_uri": "https://localhost:8080/"
        },
        "outputId": "02f42eb3-cc47-4006-ddc9-efa4ca9da4f5",
        "id": "-CuMDqRvXj6a"
      },
      "execution_count": 157,
      "outputs": [
        {
          "output_type": "execute_result",
          "data": {
            "text/plain": [
              "array(['weekdays', 'cantidad'], dtype=object)"
            ]
          },
          "metadata": {},
          "execution_count": 157
        }
      ]
    },
    {
      "cell_type": "code",
      "source": [
        "dias_thriller['cantidad'] = dias_thriller['cantidad'].astype(int)\n",
        "\n",
        "def separar_dias(row):\n",
        "    dias_list = row['weekdays'].split(',')\n",
        "    return pd.Series({dia.strip(): row['cantidad'] for dia in dias_list})\n",
        "\n",
        "# Aplicar la función a cada fila del DataFrame\n",
        "data_separada = dias_thriller.apply(separar_dias, axis=1).fillna(0)\n",
        "\n",
        "# Sumar las ocurrencias de cada día individualmente\n",
        "total_dias_thriller = data_separada.sum()\n",
        "\n",
        "print(total_dias_thriller)\n"
      ],
      "metadata": {
        "colab": {
          "base_uri": "https://localhost:8080/"
        },
        "outputId": "f12d75ed-c8cb-466c-f132-13dcef193224",
        "id": "o6DCIu1lXj6b"
      },
      "execution_count": 158,
      "outputs": [
        {
          "output_type": "stream",
          "name": "stdout",
          "text": [
            "FRIDAY        6.0\n",
            "MONDAY        6.0\n",
            "SATURDAY     10.0\n",
            "SUNDAY        9.0\n",
            "THURSDAY      6.0\n",
            "TUESDAY       8.0\n",
            "WEDNESDAY    10.0\n",
            "dtype: float64\n"
          ]
        }
      ]
    },
    {
      "cell_type": "code",
      "source": [
        "total_dias_thriller=pd.DataFrame(total_dias_thriller,columns=['cantidad'])\n",
        "total_dias_thriller.reset_index(inplace=True)\n",
        "total_dias_thriller.columns = total_dias_thriller.columns.str.replace('index', 'dias')\n",
        "total_dias_thriller.columns = total_dias_thriller.columns.str.replace('cantidad', 'thriller')\n",
        "\n",
        "total_dias_thriller.columns.values"
      ],
      "metadata": {
        "colab": {
          "base_uri": "https://localhost:8080/"
        },
        "id": "eK1beeyUcbxv",
        "outputId": "6b535464-a903-49ee-e7fd-4e2228106ea6"
      },
      "execution_count": 159,
      "outputs": [
        {
          "output_type": "execute_result",
          "data": {
            "text/plain": [
              "array(['dias', 'thriller'], dtype=object)"
            ]
          },
          "metadata": {},
          "execution_count": 159
        }
      ]
    },
    {
      "cell_type": "markdown",
      "source": [
        "####Action"
      ],
      "metadata": {
        "id": "WAyRIJTUccVM"
      }
    },
    {
      "cell_type": "code",
      "source": [
        "dias_action=data[data['genre']=='ACTION'].value_counts('weekdays')"
      ],
      "metadata": {
        "id": "4yO8fOjHccVN"
      },
      "execution_count": 160,
      "outputs": []
    },
    {
      "cell_type": "code",
      "source": [
        "dias_action=pd.DataFrame(dias_action,columns=['cantidad'])\n",
        "dias_action.reset_index(inplace=True)"
      ],
      "metadata": {
        "id": "VA0uRKQjccVN"
      },
      "execution_count": 161,
      "outputs": []
    },
    {
      "cell_type": "code",
      "source": [
        "dias_action.columns.values"
      ],
      "metadata": {
        "colab": {
          "base_uri": "https://localhost:8080/"
        },
        "outputId": "5b35f467-d4b7-42f7-a26a-9b204f15a684",
        "id": "rcYKrnArccVO"
      },
      "execution_count": 162,
      "outputs": [
        {
          "output_type": "execute_result",
          "data": {
            "text/plain": [
              "array(['weekdays', 'cantidad'], dtype=object)"
            ]
          },
          "metadata": {},
          "execution_count": 162
        }
      ]
    },
    {
      "cell_type": "code",
      "source": [
        "dias_action['cantidad'] = dias_action['cantidad'].astype(int)\n",
        "\n",
        "def separar_dias(row):\n",
        "    dias_list = row['weekdays'].split(',')\n",
        "    return pd.Series({dia.strip(): row['cantidad'] for dia in dias_list})\n",
        "\n",
        "# Aplicar la función a cada fila del DataFrame\n",
        "data_separada = dias_action.apply(separar_dias, axis=1).fillna(0)\n",
        "\n",
        "# Sumar las ocurrencias de cada día individualmente\n",
        "total_dias_action = data_separada.sum()\n",
        "\n",
        "print(total_dias_action)\n"
      ],
      "metadata": {
        "colab": {
          "base_uri": "https://localhost:8080/"
        },
        "outputId": "b7025a7e-73a1-4018-e043-4cf272dbedf6",
        "id": "Ud69R_07ccVO"
      },
      "execution_count": 163,
      "outputs": [
        {
          "output_type": "stream",
          "name": "stdout",
          "text": [
            "FRIDAY       2.0\n",
            "MONDAY       5.0\n",
            "SATURDAY     5.0\n",
            "SUNDAY       5.0\n",
            "THURSDAY     6.0\n",
            "TUESDAY      2.0\n",
            "WEDNESDAY    4.0\n",
            "dtype: float64\n"
          ]
        }
      ]
    },
    {
      "cell_type": "code",
      "source": [
        "total_dias_action=pd.DataFrame(total_dias_action,columns=['cantidad'])\n",
        "total_dias_action.reset_index(inplace=True)\n",
        "total_dias_action.columns = total_dias_action.columns.str.replace('index', 'dias')\n",
        "total_dias_action.columns = total_dias_action.columns.str.replace('cantidad', 'action')\n",
        "\n",
        "total_dias_action.columns.values"
      ],
      "metadata": {
        "colab": {
          "base_uri": "https://localhost:8080/"
        },
        "id": "kz2JOK3ymrus",
        "outputId": "f8e7b1de-a9da-42af-dff8-b5ca1f2f52eb"
      },
      "execution_count": 164,
      "outputs": [
        {
          "output_type": "execute_result",
          "data": {
            "text/plain": [
              "array(['dias', 'action'], dtype=object)"
            ]
          },
          "metadata": {},
          "execution_count": 164
        }
      ]
    },
    {
      "cell_type": "markdown",
      "source": [
        "####Comedy"
      ],
      "metadata": {
        "id": "SFB-Zy1DczCm"
      }
    },
    {
      "cell_type": "code",
      "source": [
        "dias_comedy=data[data['genre']=='COMEDY'].value_counts('weekdays')"
      ],
      "metadata": {
        "id": "lSGgA7TVczCn"
      },
      "execution_count": 165,
      "outputs": []
    },
    {
      "cell_type": "code",
      "source": [
        "dias_comedy=pd.DataFrame(dias_comedy,columns=['cantidad'])\n",
        "dias_comedy.reset_index(inplace=True)"
      ],
      "metadata": {
        "id": "l1DwCe0TczCo"
      },
      "execution_count": 166,
      "outputs": []
    },
    {
      "cell_type": "code",
      "source": [
        "dias_comedy.columns.values"
      ],
      "metadata": {
        "colab": {
          "base_uri": "https://localhost:8080/"
        },
        "outputId": "385408da-540e-44ee-b395-1cbd121f096b",
        "id": "W4XwGwcIczCo"
      },
      "execution_count": 167,
      "outputs": [
        {
          "output_type": "execute_result",
          "data": {
            "text/plain": [
              "array(['weekdays', 'cantidad'], dtype=object)"
            ]
          },
          "metadata": {},
          "execution_count": 167
        }
      ]
    },
    {
      "cell_type": "code",
      "source": [
        "dias_comedy['cantidad'] = dias_comedy['cantidad'].astype(int)\n",
        "\n",
        "def separar_dias(row):\n",
        "    dias_list = row['weekdays'].split(',')\n",
        "    return pd.Series({dia.strip(): row['cantidad'] for dia in dias_list})\n",
        "\n",
        "# Aplicar la función a cada fila del DataFrame\n",
        "data_separada = dias_comedy.apply(separar_dias, axis=1).fillna(0)\n",
        "\n",
        "# Sumar las ocurrencias de cada día individualmente\n",
        "total_dias_comedy = data_separada.sum()\n",
        "\n",
        "print(total_dias_comedy)\n"
      ],
      "metadata": {
        "colab": {
          "base_uri": "https://localhost:8080/"
        },
        "outputId": "bcf17a3c-ad98-4ca0-bd2b-4473f2a9cbf3",
        "id": "3dv_thaTczCp"
      },
      "execution_count": 168,
      "outputs": [
        {
          "output_type": "stream",
          "name": "stdout",
          "text": [
            "FRIDAY       4.0\n",
            "MONDAY       5.0\n",
            "SATURDAY     3.0\n",
            "SUNDAY       6.0\n",
            "THURSDAY     3.0\n",
            "TUESDAY      3.0\n",
            "WEDNESDAY    4.0\n",
            "dtype: float64\n"
          ]
        }
      ]
    },
    {
      "cell_type": "code",
      "source": [
        "total_dias_comedy=pd.DataFrame(total_dias_comedy,columns=['cantidad'])\n",
        "total_dias_comedy.reset_index(inplace=True)\n",
        "total_dias_comedy.columns = total_dias_comedy.columns.str.replace('index', 'dias')\n",
        "total_dias_comedy.columns = total_dias_comedy.columns.str.replace('cantidad', 'comedy')\n",
        "\n",
        "total_dias_comedy.columns.values"
      ],
      "metadata": {
        "colab": {
          "base_uri": "https://localhost:8080/"
        },
        "id": "LKfqtTAfmv6u",
        "outputId": "323b7834-7baa-442e-90c0-26016f07d6c9"
      },
      "execution_count": 169,
      "outputs": [
        {
          "output_type": "execute_result",
          "data": {
            "text/plain": [
              "array(['dias', 'comedy'], dtype=object)"
            ]
          },
          "metadata": {},
          "execution_count": 169
        }
      ]
    },
    {
      "cell_type": "markdown",
      "source": [
        "####Horror"
      ],
      "metadata": {
        "id": "QyX0IE_0gnMe"
      }
    },
    {
      "cell_type": "code",
      "source": [
        "dias_horror=data[data['genre']=='HORROR'].value_counts('weekdays')\n",
        "dias_horror=pd.DataFrame(dias_horror,columns=['cantidad'])\n",
        "dias_horror.reset_index(inplace=True)\n",
        "\n",
        "dias_horror.columns.values\n",
        "\n",
        "dias_horror['cantidad'] = dias_horror['cantidad'].astype(int)\n",
        "\n",
        "def separar_dias(row):\n",
        "    dias_list = row['weekdays'].split(',')\n",
        "    return pd.Series({dia.strip(): row['cantidad'] for dia in dias_list})\n",
        "\n",
        "# Aplicar la función a cada fila del DataFrame\n",
        "data_separada = dias_horror.apply(separar_dias, axis=1).fillna(0)\n",
        "\n",
        "# Sumar las ocurrencias de cada día individualmente\n",
        "total_dias_horror = data_separada.sum()\n",
        "\n",
        "print(total_dias_horror)"
      ],
      "metadata": {
        "colab": {
          "base_uri": "https://localhost:8080/"
        },
        "id": "QlNu7DU8gnMm",
        "outputId": "c7d4d495-a2d5-42ab-ab02-45c3a22363bb"
      },
      "execution_count": 170,
      "outputs": [
        {
          "output_type": "stream",
          "name": "stdout",
          "text": [
            "FRIDAY       3.0\n",
            "MONDAY       2.0\n",
            "SATURDAY     2.0\n",
            "SUNDAY       4.0\n",
            "THURSDAY     3.0\n",
            "TUESDAY      5.0\n",
            "WEDNESDAY    3.0\n",
            "dtype: float64\n"
          ]
        }
      ]
    },
    {
      "cell_type": "code",
      "source": [
        "total_dias_horror=pd.DataFrame(total_dias_horror,columns=['cantidad'])\n",
        "total_dias_horror.reset_index(inplace=True)\n",
        "total_dias_horror.columns = total_dias_horror.columns.str.replace('index', 'dias')\n",
        "total_dias_horror.columns = total_dias_horror.columns.str.replace('cantidad', 'horror')\n",
        "\n",
        "total_dias_horror.columns.values"
      ],
      "metadata": {
        "colab": {
          "base_uri": "https://localhost:8080/"
        },
        "id": "MnHrohRom1S9",
        "outputId": "49066960-3a7f-4750-b2bf-6ad6f224c0da"
      },
      "execution_count": 171,
      "outputs": [
        {
          "output_type": "execute_result",
          "data": {
            "text/plain": [
              "array(['dias', 'horror'], dtype=object)"
            ]
          },
          "metadata": {},
          "execution_count": 171
        }
      ]
    },
    {
      "cell_type": "markdown",
      "source": [
        "####Supernatural"
      ],
      "metadata": {
        "id": "PB6BsmKHg-2b"
      }
    },
    {
      "cell_type": "code",
      "source": [
        "dias_supernatural=data[data['genre']=='SUPERNATURAL'].value_counts('weekdays')\n",
        "dias_supernatural=pd.DataFrame(dias_supernatural,columns=['cantidad'])\n",
        "dias_supernatural.reset_index(inplace=True)\n",
        "\n",
        "dias_supernatural.columns.values\n",
        "\n",
        "dias_supernatural['cantidad'] = dias_supernatural['cantidad'].astype(int)\n",
        "\n",
        "def separar_dias(row):\n",
        "    dias_list = row['weekdays'].split(',')\n",
        "    return pd.Series({dia.strip(): row['cantidad'] for dia in dias_list})\n",
        "\n",
        "# Aplicar la función a cada fila del DataFrame\n",
        "data_separada = dias_supernatural.apply(separar_dias, axis=1).fillna(0)\n",
        "\n",
        "# Sumar las ocurrencias de cada día individualmente\n",
        "total_dias_supernatural = data_separada.sum()\n",
        "\n",
        "print(total_dias_supernatural)"
      ],
      "metadata": {
        "colab": {
          "base_uri": "https://localhost:8080/"
        },
        "outputId": "fddc357f-d353-4dbb-94b2-ee2831d00706",
        "id": "WX7Sd5kWg-2n"
      },
      "execution_count": 172,
      "outputs": [
        {
          "output_type": "stream",
          "name": "stdout",
          "text": [
            "FRIDAY       2.0\n",
            "SATURDAY     3.0\n",
            "SUNDAY       1.0\n",
            "THURSDAY     1.0\n",
            "TUESDAY      2.0\n",
            "WEDNESDAY    1.0\n",
            "dtype: float64\n"
          ]
        }
      ]
    },
    {
      "cell_type": "code",
      "source": [
        "total_dias_supernatural=pd.DataFrame(total_dias_supernatural,columns=['cantidad'])\n",
        "total_dias_supernatural.reset_index(inplace=True)\n",
        "total_dias_supernatural.columns = total_dias_supernatural.columns.str.replace('index', 'dias')\n",
        "total_dias_supernatural.columns = total_dias_supernatural.columns.str.replace('cantidad', 'supernatural')\n",
        "\n",
        "total_dias_supernatural.columns.values"
      ],
      "metadata": {
        "colab": {
          "base_uri": "https://localhost:8080/"
        },
        "id": "2Y45EDV0m46i",
        "outputId": "7b3aefef-5363-4d03-b6ab-f195705bc13a"
      },
      "execution_count": 173,
      "outputs": [
        {
          "output_type": "execute_result",
          "data": {
            "text/plain": [
              "array(['dias', 'supernatural'], dtype=object)"
            ]
          },
          "metadata": {},
          "execution_count": 173
        }
      ]
    },
    {
      "cell_type": "markdown",
      "source": [
        "####SLICE_OF_LIFE"
      ],
      "metadata": {
        "id": "fYVldU2Jh6bP"
      }
    },
    {
      "cell_type": "code",
      "source": [
        "dias_SLICE_OF_LIFE=data[data['genre']=='SLICE_OF_LIFE'].value_counts('weekdays')\n",
        "dias_SLICE_OF_LIFE=pd.DataFrame(dias_SLICE_OF_LIFE,columns=['cantidad'])\n",
        "dias_SLICE_OF_LIFE.reset_index(inplace=True)\n",
        "\n",
        "dias_SLICE_OF_LIFE.columns.values\n",
        "\n",
        "dias_SLICE_OF_LIFE['cantidad'] = dias_SLICE_OF_LIFE['cantidad'].astype(int)\n",
        "\n",
        "def separar_dias(row):\n",
        "    dias_list = row['weekdays'].split(',')\n",
        "    return pd.Series({dia.strip(): row['cantidad'] for dia in dias_list})\n",
        "\n",
        "# Aplicar la función a cada fila del DataFrame\n",
        "data_separada = dias_SLICE_OF_LIFE.apply(separar_dias, axis=1).fillna(0)\n",
        "\n",
        "# Sumar las ocurrencias de cada día individualmente\n",
        "total_dias_SLICE_OF_LIFE = data_separada.sum()\n",
        "\n",
        "print(total_dias_SLICE_OF_LIFE)"
      ],
      "metadata": {
        "colab": {
          "base_uri": "https://localhost:8080/"
        },
        "outputId": "8041c975-7468-4929-9d55-44dff8a72eb3",
        "id": "Cq-l3TYqh6bl"
      },
      "execution_count": 174,
      "outputs": [
        {
          "output_type": "stream",
          "name": "stdout",
          "text": [
            "FRIDAY       5.0\n",
            "MONDAY       3.0\n",
            "SATURDAY     1.0\n",
            "SUNDAY       2.0\n",
            "THURSDAY     4.0\n",
            "TUESDAY      2.0\n",
            "WEDNESDAY    2.0\n",
            "dtype: float64\n"
          ]
        }
      ]
    },
    {
      "cell_type": "code",
      "source": [
        "total_dias_SLICE_OF_LIFE=pd.DataFrame(total_dias_SLICE_OF_LIFE,columns=['cantidad'])\n",
        "total_dias_SLICE_OF_LIFE.reset_index(inplace=True)\n",
        "total_dias_SLICE_OF_LIFE.columns = total_dias_SLICE_OF_LIFE.columns.str.replace('index', 'dias')\n",
        "total_dias_SLICE_OF_LIFE.columns = total_dias_SLICE_OF_LIFE.columns.str.replace('cantidad', 'Slice of life')\n",
        "\n",
        "total_dias_SLICE_OF_LIFE.columns.values"
      ],
      "metadata": {
        "colab": {
          "base_uri": "https://localhost:8080/"
        },
        "id": "-EzUBPk0nAx1",
        "outputId": "813efad4-48b0-4fd4-f94f-099366ebf0ab"
      },
      "execution_count": 175,
      "outputs": [
        {
          "output_type": "execute_result",
          "data": {
            "text/plain": [
              "array(['dias', 'Slice of life'], dtype=object)"
            ]
          },
          "metadata": {},
          "execution_count": 175
        }
      ]
    },
    {
      "cell_type": "markdown",
      "source": [
        "####SF"
      ],
      "metadata": {
        "id": "Bh6R34_Giqbn"
      }
    },
    {
      "cell_type": "code",
      "source": [
        "dias_SF=data[data['genre']=='SF'].value_counts('weekdays')\n",
        "dias_SF=pd.DataFrame(dias_SF,columns=['cantidad'])\n",
        "dias_SF.reset_index(inplace=True)\n",
        "\n",
        "dias_SF.columns.values\n",
        "\n",
        "dias_SF['cantidad'] = dias_SF['cantidad'].astype(int)\n",
        "\n",
        "def separar_dias(row):\n",
        "    dias_list = row['weekdays'].split(',')\n",
        "    return pd.Series({dia.strip(): row['cantidad'] for dia in dias_list})\n",
        "\n",
        "# Aplicar la función a cada fila del DataFrame\n",
        "data_separada = dias_SF.apply(separar_dias, axis=1).fillna(0)\n",
        "\n",
        "# Sumar las ocurrencias de cada día individualmente\n",
        "total_dias_SF = data_separada.sum()\n",
        "\n",
        "print(total_dias_SF)"
      ],
      "metadata": {
        "colab": {
          "base_uri": "https://localhost:8080/"
        },
        "outputId": "fa185354-6d79-4783-9fff-c59b32fdaa63",
        "id": "40v6lZ8Wiqbw"
      },
      "execution_count": 176,
      "outputs": [
        {
          "output_type": "stream",
          "name": "stdout",
          "text": [
            "FRIDAY       3.0\n",
            "MONDAY       1.0\n",
            "SATURDAY     3.0\n",
            "SUNDAY       2.0\n",
            "THURSDAY     1.0\n",
            "TUESDAY      1.0\n",
            "WEDNESDAY    1.0\n",
            "dtype: float64\n"
          ]
        }
      ]
    },
    {
      "cell_type": "code",
      "source": [
        "total_dias_SF=pd.DataFrame(total_dias_SF,columns=['cantidad'])\n",
        "total_dias_SF.reset_index(inplace=True)\n",
        "total_dias_SF.columns = total_dias_SF.columns.str.replace('index', 'dias')\n",
        "total_dias_SF.columns = total_dias_SF.columns.str.replace('cantidad', 'SF')\n",
        "\n",
        "total_dias_SF.columns.values"
      ],
      "metadata": {
        "colab": {
          "base_uri": "https://localhost:8080/"
        },
        "id": "iVZJa9xwnEwu",
        "outputId": "cf115dc8-c1db-40ab-ce76-49c2e7a8c0e8"
      },
      "execution_count": 177,
      "outputs": [
        {
          "output_type": "execute_result",
          "data": {
            "text/plain": [
              "array(['dias', 'SF'], dtype=object)"
            ]
          },
          "metadata": {},
          "execution_count": 177
        }
      ]
    },
    {
      "cell_type": "markdown",
      "source": [
        "####Super heroes"
      ],
      "metadata": {
        "id": "SA4FXwdCjXjX"
      }
    },
    {
      "cell_type": "code",
      "source": [
        "dias_superhero=data[data['genre']=='SUPER_HERO'].value_counts('weekdays')\n",
        "dias_superhero=pd.DataFrame(dias_superhero,columns=['cantidad'])\n",
        "dias_superhero.reset_index(inplace=True)\n",
        "\n",
        "dias_superhero.columns.values\n",
        "\n",
        "dias_superhero['cantidad'] = dias_superhero['cantidad'].astype(int)\n",
        "\n",
        "def separar_dias(row):\n",
        "    dias_list = row['weekdays'].split(',')\n",
        "    return pd.Series({dia.strip(): row['cantidad'] for dia in dias_list})\n",
        "\n",
        "# Aplicar la función a cada fila del DataFrame\n",
        "data_separada = dias_superhero.apply(separar_dias, axis=1).fillna(0)\n",
        "\n",
        "# Sumar las ocurrencias de cada día individualmente\n",
        "total_dias_superhero = data_separada.sum()\n",
        "\n",
        "print(total_dias_superhero)"
      ],
      "metadata": {
        "colab": {
          "base_uri": "https://localhost:8080/"
        },
        "outputId": "72decf45-8133-4afc-a2c2-e98a1d509859",
        "id": "bWCDsFA_jXji"
      },
      "execution_count": 178,
      "outputs": [
        {
          "output_type": "stream",
          "name": "stdout",
          "text": [
            "FRIDAY       1.0\n",
            "MONDAY       1.0\n",
            "THURSDAY     1.0\n",
            "TUESDAY      1.0\n",
            "WEDNESDAY    1.0\n",
            "dtype: float64\n"
          ]
        }
      ]
    },
    {
      "cell_type": "code",
      "source": [
        "total_dias_superhero=pd.DataFrame(total_dias_superhero,columns=['cantidad'])\n",
        "total_dias_superhero.reset_index(inplace=True)\n",
        "total_dias_superhero.columns = total_dias_superhero.columns.str.replace('index', 'dias')\n",
        "total_dias_superhero.columns = total_dias_superhero.columns.str.replace('cantidad', 'superhero')\n",
        "\n",
        "total_dias_superhero.columns.values"
      ],
      "metadata": {
        "colab": {
          "base_uri": "https://localhost:8080/"
        },
        "id": "ozcLEPs2nJH8",
        "outputId": "8cf3631b-f41b-445c-e39a-45e9c3a3057c"
      },
      "execution_count": 179,
      "outputs": [
        {
          "output_type": "execute_result",
          "data": {
            "text/plain": [
              "array(['dias', 'superhero'], dtype=object)"
            ]
          },
          "metadata": {},
          "execution_count": 179
        }
      ]
    },
    {
      "cell_type": "markdown",
      "source": [
        "####Deportes"
      ],
      "metadata": {
        "id": "uz_9GzGhjt5u"
      }
    },
    {
      "cell_type": "code",
      "source": [
        "dias_sports=data[data['genre']=='SPORTS'].value_counts('weekdays')\n",
        "dias_sports=pd.DataFrame(dias_sports,columns=['cantidad'])\n",
        "dias_sports.reset_index(inplace=True)\n",
        "\n",
        "dias_sports.columns.values\n",
        "\n",
        "dias_sports['cantidad'] = dias_sports['cantidad'].astype(int)\n",
        "\n",
        "def separar_dias(row):\n",
        "    dias_list = row['weekdays'].split(',')\n",
        "    return pd.Series({dia.strip(): row['cantidad'] for dia in dias_list})\n",
        "\n",
        "# Aplicar la función a cada fila del DataFrame\n",
        "data_separada = dias_sports.apply(separar_dias, axis=1).fillna(0)\n",
        "\n",
        "# Sumar las ocurrencias de cada día individualmente\n",
        "total_dias_sports = data_separada.sum()\n",
        "\n",
        "print(total_dias_sports)"
      ],
      "metadata": {
        "colab": {
          "base_uri": "https://localhost:8080/"
        },
        "outputId": "a92a0b09-98fa-44f7-86a6-e40ae77ecc3a",
        "id": "gWradnWmjt6F"
      },
      "execution_count": 180,
      "outputs": [
        {
          "output_type": "stream",
          "name": "stdout",
          "text": [
            "FRIDAY       1.0\n",
            "SUNDAY       1.0\n",
            "WEDNESDAY    1.0\n",
            "dtype: float64\n"
          ]
        }
      ]
    },
    {
      "cell_type": "code",
      "source": [
        "total_dias_sports=pd.DataFrame(total_dias_sports,columns=['cantidad'])\n",
        "total_dias_sports.reset_index(inplace=True)\n",
        "total_dias_sports.columns = total_dias_sports.columns.str.replace('index', 'dias')\n",
        "total_dias_sports.columns = total_dias_sports.columns.str.replace('cantidad', 'sports')\n",
        "\n",
        "total_dias_sports.columns.values"
      ],
      "metadata": {
        "colab": {
          "base_uri": "https://localhost:8080/"
        },
        "id": "FScz__fwnNV9",
        "outputId": "1d92d254-6f81-4237-c5fb-80c39d47512e"
      },
      "execution_count": 181,
      "outputs": [
        {
          "output_type": "execute_result",
          "data": {
            "text/plain": [
              "array(['dias', 'sports'], dtype=object)"
            ]
          },
          "metadata": {},
          "execution_count": 181
        }
      ]
    },
    {
      "cell_type": "markdown",
      "source": [
        "####TIPTOON"
      ],
      "metadata": {
        "id": "d8NCLfhjj785"
      }
    },
    {
      "cell_type": "code",
      "source": [
        "dias_TIPTOON=data[data['genre']=='TIPTOON'].value_counts('weekdays')\n",
        "dias_TIPTOON=pd.DataFrame(dias_TIPTOON,columns=['cantidad'])\n",
        "dias_TIPTOON.reset_index(inplace=True)\n",
        "\n",
        "dias_TIPTOON.columns.values\n",
        "\n",
        "dias_TIPTOON['cantidad'] = dias_TIPTOON['cantidad'].astype(int)\n",
        "\n",
        "def separar_dias(row):\n",
        "    dias_list = row['weekdays'].split(',')\n",
        "    return pd.Series({dia.strip(): row['cantidad'] for dia in dias_list})\n",
        "\n",
        "# Aplicar la función a cada fila del DataFrame\n",
        "data_separada = dias_TIPTOON.apply(separar_dias, axis=1).fillna(0)\n",
        "\n",
        "# Sumar las ocurrencias de cada día individualmente\n",
        "total_dias_tiptoon = data_separada.sum()\n",
        "\n",
        "print(total_dias_tiptoon)"
      ],
      "metadata": {
        "colab": {
          "base_uri": "https://localhost:8080/"
        },
        "outputId": "1bd0ae5f-b95b-4011-bd8b-655cf78c20fe",
        "id": "nF_5V4Gvj79N"
      },
      "execution_count": 182,
      "outputs": [
        {
          "output_type": "stream",
          "name": "stdout",
          "text": [
            "FRIDAY       1.0\n",
            "MONDAY       1.0\n",
            "SATURDAY     1.0\n",
            "SUNDAY       1.0\n",
            "THURSDAY     1.0\n",
            "TUESDAY      1.0\n",
            "WEDNESDAY    3.0\n",
            "dtype: float64\n"
          ]
        }
      ]
    },
    {
      "cell_type": "code",
      "source": [
        "total_dias_tiptoon=pd.DataFrame(total_dias_tiptoon,columns=['cantidad'])\n",
        "total_dias_tiptoon.reset_index(inplace=True)\n",
        "total_dias_tiptoon.columns = total_dias_tiptoon.columns.str.replace('index', 'dias')\n",
        "total_dias_tiptoon.columns = total_dias_tiptoon.columns.str.replace('cantidad', 'tiptoon')\n",
        "total_dias_tiptoon.columns.values"
      ],
      "metadata": {
        "colab": {
          "base_uri": "https://localhost:8080/"
        },
        "id": "NIjTJt8AnRJ3",
        "outputId": "5b0044c3-de1d-4ec2-f526-c7a05fee6be5"
      },
      "execution_count": 183,
      "outputs": [
        {
          "output_type": "execute_result",
          "data": {
            "text/plain": [
              "array(['dias', 'tiptoon'], dtype=object)"
            ]
          },
          "metadata": {},
          "execution_count": 183
        }
      ]
    },
    {
      "cell_type": "markdown",
      "source": [
        "####Historico"
      ],
      "metadata": {
        "id": "L1fMJxjulKZN"
      }
    },
    {
      "cell_type": "code",
      "source": [
        "dias_HISTORICAL=data[data['genre']=='HISTORICAL'].value_counts('weekdays')\n",
        "dias_HISTORICAL=pd.DataFrame(dias_HISTORICAL,columns=['cantidad'])\n",
        "dias_HISTORICAL.reset_index(inplace=True)\n",
        "\n",
        "dias_HISTORICAL.columns.values\n",
        "\n",
        "dias_HISTORICAL['cantidad'] = dias_HISTORICAL['cantidad'].astype(int)\n",
        "\n",
        "def separar_dias(row):\n",
        "    dias_list = row['weekdays'].split(',')\n",
        "    return pd.Series({dia.strip(): row['cantidad'] for dia in dias_list})\n",
        "\n",
        "# Aplicar la función a cada fila del DataFrame\n",
        "data_separada = dias_HISTORICAL.apply(separar_dias, axis=1).fillna(0)\n",
        "\n",
        "# Sumar las ocurrencias de cada día individualmente\n",
        "total_dias_historical = data_separada.sum()\n",
        "\n",
        "print(total_dias_historical)"
      ],
      "metadata": {
        "colab": {
          "base_uri": "https://localhost:8080/"
        },
        "outputId": "260a8db3-fdce-4331-e786-8acad220ef8d",
        "id": "AagbUigSlKZr"
      },
      "execution_count": 184,
      "outputs": [
        {
          "output_type": "stream",
          "name": "stdout",
          "text": [
            "MONDAY       1.0\n",
            "WEDNESDAY    1.0\n",
            "dtype: float64\n"
          ]
        }
      ]
    },
    {
      "cell_type": "code",
      "source": [
        "total_dias_historical=pd.DataFrame(total_dias_historical,columns=['cantidad'])\n",
        "total_dias_historical.reset_index(inplace=True)\n",
        "total_dias_historical.columns = total_dias_historical.columns.str.replace('index', 'dias')\n",
        "total_dias_historical.columns = total_dias_historical.columns.str.replace('cantidad', 'historical')\n",
        "total_dias_historical.columns.values"
      ],
      "metadata": {
        "colab": {
          "base_uri": "https://localhost:8080/"
        },
        "id": "fOLhgcVHnU29",
        "outputId": "6894be34-19d7-420d-f65a-362c44f8229b"
      },
      "execution_count": 185,
      "outputs": [
        {
          "output_type": "execute_result",
          "data": {
            "text/plain": [
              "array(['dias', 'historical'], dtype=object)"
            ]
          },
          "metadata": {},
          "execution_count": 185
        }
      ]
    },
    {
      "cell_type": "markdown",
      "source": [
        "##Análisis de correlación"
      ],
      "metadata": {
        "id": "XKYG_aVDzcIa"
      }
    },
    {
      "cell_type": "code",
      "source": [
        "corr_matrix=data.corr().round(2)\n",
        "corr_matrix"
      ],
      "metadata": {
        "colab": {
          "base_uri": "https://localhost:8080/",
          "height": 402
        },
        "id": "vUZ_oivSyTQD",
        "outputId": "c28afd1d-a0f9-42e3-de6d-456f5d2a607d"
      },
      "execution_count": 186,
      "outputs": [
        {
          "output_type": "stream",
          "name": "stderr",
          "text": [
            "<ipython-input-186-44c1ae3a51ff>:1: FutureWarning:\n",
            "\n",
            "The default value of numeric_only in DataFrame.corr is deprecated. In a future version, it will default to False. Select only valid columns or specify the value of numeric_only to silence this warning.\n",
            "\n"
          ]
        },
        {
          "output_type": "execute_result",
          "data": {
            "text/plain": [
              "             title_id  length  subscribers  rating  views  likes  daily_pass\n",
              "title_id         1.00   -0.52        -0.42   -0.04  -0.47  -0.55       -0.10\n",
              "length          -0.52    1.00         0.22   -0.03   0.40   0.51       -0.21\n",
              "subscribers     -0.42    0.22         1.00    0.28   0.91   0.89        0.04\n",
              "rating          -0.04   -0.03         0.28    1.00   0.17   0.20        0.00\n",
              "views           -0.47    0.40         0.91    0.17   1.00   0.97        0.05\n",
              "likes           -0.55    0.51         0.89    0.20   0.97   1.00        0.04\n",
              "daily_pass      -0.10   -0.21         0.04    0.00   0.05   0.04        1.00"
            ],
            "text/html": [
              "\n",
              "\n",
              "  <div id=\"df-2235e484-685c-4a34-913a-039fa05e2524\">\n",
              "    <div class=\"colab-df-container\">\n",
              "      <div>\n",
              "<style scoped>\n",
              "    .dataframe tbody tr th:only-of-type {\n",
              "        vertical-align: middle;\n",
              "    }\n",
              "\n",
              "    .dataframe tbody tr th {\n",
              "        vertical-align: top;\n",
              "    }\n",
              "\n",
              "    .dataframe thead th {\n",
              "        text-align: right;\n",
              "    }\n",
              "</style>\n",
              "<table border=\"1\" class=\"dataframe\">\n",
              "  <thead>\n",
              "    <tr style=\"text-align: right;\">\n",
              "      <th></th>\n",
              "      <th>title_id</th>\n",
              "      <th>length</th>\n",
              "      <th>subscribers</th>\n",
              "      <th>rating</th>\n",
              "      <th>views</th>\n",
              "      <th>likes</th>\n",
              "      <th>daily_pass</th>\n",
              "    </tr>\n",
              "  </thead>\n",
              "  <tbody>\n",
              "    <tr>\n",
              "      <th>title_id</th>\n",
              "      <td>1.00</td>\n",
              "      <td>-0.52</td>\n",
              "      <td>-0.42</td>\n",
              "      <td>-0.04</td>\n",
              "      <td>-0.47</td>\n",
              "      <td>-0.55</td>\n",
              "      <td>-0.10</td>\n",
              "    </tr>\n",
              "    <tr>\n",
              "      <th>length</th>\n",
              "      <td>-0.52</td>\n",
              "      <td>1.00</td>\n",
              "      <td>0.22</td>\n",
              "      <td>-0.03</td>\n",
              "      <td>0.40</td>\n",
              "      <td>0.51</td>\n",
              "      <td>-0.21</td>\n",
              "    </tr>\n",
              "    <tr>\n",
              "      <th>subscribers</th>\n",
              "      <td>-0.42</td>\n",
              "      <td>0.22</td>\n",
              "      <td>1.00</td>\n",
              "      <td>0.28</td>\n",
              "      <td>0.91</td>\n",
              "      <td>0.89</td>\n",
              "      <td>0.04</td>\n",
              "    </tr>\n",
              "    <tr>\n",
              "      <th>rating</th>\n",
              "      <td>-0.04</td>\n",
              "      <td>-0.03</td>\n",
              "      <td>0.28</td>\n",
              "      <td>1.00</td>\n",
              "      <td>0.17</td>\n",
              "      <td>0.20</td>\n",
              "      <td>0.00</td>\n",
              "    </tr>\n",
              "    <tr>\n",
              "      <th>views</th>\n",
              "      <td>-0.47</td>\n",
              "      <td>0.40</td>\n",
              "      <td>0.91</td>\n",
              "      <td>0.17</td>\n",
              "      <td>1.00</td>\n",
              "      <td>0.97</td>\n",
              "      <td>0.05</td>\n",
              "    </tr>\n",
              "    <tr>\n",
              "      <th>likes</th>\n",
              "      <td>-0.55</td>\n",
              "      <td>0.51</td>\n",
              "      <td>0.89</td>\n",
              "      <td>0.20</td>\n",
              "      <td>0.97</td>\n",
              "      <td>1.00</td>\n",
              "      <td>0.04</td>\n",
              "    </tr>\n",
              "    <tr>\n",
              "      <th>daily_pass</th>\n",
              "      <td>-0.10</td>\n",
              "      <td>-0.21</td>\n",
              "      <td>0.04</td>\n",
              "      <td>0.00</td>\n",
              "      <td>0.05</td>\n",
              "      <td>0.04</td>\n",
              "      <td>1.00</td>\n",
              "    </tr>\n",
              "  </tbody>\n",
              "</table>\n",
              "</div>\n",
              "      <button class=\"colab-df-convert\" onclick=\"convertToInteractive('df-2235e484-685c-4a34-913a-039fa05e2524')\"\n",
              "              title=\"Convert this dataframe to an interactive table.\"\n",
              "              style=\"display:none;\">\n",
              "\n",
              "  <svg xmlns=\"http://www.w3.org/2000/svg\" height=\"24px\"viewBox=\"0 0 24 24\"\n",
              "       width=\"24px\">\n",
              "    <path d=\"M0 0h24v24H0V0z\" fill=\"none\"/>\n",
              "    <path d=\"M18.56 5.44l.94 2.06.94-2.06 2.06-.94-2.06-.94-.94-2.06-.94 2.06-2.06.94zm-11 1L8.5 8.5l.94-2.06 2.06-.94-2.06-.94L8.5 2.5l-.94 2.06-2.06.94zm10 10l.94 2.06.94-2.06 2.06-.94-2.06-.94-.94-2.06-.94 2.06-2.06.94z\"/><path d=\"M17.41 7.96l-1.37-1.37c-.4-.4-.92-.59-1.43-.59-.52 0-1.04.2-1.43.59L10.3 9.45l-7.72 7.72c-.78.78-.78 2.05 0 2.83L4 21.41c.39.39.9.59 1.41.59.51 0 1.02-.2 1.41-.59l7.78-7.78 2.81-2.81c.8-.78.8-2.07 0-2.86zM5.41 20L4 18.59l7.72-7.72 1.47 1.35L5.41 20z\"/>\n",
              "  </svg>\n",
              "      </button>\n",
              "\n",
              "\n",
              "\n",
              "    <div id=\"df-ca73f1de-9698-46c8-9c65-fc7075af669a\">\n",
              "      <button class=\"colab-df-quickchart\" onclick=\"quickchart('df-ca73f1de-9698-46c8-9c65-fc7075af669a')\"\n",
              "              title=\"Suggest charts.\"\n",
              "              style=\"display:none;\">\n",
              "\n",
              "<svg xmlns=\"http://www.w3.org/2000/svg\" height=\"24px\"viewBox=\"0 0 24 24\"\n",
              "     width=\"24px\">\n",
              "    <g>\n",
              "        <path d=\"M19 3H5c-1.1 0-2 .9-2 2v14c0 1.1.9 2 2 2h14c1.1 0 2-.9 2-2V5c0-1.1-.9-2-2-2zM9 17H7v-7h2v7zm4 0h-2V7h2v10zm4 0h-2v-4h2v4z\"/>\n",
              "    </g>\n",
              "</svg>\n",
              "      </button>\n",
              "    </div>\n",
              "\n",
              "<style>\n",
              "  .colab-df-quickchart {\n",
              "    background-color: #E8F0FE;\n",
              "    border: none;\n",
              "    border-radius: 50%;\n",
              "    cursor: pointer;\n",
              "    display: none;\n",
              "    fill: #1967D2;\n",
              "    height: 32px;\n",
              "    padding: 0 0 0 0;\n",
              "    width: 32px;\n",
              "  }\n",
              "\n",
              "  .colab-df-quickchart:hover {\n",
              "    background-color: #E2EBFA;\n",
              "    box-shadow: 0px 1px 2px rgba(60, 64, 67, 0.3), 0px 1px 3px 1px rgba(60, 64, 67, 0.15);\n",
              "    fill: #174EA6;\n",
              "  }\n",
              "\n",
              "  [theme=dark] .colab-df-quickchart {\n",
              "    background-color: #3B4455;\n",
              "    fill: #D2E3FC;\n",
              "  }\n",
              "\n",
              "  [theme=dark] .colab-df-quickchart:hover {\n",
              "    background-color: #434B5C;\n",
              "    box-shadow: 0px 1px 3px 1px rgba(0, 0, 0, 0.15);\n",
              "    filter: drop-shadow(0px 1px 2px rgba(0, 0, 0, 0.3));\n",
              "    fill: #FFFFFF;\n",
              "  }\n",
              "</style>\n",
              "\n",
              "    <script>\n",
              "      async function quickchart(key) {\n",
              "        const containerElement = document.querySelector('#' + key);\n",
              "        const charts = await google.colab.kernel.invokeFunction(\n",
              "            'suggestCharts', [key], {});\n",
              "      }\n",
              "    </script>\n",
              "\n",
              "      <script>\n",
              "\n",
              "function displayQuickchartButton(domScope) {\n",
              "  let quickchartButtonEl =\n",
              "    domScope.querySelector('#df-ca73f1de-9698-46c8-9c65-fc7075af669a button.colab-df-quickchart');\n",
              "  quickchartButtonEl.style.display =\n",
              "    google.colab.kernel.accessAllowed ? 'block' : 'none';\n",
              "}\n",
              "\n",
              "        displayQuickchartButton(document);\n",
              "      </script>\n",
              "      <style>\n",
              "    .colab-df-container {\n",
              "      display:flex;\n",
              "      flex-wrap:wrap;\n",
              "      gap: 12px;\n",
              "    }\n",
              "\n",
              "    .colab-df-convert {\n",
              "      background-color: #E8F0FE;\n",
              "      border: none;\n",
              "      border-radius: 50%;\n",
              "      cursor: pointer;\n",
              "      display: none;\n",
              "      fill: #1967D2;\n",
              "      height: 32px;\n",
              "      padding: 0 0 0 0;\n",
              "      width: 32px;\n",
              "    }\n",
              "\n",
              "    .colab-df-convert:hover {\n",
              "      background-color: #E2EBFA;\n",
              "      box-shadow: 0px 1px 2px rgba(60, 64, 67, 0.3), 0px 1px 3px 1px rgba(60, 64, 67, 0.15);\n",
              "      fill: #174EA6;\n",
              "    }\n",
              "\n",
              "    [theme=dark] .colab-df-convert {\n",
              "      background-color: #3B4455;\n",
              "      fill: #D2E3FC;\n",
              "    }\n",
              "\n",
              "    [theme=dark] .colab-df-convert:hover {\n",
              "      background-color: #434B5C;\n",
              "      box-shadow: 0px 1px 3px 1px rgba(0, 0, 0, 0.15);\n",
              "      filter: drop-shadow(0px 1px 2px rgba(0, 0, 0, 0.3));\n",
              "      fill: #FFFFFF;\n",
              "    }\n",
              "  </style>\n",
              "\n",
              "      <script>\n",
              "        const buttonEl =\n",
              "          document.querySelector('#df-2235e484-685c-4a34-913a-039fa05e2524 button.colab-df-convert');\n",
              "        buttonEl.style.display =\n",
              "          google.colab.kernel.accessAllowed ? 'block' : 'none';\n",
              "\n",
              "        async function convertToInteractive(key) {\n",
              "          const element = document.querySelector('#df-2235e484-685c-4a34-913a-039fa05e2524');\n",
              "          const dataTable =\n",
              "            await google.colab.kernel.invokeFunction('convertToInteractive',\n",
              "                                                     [key], {});\n",
              "          if (!dataTable) return;\n",
              "\n",
              "          const docLinkHtml = 'Like what you see? Visit the ' +\n",
              "            '<a target=\"_blank\" href=https://colab.research.google.com/notebooks/data_table.ipynb>data table notebook</a>'\n",
              "            + ' to learn more about interactive tables.';\n",
              "          element.innerHTML = '';\n",
              "          dataTable['output_type'] = 'display_data';\n",
              "          await google.colab.output.renderOutput(dataTable, element);\n",
              "          const docLink = document.createElement('div');\n",
              "          docLink.innerHTML = docLinkHtml;\n",
              "          element.appendChild(docLink);\n",
              "        }\n",
              "      </script>\n",
              "    </div>\n",
              "  </div>\n"
            ]
          },
          "metadata": {},
          "execution_count": 186
        }
      ]
    },
    {
      "cell_type": "code",
      "source": [
        "plt.figure(figsize=(10,6))\n",
        "sns.heatmap(data=corr_matrix,annot=True,annot_kws={'size':10})\n",
        "plt.show()"
      ],
      "metadata": {
        "colab": {
          "base_uri": "https://localhost:8080/",
          "height": 436
        },
        "id": "Tt5xpV1ayeOd",
        "outputId": "70b4bb6c-dc51-4bf7-bf92-e3a5d2370867"
      },
      "execution_count": 187,
      "outputs": [
        {
          "output_type": "display_data",
          "data": {
            "text/plain": [
              "<Figure size 1000x600 with 2 Axes>"
            ],
            "image/png": "[encoded data removed]"
          },
          "metadata": {}
        }
      ]
    },
    {
      "cell_type": "code",
      "source": [
        "fig = px.scatter_matrix(data,\n",
        "    dimensions=[ \"length\", \"subscribers\", \"rating\",'views','likes','daily_pass'])\n",
        "fig.show()"
      ],
      "metadata": {
        "colab": {
          "base_uri": "https://localhost:8080/",
          "height": 542
        },
        "id": "7WHIjwgkEqE5",
        "outputId": "f3ef08a4-e028-49af-be2d-0c7af3b8037b"
      },
      "execution_count": 188,
      "outputs": [
        {
          "output_type": "display_data",
          "data": {
            "text/html": [
              "<html>\n",
              "<head><meta charset=\"utf-8\" /></head>\n",
              "<body>\n",
              "    <div>            <script src=\"https://cdnjs.cloudflare.com/ajax/libs/mathjax/2.7.5/MathJax.js?config=TeX-AMS-MML_SVG\"></script><script type=\"text/javascript\">if (window.MathJax && window.MathJax.Hub && window.MathJax.Hub.Config) {window.MathJax.Hub.Config({SVG: {font: \"STIX-Web\"}});}</script>                <script type=\"text/javascript\">window.PlotlyConfig = {MathJaxConfig: 'local'};</script>\n",
              "        <script src=\"https://cdn.plot.ly/plotly-2.18.2.min.js\"></script>                <div id=\"53d4c4f1-40c1-49a8-bc10-9c6e4d63dc60\" class=\"plotly-graph-div\" style=\"height:525px; width:100%;\"></div>            <script type=\"text/javascript\">                                    window.PLOTLYENV=window.PLOTLYENV || {};                                    if (document.getElementById(\"53d4c4f1-40c1-49a8-bc10-9c6e4d63dc60\")) {                    Plotly.newPlot(                        \"53d4c4f1-40c1-49a8-bc10-9c6e4d63dc60\",                        [{\"dimensions\":[{\"axis\":{\"matches\":true},\"label\":\"length\",\"values\":[4,6,4,3,11,7,9,9,10,11,9,12,18,15,10,9,14,14,12,12,12,12,13,13,38,15,15,42,16,16,10,18,20,18,7,16,30,18,17,18,19,19,38,22,22,24,23,23,20,22,24,25,25,27,27,27,28,55,29,29,31,61,7,6,12,13,33,33,30,30,31,61,33,60,36,36,37,9,15,7,57,38,7,38,20,39,41,33,39,32,78,79,27,43,42,42,28,42,32,30,41,9,42,70,5,44,83,43,43,44,44,44,45,75,87,45,8,5,46,7,47,47,45,47,39,144,50,98,48,48,48,49,49,49,50,49,142,51,5,51,24,52,69,38,52,53,46,2,54,51,53,54,43,55,50,43,50,87,7,55,51,49,56,7,57,57,48,58,58,50,50,39,11,58,60,60,61,61,8,62,62,63,4,7,63,5,108,65,195,108,51,66,10,56,62,67,101,60,50,60,51,70,70,69,71,64,71,50,50,72,62,6,9,73,67,54,12,75,76,61,77,57,69,77,102,78,73,83,85,81,67,82,64,48,130,47,87,106,92,96,49,97,98,471,24,67,102,102,94,110,91,95,109,110,10,77,324,105,145,103,116,44,100,116,215,8,79,154,114,141,118,7,127,17,27,228,46,175,344,184,130,257,132,125,27,139,91,130,21,116,137,73,52,105,114,327,544,109,141,26,15,101,122,1,98,721,550,11,584,175,160,16,159,11,547,25,212]},{\"axis\":{\"matches\":true},\"label\":\"subscribers\",\"values\":[63822,108708,61310,68428,38968,188646,111307,196866,173619,56196,229439,208806,141767,241282,35132,72582,70847,75168,118514,35195,92440,121397,39959,124535,160495,239426,100335,212796,104828,100425,119394,125423,241965,91559,86012,22613,111081,290745,16733,123748,158102,134046,209744,474228,112131,239893,308139,178278,376186,150688,176433,79140,466546,59956,154476,121791,315602,386532,44065,77900,616736,96156,49568,34780,425905,714714,111483,93055,53370,19081,49484,160827,207337,145138,111246,81695,317185,275560,986693,895505,520858,98271,136739,75313,454130,61590,326090,320462,168893,256675,206320,175224,128839,105849,259936,131950,216686,107852,67541,66844,217867,212110,94595,125576,62464,30318,54334,44680,68475,147238,35476,178366,113662,564850,254802,480351,63175,53593,136238,99728,44421,89725,74488,37689,70305,90910,39696,280618,100982,64745,39038,148124,143955,181028,509289,531555,110969,49467,45974,191413,177276,296666,324437,829369,148969,208931,120204,82893,202276,224525,124704,86828,42841,195173,107965,107321,55783,339279,103993,175019,38630,121405,923246,107501,314141,42833,409622,529746,49948,32271,56230,66467,63336,186116,402938,65484,60991,969272,164882,1256426,483266,199080,296746,68671,243016,37480,975328,95383,117263,984599,27453,84138,214803,56363,278796,101311,51486,146003,111094,130155,401772,693539,389780,266456,198984,625290,98773,308643,27495,259320,483364,88810,137648,284164,229083,196557,113236,568325,181410,220232,231925,54566,614816,171452,592393,848958,145272,983751,309295,539346,785542,238832,290893,206193,655360,313070,321905,102844,546688,294274,109668,377083,122153,134724,133030,256868,364320,274621,585914,2582098,145508,423348,708421,523474,299617,173686,256619,2182817,1059518,582036,127238,552418,587153,152252,245606,54968,233046,294721,232598,430259,1044638,1093427,210775,121774,362519,162069,393563,1198580,483775,1089301,1272807,1089625,484735,193259,228703,598944,251074,278079,217557,90090,1389866,177952,169793,241430,85276,857625,358216,165739,521120,97569,1386948,227084,415163,610512,271653,287898,305587,1771384,203876,1576754,818260,1409903,2043943,459023,385807,699043,3285899]},{\"axis\":{\"matches\":true},\"label\":\"rating\",\"values\":[9.53,9.71,9.72,9.85,9.31,9.84,9.68,9.81,9.77,9.76,9.83,9.84,9.83,9.83,9.68,9.71,9.63,9.58,9.78,9.63,9.75,9.83,8.65,9.59,9.82,9.78,9.67,9.77,9.81,9.74,9.74,9.57,9.7,9.54,9.75,9.51,9.54,9.74,9.51,9.83,9.62,9.37,9.9,9.69,9.66,9.87,9.79,9.77,8.97,9.87,9.63,9.51,9.85,9.68,9.45,9.8,9.58,9.66,9.73,9.53,9.73,9.91,9.11,9.52,9.89,9.88,9.34,9.79,9.83,9.61,9.83,9.84,9.8,9.6,9.9,9.85,9.78,9.6,9.92,9.74,9.84,9.6,9.51,9.52,9.82,9.77,9.85,9.53,9.86,9.84,9.75,9.74,9.7,9.5,9.8,9.76,9.76,9.64,9.22,9.68,9.82,9.75,9.57,9.3,9.52,9.6,9.61,9.7,9.74,9.67,9.7,9.86,9.81,9.82,9.83,9.73,9.65,9.65,9.79,9.76,9.6,9.84,9.76,9.75,9.74,9.7,9.27,9.84,9.69,9.51,9.63,9.87,9.75,9.83,9.31,9.68,9.82,9.69,8.57,9.79,9.57,9.83,9.75,9.64,9.63,9.7,9.83,9.83,9.81,9.79,9.65,9.76,9.64,9.88,9.81,9.8,9.36,9.93,9.77,9.72,9.57,9.78,9.86,9.67,9.68,9.5,9.87,9.82,9.46,9.1,9.66,9.58,9.63,9.8,9.84,9.69,9.56,9.83,9.83,9.89,9.67,9.78,9.43,9.78,9.85,9.57,9.71,9.67,9.65,9.91,9.16,9.22,9.87,9.43,9.6,9.8,9.24,9.68,9.61,9.75,9.69,9.76,9.86,9.75,9.85,9.8,9.7,9.67,9.22,9.72,9.75,9.76,9.74,9.59,9.71,9.61,9.91,9.82,9.82,9.71,9.9,9.1,9.88,9.78,9.7,9.83,9.79,9.77,9.89,9.69,9.84,9.83,9.73,9.63,9.76,9.81,9.8,9.73,9.85,9.7,9.43,9.92,9.7,9.44,9.66,9.59,9.74,9.79,9.87,9.88,9.32,9.85,9.82,9.92,9.73,9.79,9.78,9.86,9.9,9.84,9.79,9.69,9.85,9.68,8.91,9.47,9.28,9.58,9.66,9.65,9.77,9.77,9.69,9.67,9.75,9.35,9.85,9.68,9.68,9.82,9.85,9.84,9.76,9.54,9.54,9.87,9.72,9.91,9.87,9.55,9.87,9.24,9.52,9.82,9.51,9.75,9.88,9.45,9.68,9.78,9.88,9.67,9.6,9.86,9.41,9.62,8.98,9.79,9.71,9.75,9.66,9.84,9.88,9.9,9.87,9.81,9.72]},{\"axis\":{\"matches\":true},\"label\":\"views\",\"values\":[216223,563964,171510,180379,178647,1111114,662914,1495496,1531499,498616,1769574,1586309,1415017,2578760,190930,480755,482370,708801,1606972,164527,594193,900050,167376,1169568,3941255,3681933,978133,3273961,1169065,886905,3385872,1389564,3718360,815435,416682,171604,2161643,4359665,63378,1351606,1763983,1373177,6036349,11281818,979883,5046584,5200840,2665999,7276025,2177960,2471169,563336,10717593,397438,2146504,1963685,7281470,17708968,532386,966221,17128657,2208320,239409,824352,2572899,8562175,1460884,1544039,462561,115855,546595,4633833,2681755,2504189,2150514,946147,7274720,9400737,16964379,12648543,16210878,1486498,3455373,833109,5506500,1028584,8204236,8222986,3279509,4996920,8034860,8032090,1781805,2375912,7974125,2758373,5197020,2322532,905589,1167502,5255458,8898541,2082916,4799439,1045067,394272,1485598,703256,1495666,2718184,441661,3404897,1615694,27581519,10447507,15219927,356751,926448,2639354,2472612,461737,1519521,969425,931426,1481872,4968259,741460,18554747,1512857,1308537,787328,4231266,3540084,4433321,25516653,18746367,8309909,524321,651091,4146189,2302912,10137095,13046090,31516237,2452840,6314902,2708285,1126758,5436255,7951828,1759436,2123981,422509,6269046,3580418,2650476,1592584,16576753,2799986,4447749,646538,2496811,42622655,2625596,11161910,886711,14752540,19842287,985762,435126,1020888,907955,2593680,4451903,11362809,1251208,1295800,45925420,2241197,70076182,18135741,6558273,3294930,2163294,8078140,659003,74346742,2290535,3658781,53758251,499919,2210780,11308170,1105538,8356781,3040020,1413179,3434197,1906425,3899255,14572608,22420028,16300338,7653035,7884261,26498159,2772426,10211628,239646,7958375,19356616,1996688,4287829,9789832,8844721,6461471,1438130,24012361,7057846,8263688,7941469,1144035,22183122,7324099,27962888,40333229,5095578,50704385,13418888,20021017,32952252,9196846,10543861,5797757,28973846,9108310,10675905,4800731,26898261,15340680,2844764,19425597,4372286,15924721,2543245,11909215,17152196,13369390,29138142,204173084,6918598,18621849,30568667,26874294,5840515,7446720,17965213,171215606,88904191,38653565,6732602,23496066,29029769,6125625,27379227,1192177,7336738,18359513,11604305,31867697,66336679,72215320,11447742,5815914,31579626,10841162,12590154,112400504,57124487,100175433,74158499,120180269,36999542,9968535,8444211,46172949,15969667,11544424,18237134,4276301,109990425,5766708,4781639,12332678,2179658,147048396,58014427,9533860,39568203,2212068,95938013,13118922,23787343,7896546,19685293,81941754,60579973,128773480,53398566,162753946,71086052,107274559,205192244,28487340,59239849,95214332,406292262]},{\"axis\":{\"matches\":true},\"label\":\"likes\",\"values\":[31111,81905,24556,35401,29455,163806,86919,179686,194183,61251,266259,220034,223038,440862,26905,74678,93685,115171,164127,27114,83953,123528,26318,143088,555128,420440,159976,600256,148186,123540,519310,185305,469856,108687,61595,28143,266240,489287,11493,209242,229777,177902,777271,1357201,142471,704110,836777,418905,648836,328179,316860,96580,1234320,72729,280071,285889,747008,1807267,87849,154502,1284895,437654,25056,175227,500935,1061182,175162,229610,80532,23850,95007,770335,387889,393156,396789,203454,943717,943076,1728255,1910629,2388775,220345,553376,138419,707184,173240,1100918,1009652,480244,901202,1301961,1088731,251523,105088,1066777,491009,754821,422558,108959,192776,815449,1364644,292155,697813,182987,77486,305705,149241,311402,432421,78403,534304,287580,3745458,1875357,1832914,71473,177908,449924,398740,88529,270216,188403,141859,286475,1139730,140846,2645185,222281,230208,159938,730830,536669,592006,2917294,2169085,1557966,113533,106108,659056,365567,1569018,1778422,2440721,425621,930619,410448,214306,944724,972638,289900,405472,85347,672950,526399,502610,278185,2223948,531151,744362,134646,500690,4118268,478990,3697262,170896,1511556,2390265,148904,87108,211260,191202,484749,889190,1792623,215164,238630,4346284,380521,5990557,2323594,806373,524687,429155,1223567,138308,9419229,533123,827699,8754382,118576,416591,1950976,241557,1596070,569457,244515,534674,361898,704083,1948194,3086093,2274770,1375706,1034680,3252384,511545,1530014,48111,1442181,2271373,356925,746653,1593830,1540448,815223,288091,3323526,1258650,1482598,1505361,227108,3140972,1464773,3955325,4836507,833037,6364334,1595431,3331632,4776184,1908710,1801321,1032747,5140434,1534352,1919354,1080699,4057908,3060903,363630,3391936,899425,3628504,423529,1648832,2769620,2229399,4215599,18911636,1186083,3037086,4511956,4191984,403390,1272726,2515456,10939596,11045719,4572471,933878,3060381,4732972,1217162,4655814,71445,1088963,3230215,1845893,4679775,8424155,8643939,1690888,492053,4175094,2103018,1946904,13647122,9489393,12735810,8004485,11602847,4794382,1673462,739136,5898251,2225858,2097921,3286668,490413,11924992,566427,475603,1848661,347107,13786280,8349725,1067411,5010482,314781,8981862,1908481,2651627,1277079,2460916,12814267,6416355,12532851,7903012,13795357,7231060,10622960,21389047,3147779,6139593,8333923,31645529]},{\"axis\":{\"matches\":true},\"label\":\"daily_pass\",\"values\":[false,false,false,false,false,false,false,false,false,false,false,false,false,false,false,false,false,false,false,false,false,false,false,false,false,false,false,false,false,false,true,false,false,false,false,false,false,false,false,false,false,false,false,false,false,false,false,false,false,false,false,false,false,false,false,false,false,false,false,false,false,false,false,true,false,false,false,false,false,false,false,false,false,false,false,false,false,true,false,false,false,false,true,false,false,false,false,false,false,false,false,false,false,false,false,false,false,false,false,false,false,true,false,false,true,false,false,false,false,false,false,false,false,false,false,false,false,true,false,true,false,false,false,false,false,false,false,false,false,false,false,false,false,false,false,false,false,false,true,false,false,false,false,false,false,false,false,true,false,false,false,false,false,false,false,false,false,false,true,false,false,false,false,true,false,false,false,false,false,false,false,false,true,false,false,false,false,false,true,false,false,false,true,true,false,true,false,false,false,false,false,false,true,false,false,false,false,false,false,false,false,false,false,false,false,false,false,false,false,false,false,true,true,false,false,false,false,false,false,false,false,false,false,false,false,false,false,false,false,false,false,false,false,false,false,false,false,false,false,false,false,false,false,false,false,false,false,false,false,false,false,false,false,false,false,false,false,false,false,false,false,false,false,false,false,false,false,false,false,false,false,true,false,false,true,false,false,false,false,false,false,false,false,false,false,false,false,false,true,false,false,false,false,false,false,false,false,false,false,false,true,false,false,true,false,false,false,true,false,false,false,true,false,true,false,true,false]}],\"hovertemplate\":\"%{xaxis.title.text}=%{x}<br>%{yaxis.title.text}=%{y}<extra></extra>\",\"legendgroup\":\"\",\"marker\":{\"color\":\"#636efa\",\"symbol\":\"circle\"},\"name\":\"\",\"showlegend\":false,\"type\":\"splom\"}],                        {\"template\":{\"data\":{\"histogram2dcontour\":[{\"type\":\"histogram2dcontour\",\"colorbar\":{\"outlinewidth\":0,\"ticks\":\"\"},\"colorscale\":[[0.0,\"#0d0887\"],[0.1111111111111111,\"#46039f\"],[0.2222222222222222,\"#7201a8\"],[0.3333333333333333,\"#9c179e\"],[0.4444444444444444,\"#bd3786\"],[0.5555555555555556,\"#d8576b\"],[0.6666666666666666,\"#ed7953\"],[0.7777777777777778,\"#fb9f3a\"],[0.8888888888888888,\"#fdca26\"],[1.0,\"#f0f921\"]]}],\"choropleth\":[{\"type\":\"choropleth\",\"colorbar\":{\"outlinewidth\":0,\"ticks\":\"\"}}],\"histogram2d\":[{\"type\":\"histogram2d\",\"colorbar\":{\"outlinewidth\":0,\"ticks\":\"\"},\"colorscale\":[[0.0,\"#0d0887\"],[0.1111111111111111,\"#46039f\"],[0.2222222222222222,\"#7201a8\"],[0.3333333333333333,\"#9c179e\"],[0.4444444444444444,\"#bd3786\"],[0.5555555555555556,\"#d8576b\"],[0.6666666666666666,\"#ed7953\"],[0.7777777777777778,\"#fb9f3a\"],[0.8888888888888888,\"#fdca26\"],[1.0,\"#f0f921\"]]}],\"heatmap\":[{\"type\":\"heatmap\",\"colorbar\":{\"outlinewidth\":0,\"ticks\":\"\"},\"colorscale\":[[0.0,\"#0d0887\"],[0.1111111111111111,\"#46039f\"],[0.2222222222222222,\"#7201a8\"],[0.3333333333333333,\"#9c179e\"],[0.4444444444444444,\"#bd3786\"],[0.5555555555555556,\"#d8576b\"],[0.6666666666666666,\"#ed7953\"],[0.7777777777777778,\"#fb9f3a\"],[0.8888888888888888,\"#fdca26\"],[1.0,\"#f0f921\"]]}],\"heatmapgl\":[{\"type\":\"heatmapgl\",\"colorbar\":{\"outlinewidth\":0,\"ticks\":\"\"},\"colorscale\":[[0.0,\"#0d0887\"],[0.1111111111111111,\"#46039f\"],[0.2222222222222222,\"#7201a8\"],[0.3333333333333333,\"#9c179e\"],[0.4444444444444444,\"#bd3786\"],[0.5555555555555556,\"#d8576b\"],[0.6666666666666666,\"#ed7953\"],[0.7777777777777778,\"#fb9f3a\"],[0.8888888888888888,\"#fdca26\"],[1.0,\"#f0f921\"]]}],\"contourcarpet\":[{\"type\":\"contourcarpet\",\"colorbar\":{\"outlinewidth\":0,\"ticks\":\"\"}}],\"contour\":[{\"type\":\"contour\",\"colorbar\":{\"outlinewidth\":0,\"ticks\":\"\"},\"colorscale\":[[0.0,\"#0d0887\"],[0.1111111111111111,\"#46039f\"],[0.2222222222222222,\"#7201a8\"],[0.3333333333333333,\"#9c179e\"],[0.4444444444444444,\"#bd3786\"],[0.5555555555555556,\"#d8576b\"],[0.6666666666666666,\"#ed7953\"],[0.7777777777777778,\"#fb9f3a\"],[0.8888888888888888,\"#fdca26\"],[1.0,\"#f0f921\"]]}],\"surface\":[{\"type\":\"surface\",\"colorbar\":{\"outlinewidth\":0,\"ticks\":\"\"},\"colorscale\":[[0.0,\"#0d0887\"],[0.1111111111111111,\"#46039f\"],[0.2222222222222222,\"#7201a8\"],[0.3333333333333333,\"#9c179e\"],[0.4444444444444444,\"#bd3786\"],[0.5555555555555556,\"#d8576b\"],[0.6666666666666666,\"#ed7953\"],[0.7777777777777778,\"#fb9f3a\"],[0.8888888888888888,\"#fdca26\"],[1.0,\"#f0f921\"]]}],\"mesh3d\":[{\"type\":\"mesh3d\",\"colorbar\":{\"outlinewidth\":0,\"ticks\":\"\"}}],\"scatter\":[{\"fillpattern\":{\"fillmode\":\"overlay\",\"size\":10,\"solidity\":0.2},\"type\":\"scatter\"}],\"parcoords\":[{\"type\":\"parcoords\",\"line\":{\"colorbar\":{\"outlinewidth\":0,\"ticks\":\"\"}}}],\"scatterpolargl\":[{\"type\":\"scatterpolargl\",\"marker\":{\"colorbar\":{\"outlinewidth\":0,\"ticks\":\"\"}}}],\"bar\":[{\"error_x\":{\"color\":\"#2a3f5f\"},\"error_y\":{\"color\":\"#2a3f5f\"},\"marker\":{\"line\":{\"color\":\"#E5ECF6\",\"width\":0.5},\"pattern\":{\"fillmode\":\"overlay\",\"size\":10,\"solidity\":0.2}},\"type\":\"bar\"}],\"scattergeo\":[{\"type\":\"scattergeo\",\"marker\":{\"colorbar\":{\"outlinewidth\":0,\"ticks\":\"\"}}}],\"scatterpolar\":[{\"type\":\"scatterpolar\",\"marker\":{\"colorbar\":{\"outlinewidth\":0,\"ticks\":\"\"}}}],\"histogram\":[{\"marker\":{\"pattern\":{\"fillmode\":\"overlay\",\"size\":10,\"solidity\":0.2}},\"type\":\"histogram\"}],\"scattergl\":[{\"type\":\"scattergl\",\"marker\":{\"colorbar\":{\"outlinewidth\":0,\"ticks\":\"\"}}}],\"scatter3d\":[{\"type\":\"scatter3d\",\"line\":{\"colorbar\":{\"outlinewidth\":0,\"ticks\":\"\"}},\"marker\":{\"colorbar\":{\"outlinewidth\":0,\"ticks\":\"\"}}}],\"scattermapbox\":[{\"type\":\"scattermapbox\",\"marker\":{\"colorbar\":{\"outlinewidth\":0,\"ticks\":\"\"}}}],\"scatterternary\":[{\"type\":\"scatterternary\",\"marker\":{\"colorbar\":{\"outlinewidth\":0,\"ticks\":\"\"}}}],\"scattercarpet\":[{\"type\":\"scattercarpet\",\"marker\":{\"colorbar\":{\"outlinewidth\":0,\"ticks\":\"\"}}}],\"carpet\":[{\"aaxis\":{\"endlinecolor\":\"#2a3f5f\",\"gridcolor\":\"white\",\"linecolor\":\"white\",\"minorgridcolor\":\"white\",\"startlinecolor\":\"#2a3f5f\"},\"baxis\":{\"endlinecolor\":\"#2a3f5f\",\"gridcolor\":\"white\",\"linecolor\":\"white\",\"minorgridcolor\":\"white\",\"startlinecolor\":\"#2a3f5f\"},\"type\":\"carpet\"}],\"table\":[{\"cells\":{\"fill\":{\"color\":\"#EBF0F8\"},\"line\":{\"color\":\"white\"}},\"header\":{\"fill\":{\"color\":\"#C8D4E3\"},\"line\":{\"color\":\"white\"}},\"type\":\"table\"}],\"barpolar\":[{\"marker\":{\"line\":{\"color\":\"#E5ECF6\",\"width\":0.5},\"pattern\":{\"fillmode\":\"overlay\",\"size\":10,\"solidity\":0.2}},\"type\":\"barpolar\"}],\"pie\":[{\"automargin\":true,\"type\":\"pie\"}]},\"layout\":{\"autotypenumbers\":\"strict\",\"colorway\":[\"#636efa\",\"#EF553B\",\"#00cc96\",\"#ab63fa\",\"#FFA15A\",\"#19d3f3\",\"#FF6692\",\"#B6E880\",\"#FF97FF\",\"#FECB52\"],\"font\":{\"color\":\"#2a3f5f\"},\"hovermode\":\"closest\",\"hoverlabel\":{\"align\":\"left\"},\"paper_bgcolor\":\"white\",\"plot_bgcolor\":\"#E5ECF6\",\"polar\":{\"bgcolor\":\"#E5ECF6\",\"angularaxis\":{\"gridcolor\":\"white\",\"linecolor\":\"white\",\"ticks\":\"\"},\"radialaxis\":{\"gridcolor\":\"white\",\"linecolor\":\"white\",\"ticks\":\"\"}},\"ternary\":{\"bgcolor\":\"#E5ECF6\",\"aaxis\":{\"gridcolor\":\"white\",\"linecolor\":\"white\",\"ticks\":\"\"},\"baxis\":{\"gridcolor\":\"white\",\"linecolor\":\"white\",\"ticks\":\"\"},\"caxis\":{\"gridcolor\":\"white\",\"linecolor\":\"white\",\"ticks\":\"\"}},\"coloraxis\":{\"colorbar\":{\"outlinewidth\":0,\"ticks\":\"\"}},\"colorscale\":{\"sequential\":[[0.0,\"#0d0887\"],[0.1111111111111111,\"#46039f\"],[0.2222222222222222,\"#7201a8\"],[0.3333333333333333,\"#9c179e\"],[0.4444444444444444,\"#bd3786\"],[0.5555555555555556,\"#d8576b\"],[0.6666666666666666,\"#ed7953\"],[0.7777777777777778,\"#fb9f3a\"],[0.8888888888888888,\"#fdca26\"],[1.0,\"#f0f921\"]],\"sequentialminus\":[[0.0,\"#0d0887\"],[0.1111111111111111,\"#46039f\"],[0.2222222222222222,\"#7201a8\"],[0.3333333333333333,\"#9c179e\"],[0.4444444444444444,\"#bd3786\"],[0.5555555555555556,\"#d8576b\"],[0.6666666666666666,\"#ed7953\"],[0.7777777777777778,\"#fb9f3a\"],[0.8888888888888888,\"#fdca26\"],[1.0,\"#f0f921\"]],\"diverging\":[[0,\"#8e0152\"],[0.1,\"#c51b7d\"],[0.2,\"#de77ae\"],[0.3,\"#f1b6da\"],[0.4,\"#fde0ef\"],[0.5,\"#f7f7f7\"],[0.6,\"#e6f5d0\"],[0.7,\"#b8e186\"],[0.8,\"#7fbc41\"],[0.9,\"#4d9221\"],[1,\"#276419\"]]},\"xaxis\":{\"gridcolor\":\"white\",\"linecolor\":\"white\",\"ticks\":\"\",\"title\":{\"standoff\":15},\"zerolinecolor\":\"white\",\"automargin\":true,\"zerolinewidth\":2},\"yaxis\":{\"gridcolor\":\"white\",\"linecolor\":\"white\",\"ticks\":\"\",\"title\":{\"standoff\":15},\"zerolinecolor\":\"white\",\"automargin\":true,\"zerolinewidth\":2},\"scene\":{\"xaxis\":{\"backgroundcolor\":\"#E5ECF6\",\"gridcolor\":\"white\",\"linecolor\":\"white\",\"showbackground\":true,\"ticks\":\"\",\"zerolinecolor\":\"white\",\"gridwidth\":2},\"yaxis\":{\"backgroundcolor\":\"#E5ECF6\",\"gridcolor\":\"white\",\"linecolor\":\"white\",\"showbackground\":true,\"ticks\":\"\",\"zerolinecolor\":\"white\",\"gridwidth\":2},\"zaxis\":{\"backgroundcolor\":\"#E5ECF6\",\"gridcolor\":\"white\",\"linecolor\":\"white\",\"showbackground\":true,\"ticks\":\"\",\"zerolinecolor\":\"white\",\"gridwidth\":2}},\"shapedefaults\":{\"line\":{\"color\":\"#2a3f5f\"}},\"annotationdefaults\":{\"arrowcolor\":\"#2a3f5f\",\"arrowhead\":0,\"arrowwidth\":1},\"geo\":{\"bgcolor\":\"white\",\"landcolor\":\"#E5ECF6\",\"subunitcolor\":\"white\",\"showland\":true,\"showlakes\":true,\"lakecolor\":\"white\"},\"title\":{\"x\":0.05},\"mapbox\":{\"style\":\"light\"}}},\"legend\":{\"tracegroupgap\":0},\"margin\":{\"t\":60},\"dragmode\":\"select\"},                        {\"responsive\": true}                    ).then(function(){\n",
              "                            \n",
              "var gd = document.getElementById('53d4c4f1-40c1-49a8-bc10-9c6e4d63dc60');\n",
              "var x = new MutationObserver(function (mutations, observer) {{\n",
              "        var display = window.getComputedStyle(gd).display;\n",
              "        if (!display || display === 'none') {{\n",
              "            console.log([gd, 'removed!']);\n",
              "            Plotly.purge(gd);\n",
              "            observer.disconnect();\n",
              "        }}\n",
              "}});\n",
              "\n",
              "// Listen for the removal of the full notebook cells\n",
              "var notebookContainer = gd.closest('#notebook-container');\n",
              "if (notebookContainer) {{\n",
              "    x.observe(notebookContainer, {childList: true});\n",
              "}}\n",
              "\n",
              "// Listen for the clearing of the current output cell\n",
              "var outputEl = gd.closest('.output');\n",
              "if (outputEl) {{\n",
              "    x.observe(outputEl, {childList: true});\n",
              "}}\n",
              "\n",
              "                        })                };                            </script>        </div>\n",
              "</body>\n",
              "</html>"
            ]
          },
          "metadata": {}
        }
      ]
    },
    {
      "cell_type": "markdown",
      "source": [
        "##EDA"
      ],
      "metadata": {
        "id": "drcaDcA72Pgt"
      }
    },
    {
      "cell_type": "markdown",
      "source": [
        "###Cantidad de actualizacion por día"
      ],
      "metadata": {
        "id": "yKnWP_Drx4te"
      }
    },
    {
      "cell_type": "code",
      "source": [
        "fig = px.bar(total_por_dia, x='dias', y='cantidad', text_auto = True)\n",
        "fig.update_traces(textfont_size = 14, textangle = 0, textposition = \"inside\")\n",
        "fig.show()"
      ],
      "metadata": {
        "colab": {
          "base_uri": "https://localhost:8080/",
          "height": 542
        },
        "id": "PUZiVBdGn7U3",
        "outputId": "acc5d617-7529-4fae-def7-7f8c73369559"
      },
      "execution_count": 189,
      "outputs": [
        {
          "output_type": "display_data",
          "data": {
            "text/html": [
              "<html>\n",
              "<head><meta charset=\"utf-8\" /></head>\n",
              "<body>\n",
              "    <div>            <script src=\"https://cdnjs.cloudflare.com/ajax/libs/mathjax/2.7.5/MathJax.js?config=TeX-AMS-MML_SVG\"></script><script type=\"text/javascript\">if (window.MathJax && window.MathJax.Hub && window.MathJax.Hub.Config) {window.MathJax.Hub.Config({SVG: {font: \"STIX-Web\"}});}</script>                <script type=\"text/javascript\">window.PlotlyConfig = {MathJaxConfig: 'local'};</script>\n",
              "        <script src=\"https://cdn.plot.ly/plotly-2.18.2.min.js\"></script>                <div id=\"c7a7dfe7-61d0-41c8-b81a-562a71412300\" class=\"plotly-graph-div\" style=\"height:525px; width:100%;\"></div>            <script type=\"text/javascript\">                                    window.PLOTLYENV=window.PLOTLYENV || {};                                    if (document.getElementById(\"c7a7dfe7-61d0-41c8-b81a-562a71412300\")) {                    Plotly.newPlot(                        \"c7a7dfe7-61d0-41c8-b81a-562a71412300\",                        [{\"alignmentgroup\":\"True\",\"hovertemplate\":\"dias=%{x}<br>cantidad=%{y}<extra></extra>\",\"legendgroup\":\"\",\"marker\":{\"color\":\"#636efa\",\"pattern\":{\"shape\":\"\"}},\"name\":\"\",\"offsetgroup\":\"\",\"orientation\":\"v\",\"showlegend\":false,\"textposition\":\"inside\",\"texttemplate\":\"%{y}\",\"x\":[\"FRIDAY\",\"MONDAY\",\"SATURDAY\",\"SUNDAY\",\"THURSDAY\",\"TUESDAY\",\"WEDNESDAY\"],\"xaxis\":\"x\",\"y\":[75.0,76.0,73.0,78.0,69.0,67.0,70.0],\"yaxis\":\"y\",\"type\":\"bar\",\"textfont\":{\"size\":14},\"textangle\":0}],                        {\"template\":{\"data\":{\"histogram2dcontour\":[{\"type\":\"histogram2dcontour\",\"colorbar\":{\"outlinewidth\":0,\"ticks\":\"\"},\"colorscale\":[[0.0,\"#0d0887\"],[0.1111111111111111,\"#46039f\"],[0.2222222222222222,\"#7201a8\"],[0.3333333333333333,\"#9c179e\"],[0.4444444444444444,\"#bd3786\"],[0.5555555555555556,\"#d8576b\"],[0.6666666666666666,\"#ed7953\"],[0.7777777777777778,\"#fb9f3a\"],[0.8888888888888888,\"#fdca26\"],[1.0,\"#f0f921\"]]}],\"choropleth\":[{\"type\":\"choropleth\",\"colorbar\":{\"outlinewidth\":0,\"ticks\":\"\"}}],\"histogram2d\":[{\"type\":\"histogram2d\",\"colorbar\":{\"outlinewidth\":0,\"ticks\":\"\"},\"colorscale\":[[0.0,\"#0d0887\"],[0.1111111111111111,\"#46039f\"],[0.2222222222222222,\"#7201a8\"],[0.3333333333333333,\"#9c179e\"],[0.4444444444444444,\"#bd3786\"],[0.5555555555555556,\"#d8576b\"],[0.6666666666666666,\"#ed7953\"],[0.7777777777777778,\"#fb9f3a\"],[0.8888888888888888,\"#fdca26\"],[1.0,\"#f0f921\"]]}],\"heatmap\":[{\"type\":\"heatmap\",\"colorbar\":{\"outlinewidth\":0,\"ticks\":\"\"},\"colorscale\":[[0.0,\"#0d0887\"],[0.1111111111111111,\"#46039f\"],[0.2222222222222222,\"#7201a8\"],[0.3333333333333333,\"#9c179e\"],[0.4444444444444444,\"#bd3786\"],[0.5555555555555556,\"#d8576b\"],[0.6666666666666666,\"#ed7953\"],[0.7777777777777778,\"#fb9f3a\"],[0.8888888888888888,\"#fdca26\"],[1.0,\"#f0f921\"]]}],\"heatmapgl\":[{\"type\":\"heatmapgl\",\"colorbar\":{\"outlinewidth\":0,\"ticks\":\"\"},\"colorscale\":[[0.0,\"#0d0887\"],[0.1111111111111111,\"#46039f\"],[0.2222222222222222,\"#7201a8\"],[0.3333333333333333,\"#9c179e\"],[0.4444444444444444,\"#bd3786\"],[0.5555555555555556,\"#d8576b\"],[0.6666666666666666,\"#ed7953\"],[0.7777777777777778,\"#fb9f3a\"],[0.8888888888888888,\"#fdca26\"],[1.0,\"#f0f921\"]]}],\"contourcarpet\":[{\"type\":\"contourcarpet\",\"colorbar\":{\"outlinewidth\":0,\"ticks\":\"\"}}],\"contour\":[{\"type\":\"contour\",\"colorbar\":{\"outlinewidth\":0,\"ticks\":\"\"},\"colorscale\":[[0.0,\"#0d0887\"],[0.1111111111111111,\"#46039f\"],[0.2222222222222222,\"#7201a8\"],[0.3333333333333333,\"#9c179e\"],[0.4444444444444444,\"#bd3786\"],[0.5555555555555556,\"#d8576b\"],[0.6666666666666666,\"#ed7953\"],[0.7777777777777778,\"#fb9f3a\"],[0.8888888888888888,\"#fdca26\"],[1.0,\"#f0f921\"]]}],\"surface\":[{\"type\":\"surface\",\"colorbar\":{\"outlinewidth\":0,\"ticks\":\"\"},\"colorscale\":[[0.0,\"#0d0887\"],[0.1111111111111111,\"#46039f\"],[0.2222222222222222,\"#7201a8\"],[0.3333333333333333,\"#9c179e\"],[0.4444444444444444,\"#bd3786\"],[0.5555555555555556,\"#d8576b\"],[0.6666666666666666,\"#ed7953\"],[0.7777777777777778,\"#fb9f3a\"],[0.8888888888888888,\"#fdca26\"],[1.0,\"#f0f921\"]]}],\"mesh3d\":[{\"type\":\"mesh3d\",\"colorbar\":{\"outlinewidth\":0,\"ticks\":\"\"}}],\"scatter\":[{\"fillpattern\":{\"fillmode\":\"overlay\",\"size\":10,\"solidity\":0.2},\"type\":\"scatter\"}],\"parcoords\":[{\"type\":\"parcoords\",\"line\":{\"colorbar\":{\"outlinewidth\":0,\"ticks\":\"\"}}}],\"scatterpolargl\":[{\"type\":\"scatterpolargl\",\"marker\":{\"colorbar\":{\"outlinewidth\":0,\"ticks\":\"\"}}}],\"bar\":[{\"error_x\":{\"color\":\"#2a3f5f\"},\"error_y\":{\"color\":\"#2a3f5f\"},\"marker\":{\"line\":{\"color\":\"#E5ECF6\",\"width\":0.5},\"pattern\":{\"fillmode\":\"overlay\",\"size\":10,\"solidity\":0.2}},\"type\":\"bar\"}],\"scattergeo\":[{\"type\":\"scattergeo\",\"marker\":{\"colorbar\":{\"outlinewidth\":0,\"ticks\":\"\"}}}],\"scatterpolar\":[{\"type\":\"scatterpolar\",\"marker\":{\"colorbar\":{\"outlinewidth\":0,\"ticks\":\"\"}}}],\"histogram\":[{\"marker\":{\"pattern\":{\"fillmode\":\"overlay\",\"size\":10,\"solidity\":0.2}},\"type\":\"histogram\"}],\"scattergl\":[{\"type\":\"scattergl\",\"marker\":{\"colorbar\":{\"outlinewidth\":0,\"ticks\":\"\"}}}],\"scatter3d\":[{\"type\":\"scatter3d\",\"line\":{\"colorbar\":{\"outlinewidth\":0,\"ticks\":\"\"}},\"marker\":{\"colorbar\":{\"outlinewidth\":0,\"ticks\":\"\"}}}],\"scattermapbox\":[{\"type\":\"scattermapbox\",\"marker\":{\"colorbar\":{\"outlinewidth\":0,\"ticks\":\"\"}}}],\"scatterternary\":[{\"type\":\"scatterternary\",\"marker\":{\"colorbar\":{\"outlinewidth\":0,\"ticks\":\"\"}}}],\"scattercarpet\":[{\"type\":\"scattercarpet\",\"marker\":{\"colorbar\":{\"outlinewidth\":0,\"ticks\":\"\"}}}],\"carpet\":[{\"aaxis\":{\"endlinecolor\":\"#2a3f5f\",\"gridcolor\":\"white\",\"linecolor\":\"white\",\"minorgridcolor\":\"white\",\"startlinecolor\":\"#2a3f5f\"},\"baxis\":{\"endlinecolor\":\"#2a3f5f\",\"gridcolor\":\"white\",\"linecolor\":\"white\",\"minorgridcolor\":\"white\",\"startlinecolor\":\"#2a3f5f\"},\"type\":\"carpet\"}],\"table\":[{\"cells\":{\"fill\":{\"color\":\"#EBF0F8\"},\"line\":{\"color\":\"white\"}},\"header\":{\"fill\":{\"color\":\"#C8D4E3\"},\"line\":{\"color\":\"white\"}},\"type\":\"table\"}],\"barpolar\":[{\"marker\":{\"line\":{\"color\":\"#E5ECF6\",\"width\":0.5},\"pattern\":{\"fillmode\":\"overlay\",\"size\":10,\"solidity\":0.2}},\"type\":\"barpolar\"}],\"pie\":[{\"automargin\":true,\"type\":\"pie\"}]},\"layout\":{\"autotypenumbers\":\"strict\",\"colorway\":[\"#636efa\",\"#EF553B\",\"#00cc96\",\"#ab63fa\",\"#FFA15A\",\"#19d3f3\",\"#FF6692\",\"#B6E880\",\"#FF97FF\",\"#FECB52\"],\"font\":{\"color\":\"#2a3f5f\"},\"hovermode\":\"closest\",\"hoverlabel\":{\"align\":\"left\"},\"paper_bgcolor\":\"white\",\"plot_bgcolor\":\"#E5ECF6\",\"polar\":{\"bgcolor\":\"#E5ECF6\",\"angularaxis\":{\"gridcolor\":\"white\",\"linecolor\":\"white\",\"ticks\":\"\"},\"radialaxis\":{\"gridcolor\":\"white\",\"linecolor\":\"white\",\"ticks\":\"\"}},\"ternary\":{\"bgcolor\":\"#E5ECF6\",\"aaxis\":{\"gridcolor\":\"white\",\"linecolor\":\"white\",\"ticks\":\"\"},\"baxis\":{\"gridcolor\":\"white\",\"linecolor\":\"white\",\"ticks\":\"\"},\"caxis\":{\"gridcolor\":\"white\",\"linecolor\":\"white\",\"ticks\":\"\"}},\"coloraxis\":{\"colorbar\":{\"outlinewidth\":0,\"ticks\":\"\"}},\"colorscale\":{\"sequential\":[[0.0,\"#0d0887\"],[0.1111111111111111,\"#46039f\"],[0.2222222222222222,\"#7201a8\"],[0.3333333333333333,\"#9c179e\"],[0.4444444444444444,\"#bd3786\"],[0.5555555555555556,\"#d8576b\"],[0.6666666666666666,\"#ed7953\"],[0.7777777777777778,\"#fb9f3a\"],[0.8888888888888888,\"#fdca26\"],[1.0,\"#f0f921\"]],\"sequentialminus\":[[0.0,\"#0d0887\"],[0.1111111111111111,\"#46039f\"],[0.2222222222222222,\"#7201a8\"],[0.3333333333333333,\"#9c179e\"],[0.4444444444444444,\"#bd3786\"],[0.5555555555555556,\"#d8576b\"],[0.6666666666666666,\"#ed7953\"],[0.7777777777777778,\"#fb9f3a\"],[0.8888888888888888,\"#fdca26\"],[1.0,\"#f0f921\"]],\"diverging\":[[0,\"#8e0152\"],[0.1,\"#c51b7d\"],[0.2,\"#de77ae\"],[0.3,\"#f1b6da\"],[0.4,\"#fde0ef\"],[0.5,\"#f7f7f7\"],[0.6,\"#e6f5d0\"],[0.7,\"#b8e186\"],[0.8,\"#7fbc41\"],[0.9,\"#4d9221\"],[1,\"#276419\"]]},\"xaxis\":{\"gridcolor\":\"white\",\"linecolor\":\"white\",\"ticks\":\"\",\"title\":{\"standoff\":15},\"zerolinecolor\":\"white\",\"automargin\":true,\"zerolinewidth\":2},\"yaxis\":{\"gridcolor\":\"white\",\"linecolor\":\"white\",\"ticks\":\"\",\"title\":{\"standoff\":15},\"zerolinecolor\":\"white\",\"automargin\":true,\"zerolinewidth\":2},\"scene\":{\"xaxis\":{\"backgroundcolor\":\"#E5ECF6\",\"gridcolor\":\"white\",\"linecolor\":\"white\",\"showbackground\":true,\"ticks\":\"\",\"zerolinecolor\":\"white\",\"gridwidth\":2},\"yaxis\":{\"backgroundcolor\":\"#E5ECF6\",\"gridcolor\":\"white\",\"linecolor\":\"white\",\"showbackground\":true,\"ticks\":\"\",\"zerolinecolor\":\"white\",\"gridwidth\":2},\"zaxis\":{\"backgroundcolor\":\"#E5ECF6\",\"gridcolor\":\"white\",\"linecolor\":\"white\",\"showbackground\":true,\"ticks\":\"\",\"zerolinecolor\":\"white\",\"gridwidth\":2}},\"shapedefaults\":{\"line\":{\"color\":\"#2a3f5f\"}},\"annotationdefaults\":{\"arrowcolor\":\"#2a3f5f\",\"arrowhead\":0,\"arrowwidth\":1},\"geo\":{\"bgcolor\":\"white\",\"landcolor\":\"#E5ECF6\",\"subunitcolor\":\"white\",\"showland\":true,\"showlakes\":true,\"lakecolor\":\"white\"},\"title\":{\"x\":0.05},\"mapbox\":{\"style\":\"light\"}}},\"xaxis\":{\"anchor\":\"y\",\"domain\":[0.0,1.0],\"title\":{\"text\":\"dias\"}},\"yaxis\":{\"anchor\":\"x\",\"domain\":[0.0,1.0],\"title\":{\"text\":\"cantidad\"}},\"legend\":{\"tracegroupgap\":0},\"margin\":{\"t\":60},\"barmode\":\"relative\"},                        {\"responsive\": true}                    ).then(function(){\n",
              "                            \n",
              "var gd = document.getElementById('c7a7dfe7-61d0-41c8-b81a-562a71412300');\n",
              "var x = new MutationObserver(function (mutations, observer) {{\n",
              "        var display = window.getComputedStyle(gd).display;\n",
              "        if (!display || display === 'none') {{\n",
              "            console.log([gd, 'removed!']);\n",
              "            Plotly.purge(gd);\n",
              "            observer.disconnect();\n",
              "        }}\n",
              "}});\n",
              "\n",
              "// Listen for the removal of the full notebook cells\n",
              "var notebookContainer = gd.closest('#notebook-container');\n",
              "if (notebookContainer) {{\n",
              "    x.observe(notebookContainer, {childList: true});\n",
              "}}\n",
              "\n",
              "// Listen for the clearing of the current output cell\n",
              "var outputEl = gd.closest('.output');\n",
              "if (outputEl) {{\n",
              "    x.observe(outputEl, {childList: true});\n",
              "}}\n",
              "\n",
              "                        })                };                            </script>        </div>\n",
              "</body>\n",
              "</html>"
            ]
          },
          "metadata": {}
        }
      ]
    },
    {
      "cell_type": "markdown",
      "source": [
        "###Cantidad de actualizaciones por género"
      ],
      "metadata": {
        "id": "OmNTdEfYyX68"
      }
    },
    {
      "cell_type": "code",
      "source": [
        "tabla_combinada = pd.concat([total_dias_historical, total_dias_tiptoon,total_dias_superhero,total_dias_sports,total_dias_SF,total_dias_SLICE_OF_LIFE,total_dias_supernatural,total_dias_horror,total_dias_comedy,total_dias_action,total_dias_thriller,total_dias_drama,total_dias_fantasy,total_dias_romance], ignore_index=True)\n",
        "tabla_combinada =tabla_combinada.fillna(0)\n",
        "print(tabla_combinada)"
      ],
      "metadata": {
        "colab": {
          "base_uri": "https://localhost:8080/"
        },
        "id": "4JtrelGxq1G8",
        "outputId": "54df8d2f-57da-498f-c118-950476604e3f"
      },
      "execution_count": 190,
      "outputs": [
        {
          "output_type": "stream",
          "name": "stdout",
          "text": [
            "         dias  historical  tiptoon  superhero  sports   SF  Slice of life  \\\n",
            "0      MONDAY         1.0      0.0        0.0     0.0  0.0            0.0   \n",
            "1   WEDNESDAY         1.0      0.0        0.0     0.0  0.0            0.0   \n",
            "2      FRIDAY         0.0      1.0        0.0     0.0  0.0            0.0   \n",
            "3      MONDAY         0.0      1.0        0.0     0.0  0.0            0.0   \n",
            "4    SATURDAY         0.0      1.0        0.0     0.0  0.0            0.0   \n",
            "..        ...         ...      ...        ...     ...  ...            ...   \n",
            "81   SATURDAY         0.0      0.0        0.0     0.0  0.0            0.0   \n",
            "82     SUNDAY         0.0      0.0        0.0     0.0  0.0            0.0   \n",
            "83   THURSDAY         0.0      0.0        0.0     0.0  0.0            0.0   \n",
            "84    TUESDAY         0.0      0.0        0.0     0.0  0.0            0.0   \n",
            "85  WEDNESDAY         0.0      0.0        0.0     0.0  0.0            0.0   \n",
            "\n",
            "    supernatural  horror  comedy  action  thriller  drama  fantasy  romance  \n",
            "0            0.0     0.0     0.0     0.0       0.0    0.0      0.0      0.0  \n",
            "1            0.0     0.0     0.0     0.0       0.0    0.0      0.0      0.0  \n",
            "2            0.0     0.0     0.0     0.0       0.0    0.0      0.0      0.0  \n",
            "3            0.0     0.0     0.0     0.0       0.0    0.0      0.0      0.0  \n",
            "4            0.0     0.0     0.0     0.0       0.0    0.0      0.0      0.0  \n",
            "..           ...     ...     ...     ...       ...    ...      ...      ...  \n",
            "81           0.0     0.0     0.0     0.0       0.0    0.0      0.0     33.0  \n",
            "82           0.0     0.0     0.0     0.0       0.0    0.0      0.0     27.0  \n",
            "83           0.0     0.0     0.0     0.0       0.0    0.0      0.0     19.0  \n",
            "84           0.0     0.0     0.0     0.0       0.0    0.0      0.0     24.0  \n",
            "85           0.0     0.0     0.0     0.0       0.0    0.0      0.0     22.0  \n",
            "\n",
            "[86 rows x 15 columns]\n"
          ]
        }
      ]
    },
    {
      "cell_type": "code",
      "source": [
        "actualizacion_genero=tabla_combinada.groupby('dias').sum()\n",
        "actualizacion_genero"
      ],
      "metadata": {
        "colab": {
          "base_uri": "https://localhost:8080/",
          "height": 399
        },
        "id": "duGK8xkstGFf",
        "outputId": "ac19efd2-5fe3-4fc5-c572-4e393ac230a0"
      },
      "execution_count": 191,
      "outputs": [
        {
          "output_type": "execute_result",
          "data": {
            "text/plain": [
              "           historical  tiptoon  superhero  sports   SF  Slice of life  \\\n",
              "dias                                                                    \n",
              "FRIDAY            0.0      1.0        1.0     1.0  3.0            5.0   \n",
              "MONDAY            1.0      1.0        1.0     0.0  1.0            3.0   \n",
              "SATURDAY          0.0      1.0        0.0     0.0  3.0            1.0   \n",
              "SUNDAY            0.0      1.0        0.0     1.0  2.0            2.0   \n",
              "THURSDAY          0.0      1.0        1.0     0.0  1.0            4.0   \n",
              "TUESDAY           0.0      1.0        1.0     0.0  1.0            2.0   \n",
              "WEDNESDAY         1.0      3.0        1.0     1.0  1.0            2.0   \n",
              "\n",
              "           supernatural  horror  comedy  action  thriller  drama  fantasy  \\\n",
              "dias                                                                        \n",
              "FRIDAY              2.0     3.0     4.0     2.0       6.0   11.0     29.0   \n",
              "MONDAY              0.0     2.0     5.0     5.0       6.0   11.0     32.0   \n",
              "SATURDAY            3.0     2.0     3.0     5.0      10.0    9.0     33.0   \n",
              "SUNDAY              1.0     4.0     6.0     5.0       9.0   10.0     27.0   \n",
              "THURSDAY            1.0     3.0     3.0     6.0       6.0   12.0     19.0   \n",
              "TUESDAY             2.0     5.0     3.0     2.0       8.0   11.0     24.0   \n",
              "WEDNESDAY           1.0     3.0     4.0     4.0      10.0   11.0     22.0   \n",
              "\n",
              "           romance  \n",
              "dias                \n",
              "FRIDAY        29.0  \n",
              "MONDAY        32.0  \n",
              "SATURDAY      33.0  \n",
              "SUNDAY        27.0  \n",
              "THURSDAY      19.0  \n",
              "TUESDAY       24.0  \n",
              "WEDNESDAY     22.0  "
            ],
            "text/html": [
              "\n",
              "\n",
              "  <div id=\"df-b73d6b15-49e2-4bbc-9e7c-1f3ee08bf78e\">\n",
              "    <div class=\"colab-df-container\">\n",
              "      <div>\n",
              "<style scoped>\n",
              "    .dataframe tbody tr th:only-of-type {\n",
              "        vertical-align: middle;\n",
              "    }\n",
              "\n",
              "    .dataframe tbody tr th {\n",
              "        vertical-align: top;\n",
              "    }\n",
              "\n",
              "    .dataframe thead th {\n",
              "        text-align: right;\n",
              "    }\n",
              "</style>\n",
              "<table border=\"1\" class=\"dataframe\">\n",
              "  <thead>\n",
              "    <tr style=\"text-align: right;\">\n",
              "      <th></th>\n",
              "      <th>historical</th>\n",
              "      <th>tiptoon</th>\n",
              "      <th>superhero</th>\n",
              "      <th>sports</th>\n",
              "      <th>SF</th>\n",
              "      <th>Slice of life</th>\n",
              "      <th>supernatural</th>\n",
              "      <th>horror</th>\n",
              "      <th>comedy</th>\n",
              "      <th>action</th>\n",
              "      <th>thriller</th>\n",
              "      <th>drama</th>\n",
              "      <th>fantasy</th>\n",
              "      <th>romance</th>\n",
              "    </tr>\n",
              "    <tr>\n",
              "      <th>dias</th>\n",
              "      <th></th>\n",
              "      <th></th>\n",
              "      <th></th>\n",
              "      <th></th>\n",
              "      <th></th>\n",
              "      <th></th>\n",
              "      <th></th>\n",
              "      <th></th>\n",
              "      <th></th>\n",
              "      <th></th>\n",
              "      <th></th>\n",
              "      <th></th>\n",
              "      <th></th>\n",
              "      <th></th>\n",
              "    </tr>\n",
              "  </thead>\n",
              "  <tbody>\n",
              "    <tr>\n",
              "      <th>FRIDAY</th>\n",
              "      <td>0.0</td>\n",
              "      <td>1.0</td>\n",
              "      <td>1.0</td>\n",
              "      <td>1.0</td>\n",
              "      <td>3.0</td>\n",
              "      <td>5.0</td>\n",
              "      <td>2.0</td>\n",
              "      <td>3.0</td>\n",
              "      <td>4.0</td>\n",
              "      <td>2.0</td>\n",
              "      <td>6.0</td>\n",
              "      <td>11.0</td>\n",
              "      <td>29.0</td>\n",
              "      <td>29.0</td>\n",
              "    </tr>\n",
              "    <tr>\n",
              "      <th>MONDAY</th>\n",
              "      <td>1.0</td>\n",
              "      <td>1.0</td>\n",
              "      <td>1.0</td>\n",
              "      <td>0.0</td>\n",
              "      <td>1.0</td>\n",
              "      <td>3.0</td>\n",
              "      <td>0.0</td>\n",
              "      <td>2.0</td>\n",
              "      <td>5.0</td>\n",
              "      <td>5.0</td>\n",
              "      <td>6.0</td>\n",
              "      <td>11.0</td>\n",
              "      <td>32.0</td>\n",
              "      <td>32.0</td>\n",
              "    </tr>\n",
              "    <tr>\n",
              "      <th>SATURDAY</th>\n",
              "      <td>0.0</td>\n",
              "      <td>1.0</td>\n",
              "      <td>0.0</td>\n",
              "      <td>0.0</td>\n",
              "      <td>3.0</td>\n",
              "      <td>1.0</td>\n",
              "      <td>3.0</td>\n",
              "      <td>2.0</td>\n",
              "      <td>3.0</td>\n",
              "      <td>5.0</td>\n",
              "      <td>10.0</td>\n",
              "      <td>9.0</td>\n",
              "      <td>33.0</td>\n",
              "      <td>33.0</td>\n",
              "    </tr>\n",
              "    <tr>\n",
              "      <th>SUNDAY</th>\n",
              "      <td>0.0</td>\n",
              "      <td>1.0</td>\n",
              "      <td>0.0</td>\n",
              "      <td>1.0</td>\n",
              "      <td>2.0</td>\n",
              "      <td>2.0</td>\n",
              "      <td>1.0</td>\n",
              "      <td>4.0</td>\n",
              "      <td>6.0</td>\n",
              "      <td>5.0</td>\n",
              "      <td>9.0</td>\n",
              "      <td>10.0</td>\n",
              "      <td>27.0</td>\n",
              "      <td>27.0</td>\n",
              "    </tr>\n",
              "    <tr>\n",
              "      <th>THURSDAY</th>\n",
              "      <td>0.0</td>\n",
              "      <td>1.0</td>\n",
              "      <td>1.0</td>\n",
              "      <td>0.0</td>\n",
              "      <td>1.0</td>\n",
              "      <td>4.0</td>\n",
              "      <td>1.0</td>\n",
              "      <td>3.0</td>\n",
              "      <td>3.0</td>\n",
              "      <td>6.0</td>\n",
              "      <td>6.0</td>\n",
              "      <td>12.0</td>\n",
              "      <td>19.0</td>\n",
              "      <td>19.0</td>\n",
              "    </tr>\n",
              "    <tr>\n",
              "      <th>TUESDAY</th>\n",
              "      <td>0.0</td>\n",
              "      <td>1.0</td>\n",
              "      <td>1.0</td>\n",
              "      <td>0.0</td>\n",
              "      <td>1.0</td>\n",
              "      <td>2.0</td>\n",
              "      <td>2.0</td>\n",
              "      <td>5.0</td>\n",
              "      <td>3.0</td>\n",
              "      <td>2.0</td>\n",
              "      <td>8.0</td>\n",
              "      <td>11.0</td>\n",
              "      <td>24.0</td>\n",
              "      <td>24.0</td>\n",
              "    </tr>\n",
              "    <tr>\n",
              "      <th>WEDNESDAY</th>\n",
              "      <td>1.0</td>\n",
              "      <td>3.0</td>\n",
              "      <td>1.0</td>\n",
              "      <td>1.0</td>\n",
              "      <td>1.0</td>\n",
              "      <td>2.0</td>\n",
              "      <td>1.0</td>\n",
              "      <td>3.0</td>\n",
              "      <td>4.0</td>\n",
              "      <td>4.0</td>\n",
              "      <td>10.0</td>\n",
              "      <td>11.0</td>\n",
              "      <td>22.0</td>\n",
              "      <td>22.0</td>\n",
              "    </tr>\n",
              "  </tbody>\n",
              "</table>\n",
              "</div>\n",
              "      <button class=\"colab-df-convert\" onclick=\"convertToInteractive('df-b73d6b15-49e2-4bbc-9e7c-1f3ee08bf78e')\"\n",
              "              title=\"Convert this dataframe to an interactive table.\"\n",
              "              style=\"display:none;\">\n",
              "\n",
              "  <svg xmlns=\"http://www.w3.org/2000/svg\" height=\"24px\"viewBox=\"0 0 24 24\"\n",
              "       width=\"24px\">\n",
              "    <path d=\"M0 0h24v24H0V0z\" fill=\"none\"/>\n",
              "    <path d=\"M18.56 5.44l.94 2.06.94-2.06 2.06-.94-2.06-.94-.94-2.06-.94 2.06-2.06.94zm-11 1L8.5 8.5l.94-2.06 2.06-.94-2.06-.94L8.5 2.5l-.94 2.06-2.06.94zm10 10l.94 2.06.94-2.06 2.06-.94-2.06-.94-.94-2.06-.94 2.06-2.06.94z\"/><path d=\"M17.41 7.96l-1.37-1.37c-.4-.4-.92-.59-1.43-.59-.52 0-1.04.2-1.43.59L10.3 9.45l-7.72 7.72c-.78.78-.78 2.05 0 2.83L4 21.41c.39.39.9.59 1.41.59.51 0 1.02-.2 1.41-.59l7.78-7.78 2.81-2.81c.8-.78.8-2.07 0-2.86zM5.41 20L4 18.59l7.72-7.72 1.47 1.35L5.41 20z\"/>\n",
              "  </svg>\n",
              "      </button>\n",
              "\n",
              "\n",
              "\n",
              "    <div id=\"df-eff5249a-8dbe-497b-9c8d-128d8db60788\">\n",
              "      <button class=\"colab-df-quickchart\" onclick=\"quickchart('df-eff5249a-8dbe-497b-9c8d-128d8db60788')\"\n",
              "              title=\"Suggest charts.\"\n",
              "              style=\"display:none;\">\n",
              "\n",
              "<svg xmlns=\"http://www.w3.org/2000/svg\" height=\"24px\"viewBox=\"0 0 24 24\"\n",
              "     width=\"24px\">\n",
              "    <g>\n",
              "        <path d=\"M19 3H5c-1.1 0-2 .9-2 2v14c0 1.1.9 2 2 2h14c1.1 0 2-.9 2-2V5c0-1.1-.9-2-2-2zM9 17H7v-7h2v7zm4 0h-2V7h2v10zm4 0h-2v-4h2v4z\"/>\n",
              "    </g>\n",
              "</svg>\n",
              "      </button>\n",
              "    </div>\n",
              "\n",
              "<style>\n",
              "  .colab-df-quickchart {\n",
              "    background-color: #E8F0FE;\n",
              "    border: none;\n",
              "    border-radius: 50%;\n",
              "    cursor: pointer;\n",
              "    display: none;\n",
              "    fill: #1967D2;\n",
              "    height: 32px;\n",
              "    padding: 0 0 0 0;\n",
              "    width: 32px;\n",
              "  }\n",
              "\n",
              "  .colab-df-quickchart:hover {\n",
              "    background-color: #E2EBFA;\n",
              "    box-shadow: 0px 1px 2px rgba(60, 64, 67, 0.3), 0px 1px 3px 1px rgba(60, 64, 67, 0.15);\n",
              "    fill: #174EA6;\n",
              "  }\n",
              "\n",
              "  [theme=dark] .colab-df-quickchart {\n",
              "    background-color: #3B4455;\n",
              "    fill: #D2E3FC;\n",
              "  }\n",
              "\n",
              "  [theme=dark] .colab-df-quickchart:hover {\n",
              "    background-color: #434B5C;\n",
              "    box-shadow: 0px 1px 3px 1px rgba(0, 0, 0, 0.15);\n",
              "    filter: drop-shadow(0px 1px 2px rgba(0, 0, 0, 0.3));\n",
              "    fill: #FFFFFF;\n",
              "  }\n",
              "</style>\n",
              "\n",
              "    <script>\n",
              "      async function quickchart(key) {\n",
              "        const containerElement = document.querySelector('#' + key);\n",
              "        const charts = await google.colab.kernel.invokeFunction(\n",
              "            'suggestCharts', [key], {});\n",
              "      }\n",
              "    </script>\n",
              "\n",
              "      <script>\n",
              "\n",
              "function displayQuickchartButton(domScope) {\n",
              "  let quickchartButtonEl =\n",
              "    domScope.querySelector('#df-eff5249a-8dbe-497b-9c8d-128d8db60788 button.colab-df-quickchart');\n",
              "  quickchartButtonEl.style.display =\n",
              "    google.colab.kernel.accessAllowed ? 'block' : 'none';\n",
              "}\n",
              "\n",
              "        displayQuickchartButton(document);\n",
              "      </script>\n",
              "      <style>\n",
              "    .colab-df-container {\n",
              "      display:flex;\n",
              "      flex-wrap:wrap;\n",
              "      gap: 12px;\n",
              "    }\n",
              "\n",
              "    .colab-df-convert {\n",
              "      background-color: #E8F0FE;\n",
              "      border: none;\n",
              "      border-radius: 50%;\n",
              "      cursor: pointer;\n",
              "      display: none;\n",
              "      fill: #1967D2;\n",
              "      height: 32px;\n",
              "      padding: 0 0 0 0;\n",
              "      width: 32px;\n",
              "    }\n",
              "\n",
              "    .colab-df-convert:hover {\n",
              "      background-color: #E2EBFA;\n",
              "      box-shadow: 0px 1px 2px rgba(60, 64, 67, 0.3), 0px 1px 3px 1px rgba(60, 64, 67, 0.15);\n",
              "      fill: #174EA6;\n",
              "    }\n",
              "\n",
              "    [theme=dark] .colab-df-convert {\n",
              "      background-color: #3B4455;\n",
              "      fill: #D2E3FC;\n",
              "    }\n",
              "\n",
              "    [theme=dark] .colab-df-convert:hover {\n",
              "      background-color: #434B5C;\n",
              "      box-shadow: 0px 1px 3px 1px rgba(0, 0, 0, 0.15);\n",
              "      filter: drop-shadow(0px 1px 2px rgba(0, 0, 0, 0.3));\n",
              "      fill: #FFFFFF;\n",
              "    }\n",
              "  </style>\n",
              "\n",
              "      <script>\n",
              "        const buttonEl =\n",
              "          document.querySelector('#df-b73d6b15-49e2-4bbc-9e7c-1f3ee08bf78e button.colab-df-convert');\n",
              "        buttonEl.style.display =\n",
              "          google.colab.kernel.accessAllowed ? 'block' : 'none';\n",
              "\n",
              "        async function convertToInteractive(key) {\n",
              "          const element = document.querySelector('#df-b73d6b15-49e2-4bbc-9e7c-1f3ee08bf78e');\n",
              "          const dataTable =\n",
              "            await google.colab.kernel.invokeFunction('convertToInteractive',\n",
              "                                                     [key], {});\n",
              "          if (!dataTable) return;\n",
              "\n",
              "          const docLinkHtml = 'Like what you see? Visit the ' +\n",
              "            '<a target=\"_blank\" href=https://colab.research.google.com/notebooks/data_table.ipynb>data table notebook</a>'\n",
              "            + ' to learn more about interactive tables.';\n",
              "          element.innerHTML = '';\n",
              "          dataTable['output_type'] = 'display_data';\n",
              "          await google.colab.output.renderOutput(dataTable, element);\n",
              "          const docLink = document.createElement('div');\n",
              "          docLink.innerHTML = docLinkHtml;\n",
              "          element.appendChild(docLink);\n",
              "        }\n",
              "      </script>\n",
              "    </div>\n",
              "  </div>\n"
            ]
          },
          "metadata": {},
          "execution_count": 191
        }
      ]
    },
    {
      "cell_type": "markdown",
      "source": [
        "###Cantidad de likes por género"
      ],
      "metadata": {
        "id": "UGtElTtr73Rg"
      }
    },
    {
      "cell_type": "code",
      "source": [
        "fig = px.histogram(data, x='genre', y='likes', text_auto = True)\n",
        "fig.update_traces(textfont_size = 14, textangle = 0, textposition = \"outside\")\n",
        "fig.show()"
      ],
      "metadata": {
        "colab": {
          "base_uri": "https://localhost:8080/",
          "height": 542
        },
        "id": "bPLsyOfDwaWN",
        "outputId": "83f0023c-6ebc-46c1-fc2c-3f6d893f6a37"
      },
      "execution_count": 235,
      "outputs": [
        {
          "output_type": "display_data",
          "data": {
            "text/html": [
              "<html>\n",
              "<head><meta charset=\"utf-8\" /></head>\n",
              "<body>\n",
              "    <div>            <script src=\"https://cdnjs.cloudflare.com/ajax/libs/mathjax/2.7.5/MathJax.js?config=TeX-AMS-MML_SVG\"></script><script type=\"text/javascript\">if (window.MathJax && window.MathJax.Hub && window.MathJax.Hub.Config) {window.MathJax.Hub.Config({SVG: {font: \"STIX-Web\"}});}</script>                <script type=\"text/javascript\">window.PlotlyConfig = {MathJaxConfig: 'local'};</script>\n",
              "        <script src=\"https://cdn.plot.ly/plotly-2.18.2.min.js\"></script>                <div id=\"4038e718-2ce8-4090-99d4-0601df9da1c5\" class=\"plotly-graph-div\" style=\"height:525px; width:100%;\"></div>            <script type=\"text/javascript\">                                    window.PLOTLYENV=window.PLOTLYENV || {};                                    if (document.getElementById(\"4038e718-2ce8-4090-99d4-0601df9da1c5\")) {                    Plotly.newPlot(                        \"4038e718-2ce8-4090-99d4-0601df9da1c5\",                        [{\"alignmentgroup\":\"True\",\"bingroup\":\"x\",\"histfunc\":\"sum\",\"hovertemplate\":\"genre=%{x}<br>sum of likes=%{y}<extra></extra>\",\"legendgroup\":\"\",\"marker\":{\"color\":\"#636efa\",\"pattern\":{\"shape\":\"\"}},\"name\":\"\",\"offsetgroup\":\"\",\"orientation\":\"v\",\"showlegend\":false,\"texttemplate\":\"%{value}\",\"x\":[\"DRAMA\",\"DRAMA\",\"ROMANCE\",\"ROMANCE\",\"ROMANCE\",\"DRAMA\",\"ROMANCE\",\"ROMANCE\",\"ROMANCE\",\"FANTASY\",\"ROMANCE\",\"FANTASY\",\"ROMANCE\",\"ROMANCE\",\"ROMANCE\",\"ROMANCE\",\"ROMANCE\",\"ROMANCE\",\"THRILLER\",\"HORROR\",\"ROMANCE\",\"DRAMA\",\"ROMANCE\",\"ROMANCE\",\"ROMANCE\",\"HORROR\",\"ROMANCE\",\"ROMANCE\",\"ROMANCE\",\"ROMANCE\",\"ROMANCE\",\"ROMANCE\",\"ROMANCE\",\"ROMANCE\",\"ROMANCE\",\"SUPER_HERO\",\"ROMANCE\",\"ROMANCE\",\"DRAMA\",\"FANTASY\",\"ROMANCE\",\"ROMANCE\",\"ROMANCE\",\"DRAMA\",\"ROMANCE\",\"ROMANCE\",\"ROMANCE\",\"ROMANCE\",\"ROMANCE\",\"ROMANCE\",\"FANTASY\",\"THRILLER\",\"ROMANCE\",\"DRAMA\",\"ROMANCE\",\"ROMANCE\",\"ROMANCE\",\"HORROR\",\"FANTASY\",\"ROMANCE\",\"ROMANCE\",\"HORROR\",\"SUPER_HERO\",\"ROMANCE\",\"FANTASY\",\"FANTASY\",\"ROMANCE\",\"THRILLER\",\"THRILLER\",\"ACTION\",\"ACTION\",\"FANTASY\",\"DRAMA\",\"ROMANCE\",\"ROMANCE\",\"SUPERNATURAL\",\"ROMANCE\",\"THRILLER\",\"FANTASY\",\"FANTASY\",\"ROMANCE\",\"ACTION\",\"ROMANCE\",\"ROMANCE\",\"ROMANCE\",\"ACTION\",\"ROMANCE\",\"ROMANCE\",\"ACTION\",\"THRILLER\",\"ROMANCE\",\"FANTASY\",\"FANTASY\",\"THRILLER\",\"ROMANCE\",\"DRAMA\",\"ROMANCE\",\"DRAMA\",\"HORROR\",\"ROMANCE\",\"ROMANCE\",\"DRAMA\",\"ROMANCE\",\"ROMANCE\",\"ROMANCE\",\"DRAMA\",\"ROMANCE\",\"SLICE_OF_LIFE\",\"HISTORICAL\",\"ROMANCE\",\"ACTION\",\"DRAMA\",\"FANTASY\",\"DRAMA\",\"ROMANCE\",\"DRAMA\",\"TIPTOON\",\"THRILLER\",\"FANTASY\",\"THRILLER\",\"HORROR\",\"FANTASY\",\"THRILLER\",\"SPORTS\",\"THRILLER\",\"SLICE_OF_LIFE\",\"DRAMA\",\"FANTASY\",\"ROMANCE\",\"ROMANCE\",\"COMEDY\",\"FANTASY\",\"ROMANCE\",\"ROMANCE\",\"FANTASY\",\"DRAMA\",\"SLICE_OF_LIFE\",\"DRAMA\",\"ROMANCE\",\"ACTION\",\"ROMANCE\",\"ROMANCE\",\"ROMANCE\",\"HORROR\",\"FANTASY\",\"ROMANCE\",\"FANTASY\",\"DRAMA\",\"ROMANCE\",\"SLICE_OF_LIFE\",\"SF\",\"FANTASY\",\"ACTION\",\"ACTION\",\"ROMANCE\",\"COMEDY\",\"COMEDY\",\"ACTION\",\"ROMANCE\",\"SF\",\"HISTORICAL\",\"DRAMA\",\"ROMANCE\",\"THRILLER\",\"COMEDY\",\"COMEDY\",\"HORROR\",\"ROMANCE\",\"ACTION\",\"COMEDY\",\"SF\",\"DRAMA\",\"COMEDY\",\"HORROR\",\"ROMANCE\",\"FANTASY\",\"FANTASY\",\"FANTASY\",\"DRAMA\",\"ROMANCE\",\"ROMANCE\",\"ACTION\",\"ROMANCE\",\"DRAMA\",\"ACTION\",\"SF\",\"SLICE_OF_LIFE\",\"DRAMA\",\"DRAMA\",\"DRAMA\",\"DRAMA\",\"SF\",\"ROMANCE\",\"FANTASY\",\"COMEDY\",\"ACTION\",\"COMEDY\",\"THRILLER\",\"DRAMA\",\"COMEDY\",\"ROMANCE\",\"ROMANCE\",\"ROMANCE\",\"DRAMA\",\"ACTION\",\"ROMANCE\",\"THRILLER\",\"ROMANCE\",\"FANTASY\",\"ROMANCE\",\"THRILLER\",\"HORROR\",\"THRILLER\",\"ROMANCE\",\"ROMANCE\",\"FANTASY\",\"DRAMA\",\"FANTASY\",\"SF\",\"ROMANCE\",\"ACTION\",\"ROMANCE\",\"THRILLER\",\"ROMANCE\",\"ROMANCE\",\"ROMANCE\",\"FANTASY\",\"FANTASY\",\"SPORTS\",\"ROMANCE\",\"ROMANCE\",\"ROMANCE\",\"COMEDY\",\"ROMANCE\",\"ROMANCE\",\"SUPERNATURAL\",\"DRAMA\",\"DRAMA\",\"FANTASY\",\"ROMANCE\",\"FANTASY\",\"ROMANCE\",\"ACTION\",\"SLICE_OF_LIFE\",\"SUPERNATURAL\",\"HORROR\",\"SUPERNATURAL\",\"ROMANCE\",\"FANTASY\",\"FANTASY\",\"SUPERNATURAL\",\"SUPERNATURAL\",\"THRILLER\",\"FANTASY\",\"HORROR\",\"FANTASY\",\"ACTION\",\"ROMANCE\",\"FANTASY\",\"ROMANCE\",\"SPORTS\",\"THRILLER\",\"ROMANCE\",\"FANTASY\",\"DRAMA\",\"TIPTOON\",\"ROMANCE\",\"COMEDY\",\"ACTION\",\"ROMANCE\",\"ROMANCE\",\"SUPERNATURAL\",\"ACTION\",\"TIPTOON\",\"ROMANCE\",\"COMEDY\",\"SUPERNATURAL\",\"ROMANCE\",\"DRAMA\",\"DRAMA\",\"SUPERNATURAL\",\"SUPER_HERO\",\"COMEDY\",\"FANTASY\",\"ROMANCE\",\"ROMANCE\",\"ROMANCE\",\"THRILLER\",\"FANTASY\",\"SUPER_HERO\",\"FANTASY\",\"HORROR\",\"THRILLER\",\"HORROR\",\"THRILLER\",\"COMEDY\",\"ACTION\",\"COMEDY\",\"DRAMA\",\"FANTASY\",\"THRILLER\",\"ROMANCE\",\"COMEDY\",\"DRAMA\",\"ROMANCE\",\"SLICE_OF_LIFE\",\"COMEDY\",\"DRAMA\",\"SLICE_OF_LIFE\",\"ROMANCE\",\"COMEDY\",\"ROMANCE\",\"ROMANCE\",\"THRILLER\",\"FANTASY\",\"ROMANCE\",\"ROMANCE\"],\"xaxis\":\"x\",\"y\":[31111,81905,24556,35401,29455,163806,86919,179686,194183,61251,266259,220034,223038,440862,26905,74678,93685,115171,164127,27114,83953,123528,26318,143088,555128,420440,159976,600256,148186,123540,519310,185305,469856,108687,61595,28143,266240,489287,11493,209242,229777,177902,777271,1357201,142471,704110,836777,418905,648836,328179,316860,96580,1234320,72729,280071,285889,747008,1807267,87849,154502,1284895,437654,25056,175227,500935,1061182,175162,229610,80532,23850,95007,770335,387889,393156,396789,203454,943717,943076,1728255,1910629,2388775,220345,553376,138419,707184,173240,1100918,1009652,480244,901202,1301961,1088731,251523,105088,1066777,491009,754821,422558,108959,192776,815449,1364644,292155,697813,182987,77486,305705,149241,311402,432421,78403,534304,287580,3745458,1875357,1832914,71473,177908,449924,398740,88529,270216,188403,141859,286475,1139730,140846,2645185,222281,230208,159938,730830,536669,592006,2917294,2169085,1557966,113533,106108,659056,365567,1569018,1778422,2440721,425621,930619,410448,214306,944724,972638,289900,405472,85347,672950,526399,502610,278185,2223948,531151,744362,134646,500690,4118268,478990,3697262,170896,1511556,2390265,148904,87108,211260,191202,484749,889190,1792623,215164,238630,4346284,380521,5990557,2323594,806373,524687,429155,1223567,138308,9419229,533123,827699,8754382,118576,416591,1950976,241557,1596070,569457,244515,534674,361898,704083,1948194,3086093,2274770,1375706,1034680,3252384,511545,1530014,48111,1442181,2271373,356925,746653,1593830,1540448,815223,288091,3323526,1258650,1482598,1505361,227108,3140972,1464773,3955325,4836507,833037,6364334,1595431,3331632,4776184,1908710,1801321,1032747,5140434,1534352,1919354,1080699,4057908,3060903,363630,3391936,899425,3628504,423529,1648832,2769620,2229399,4215599,18911636,1186083,3037086,4511956,4191984,403390,1272726,2515456,10939596,11045719,4572471,933878,3060381,4732972,1217162,4655814,71445,1088963,3230215,1845893,4679775,8424155,8643939,1690888,492053,4175094,2103018,1946904,13647122,9489393,12735810,8004485,11602847,4794382,1673462,739136,5898251,2225858,2097921,3286668,490413,11924992,566427,475603,1848661,347107,13786280,8349725,1067411,5010482,314781,8981862,1908481,2651627,1277079,2460916,12814267,6416355,12532851,7903012,13795357,7231060,10622960,21389047,3147779,6139593,8333923,31645529],\"yaxis\":\"y\",\"type\":\"histogram\",\"textfont\":{\"size\":14},\"textangle\":0,\"textposition\":\"outside\"}],                        {\"template\":{\"data\":{\"histogram2dcontour\":[{\"type\":\"histogram2dcontour\",\"colorbar\":{\"outlinewidth\":0,\"ticks\":\"\"},\"colorscale\":[[0.0,\"#0d0887\"],[0.1111111111111111,\"#46039f\"],[0.2222222222222222,\"#7201a8\"],[0.3333333333333333,\"#9c179e\"],[0.4444444444444444,\"#bd3786\"],[0.5555555555555556,\"#d8576b\"],[0.6666666666666666,\"#ed7953\"],[0.7777777777777778,\"#fb9f3a\"],[0.8888888888888888,\"#fdca26\"],[1.0,\"#f0f921\"]]}],\"choropleth\":[{\"type\":\"choropleth\",\"colorbar\":{\"outlinewidth\":0,\"ticks\":\"\"}}],\"histogram2d\":[{\"type\":\"histogram2d\",\"colorbar\":{\"outlinewidth\":0,\"ticks\":\"\"},\"colorscale\":[[0.0,\"#0d0887\"],[0.1111111111111111,\"#46039f\"],[0.2222222222222222,\"#7201a8\"],[0.3333333333333333,\"#9c179e\"],[0.4444444444444444,\"#bd3786\"],[0.5555555555555556,\"#d8576b\"],[0.6666666666666666,\"#ed7953\"],[0.7777777777777778,\"#fb9f3a\"],[0.8888888888888888,\"#fdca26\"],[1.0,\"#f0f921\"]]}],\"heatmap\":[{\"type\":\"heatmap\",\"colorbar\":{\"outlinewidth\":0,\"ticks\":\"\"},\"colorscale\":[[0.0,\"#0d0887\"],[0.1111111111111111,\"#46039f\"],[0.2222222222222222,\"#7201a8\"],[0.3333333333333333,\"#9c179e\"],[0.4444444444444444,\"#bd3786\"],[0.5555555555555556,\"#d8576b\"],[0.6666666666666666,\"#ed7953\"],[0.7777777777777778,\"#fb9f3a\"],[0.8888888888888888,\"#fdca26\"],[1.0,\"#f0f921\"]]}],\"heatmapgl\":[{\"type\":\"heatmapgl\",\"colorbar\":{\"outlinewidth\":0,\"ticks\":\"\"},\"colorscale\":[[0.0,\"#0d0887\"],[0.1111111111111111,\"#46039f\"],[0.2222222222222222,\"#7201a8\"],[0.3333333333333333,\"#9c179e\"],[0.4444444444444444,\"#bd3786\"],[0.5555555555555556,\"#d8576b\"],[0.6666666666666666,\"#ed7953\"],[0.7777777777777778,\"#fb9f3a\"],[0.8888888888888888,\"#fdca26\"],[1.0,\"#f0f921\"]]}],\"contourcarpet\":[{\"type\":\"contourcarpet\",\"colorbar\":{\"outlinewidth\":0,\"ticks\":\"\"}}],\"contour\":[{\"type\":\"contour\",\"colorbar\":{\"outlinewidth\":0,\"ticks\":\"\"},\"colorscale\":[[0.0,\"#0d0887\"],[0.1111111111111111,\"#46039f\"],[0.2222222222222222,\"#7201a8\"],[0.3333333333333333,\"#9c179e\"],[0.4444444444444444,\"#bd3786\"],[0.5555555555555556,\"#d8576b\"],[0.6666666666666666,\"#ed7953\"],[0.7777777777777778,\"#fb9f3a\"],[0.8888888888888888,\"#fdca26\"],[1.0,\"#f0f921\"]]}],\"surface\":[{\"type\":\"surface\",\"colorbar\":{\"outlinewidth\":0,\"ticks\":\"\"},\"colorscale\":[[0.0,\"#0d0887\"],[0.1111111111111111,\"#46039f\"],[0.2222222222222222,\"#7201a8\"],[0.3333333333333333,\"#9c179e\"],[0.4444444444444444,\"#bd3786\"],[0.5555555555555556,\"#d8576b\"],[0.6666666666666666,\"#ed7953\"],[0.7777777777777778,\"#fb9f3a\"],[0.8888888888888888,\"#fdca26\"],[1.0,\"#f0f921\"]]}],\"mesh3d\":[{\"type\":\"mesh3d\",\"colorbar\":{\"outlinewidth\":0,\"ticks\":\"\"}}],\"scatter\":[{\"fillpattern\":{\"fillmode\":\"overlay\",\"size\":10,\"solidity\":0.2},\"type\":\"scatter\"}],\"parcoords\":[{\"type\":\"parcoords\",\"line\":{\"colorbar\":{\"outlinewidth\":0,\"ticks\":\"\"}}}],\"scatterpolargl\":[{\"type\":\"scatterpolargl\",\"marker\":{\"colorbar\":{\"outlinewidth\":0,\"ticks\":\"\"}}}],\"bar\":[{\"error_x\":{\"color\":\"#2a3f5f\"},\"error_y\":{\"color\":\"#2a3f5f\"},\"marker\":{\"line\":{\"color\":\"#E5ECF6\",\"width\":0.5},\"pattern\":{\"fillmode\":\"overlay\",\"size\":10,\"solidity\":0.2}},\"type\":\"bar\"}],\"scattergeo\":[{\"type\":\"scattergeo\",\"marker\":{\"colorbar\":{\"outlinewidth\":0,\"ticks\":\"\"}}}],\"scatterpolar\":[{\"type\":\"scatterpolar\",\"marker\":{\"colorbar\":{\"outlinewidth\":0,\"ticks\":\"\"}}}],\"histogram\":[{\"marker\":{\"pattern\":{\"fillmode\":\"overlay\",\"size\":10,\"solidity\":0.2}},\"type\":\"histogram\"}],\"scattergl\":[{\"type\":\"scattergl\",\"marker\":{\"colorbar\":{\"outlinewidth\":0,\"ticks\":\"\"}}}],\"scatter3d\":[{\"type\":\"scatter3d\",\"line\":{\"colorbar\":{\"outlinewidth\":0,\"ticks\":\"\"}},\"marker\":{\"colorbar\":{\"outlinewidth\":0,\"ticks\":\"\"}}}],\"scattermapbox\":[{\"type\":\"scattermapbox\",\"marker\":{\"colorbar\":{\"outlinewidth\":0,\"ticks\":\"\"}}}],\"scatterternary\":[{\"type\":\"scatterternary\",\"marker\":{\"colorbar\":{\"outlinewidth\":0,\"ticks\":\"\"}}}],\"scattercarpet\":[{\"type\":\"scattercarpet\",\"marker\":{\"colorbar\":{\"outlinewidth\":0,\"ticks\":\"\"}}}],\"carpet\":[{\"aaxis\":{\"endlinecolor\":\"#2a3f5f\",\"gridcolor\":\"white\",\"linecolor\":\"white\",\"minorgridcolor\":\"white\",\"startlinecolor\":\"#2a3f5f\"},\"baxis\":{\"endlinecolor\":\"#2a3f5f\",\"gridcolor\":\"white\",\"linecolor\":\"white\",\"minorgridcolor\":\"white\",\"startlinecolor\":\"#2a3f5f\"},\"type\":\"carpet\"}],\"table\":[{\"cells\":{\"fill\":{\"color\":\"#EBF0F8\"},\"line\":{\"color\":\"white\"}},\"header\":{\"fill\":{\"color\":\"#C8D4E3\"},\"line\":{\"color\":\"white\"}},\"type\":\"table\"}],\"barpolar\":[{\"marker\":{\"line\":{\"color\":\"#E5ECF6\",\"width\":0.5},\"pattern\":{\"fillmode\":\"overlay\",\"size\":10,\"solidity\":0.2}},\"type\":\"barpolar\"}],\"pie\":[{\"automargin\":true,\"type\":\"pie\"}]},\"layout\":{\"autotypenumbers\":\"strict\",\"colorway\":[\"#636efa\",\"#EF553B\",\"#00cc96\",\"#ab63fa\",\"#FFA15A\",\"#19d3f3\",\"#FF6692\",\"#B6E880\",\"#FF97FF\",\"#FECB52\"],\"font\":{\"color\":\"#2a3f5f\"},\"hovermode\":\"closest\",\"hoverlabel\":{\"align\":\"left\"},\"paper_bgcolor\":\"white\",\"plot_bgcolor\":\"#E5ECF6\",\"polar\":{\"bgcolor\":\"#E5ECF6\",\"angularaxis\":{\"gridcolor\":\"white\",\"linecolor\":\"white\",\"ticks\":\"\"},\"radialaxis\":{\"gridcolor\":\"white\",\"linecolor\":\"white\",\"ticks\":\"\"}},\"ternary\":{\"bgcolor\":\"#E5ECF6\",\"aaxis\":{\"gridcolor\":\"white\",\"linecolor\":\"white\",\"ticks\":\"\"},\"baxis\":{\"gridcolor\":\"white\",\"linecolor\":\"white\",\"ticks\":\"\"},\"caxis\":{\"gridcolor\":\"white\",\"linecolor\":\"white\",\"ticks\":\"\"}},\"coloraxis\":{\"colorbar\":{\"outlinewidth\":0,\"ticks\":\"\"}},\"colorscale\":{\"sequential\":[[0.0,\"#0d0887\"],[0.1111111111111111,\"#46039f\"],[0.2222222222222222,\"#7201a8\"],[0.3333333333333333,\"#9c179e\"],[0.4444444444444444,\"#bd3786\"],[0.5555555555555556,\"#d8576b\"],[0.6666666666666666,\"#ed7953\"],[0.7777777777777778,\"#fb9f3a\"],[0.8888888888888888,\"#fdca26\"],[1.0,\"#f0f921\"]],\"sequentialminus\":[[0.0,\"#0d0887\"],[0.1111111111111111,\"#46039f\"],[0.2222222222222222,\"#7201a8\"],[0.3333333333333333,\"#9c179e\"],[0.4444444444444444,\"#bd3786\"],[0.5555555555555556,\"#d8576b\"],[0.6666666666666666,\"#ed7953\"],[0.7777777777777778,\"#fb9f3a\"],[0.8888888888888888,\"#fdca26\"],[1.0,\"#f0f921\"]],\"diverging\":[[0,\"#8e0152\"],[0.1,\"#c51b7d\"],[0.2,\"#de77ae\"],[0.3,\"#f1b6da\"],[0.4,\"#fde0ef\"],[0.5,\"#f7f7f7\"],[0.6,\"#e6f5d0\"],[0.7,\"#b8e186\"],[0.8,\"#7fbc41\"],[0.9,\"#4d9221\"],[1,\"#276419\"]]},\"xaxis\":{\"gridcolor\":\"white\",\"linecolor\":\"white\",\"ticks\":\"\",\"title\":{\"standoff\":15},\"zerolinecolor\":\"white\",\"automargin\":true,\"zerolinewidth\":2},\"yaxis\":{\"gridcolor\":\"white\",\"linecolor\":\"white\",\"ticks\":\"\",\"title\":{\"standoff\":15},\"zerolinecolor\":\"white\",\"automargin\":true,\"zerolinewidth\":2},\"scene\":{\"xaxis\":{\"backgroundcolor\":\"#E5ECF6\",\"gridcolor\":\"white\",\"linecolor\":\"white\",\"showbackground\":true,\"ticks\":\"\",\"zerolinecolor\":\"white\",\"gridwidth\":2},\"yaxis\":{\"backgroundcolor\":\"#E5ECF6\",\"gridcolor\":\"white\",\"linecolor\":\"white\",\"showbackground\":true,\"ticks\":\"\",\"zerolinecolor\":\"white\",\"gridwidth\":2},\"zaxis\":{\"backgroundcolor\":\"#E5ECF6\",\"gridcolor\":\"white\",\"linecolor\":\"white\",\"showbackground\":true,\"ticks\":\"\",\"zerolinecolor\":\"white\",\"gridwidth\":2}},\"shapedefaults\":{\"line\":{\"color\":\"#2a3f5f\"}},\"annotationdefaults\":{\"arrowcolor\":\"#2a3f5f\",\"arrowhead\":0,\"arrowwidth\":1},\"geo\":{\"bgcolor\":\"white\",\"landcolor\":\"#E5ECF6\",\"subunitcolor\":\"white\",\"showland\":true,\"showlakes\":true,\"lakecolor\":\"white\"},\"title\":{\"x\":0.05},\"mapbox\":{\"style\":\"light\"}}},\"xaxis\":{\"anchor\":\"y\",\"domain\":[0.0,1.0],\"title\":{\"text\":\"genre\"}},\"yaxis\":{\"anchor\":\"x\",\"domain\":[0.0,1.0],\"title\":{\"text\":\"sum of likes\"}},\"legend\":{\"tracegroupgap\":0},\"margin\":{\"t\":60},\"barmode\":\"relative\"},                        {\"responsive\": true}                    ).then(function(){\n",
              "                            \n",
              "var gd = document.getElementById('4038e718-2ce8-4090-99d4-0601df9da1c5');\n",
              "var x = new MutationObserver(function (mutations, observer) {{\n",
              "        var display = window.getComputedStyle(gd).display;\n",
              "        if (!display || display === 'none') {{\n",
              "            console.log([gd, 'removed!']);\n",
              "            Plotly.purge(gd);\n",
              "            observer.disconnect();\n",
              "        }}\n",
              "}});\n",
              "\n",
              "// Listen for the removal of the full notebook cells\n",
              "var notebookContainer = gd.closest('#notebook-container');\n",
              "if (notebookContainer) {{\n",
              "    x.observe(notebookContainer, {childList: true});\n",
              "}}\n",
              "\n",
              "// Listen for the clearing of the current output cell\n",
              "var outputEl = gd.closest('.output');\n",
              "if (outputEl) {{\n",
              "    x.observe(outputEl, {childList: true});\n",
              "}}\n",
              "\n",
              "                        })                };                            </script>        </div>\n",
              "</body>\n",
              "</html>"
            ]
          },
          "metadata": {}
        }
      ]
    },
    {
      "cell_type": "markdown",
      "source": [
        "###Cantidad de autores en cada género"
      ],
      "metadata": {
        "id": "xL0hQ8W479iM"
      }
    },
    {
      "cell_type": "code",
      "source": [
        "cant_author_genre=data.groupby('genre')['authors'].count()\n",
        "cant_author_genre=pd.DataFrame(cant_author_genre)\n",
        "cant_author_genre.reset_index(inplace=True)\n",
        "cant_author_genre.columns = cant_author_genre.columns.str.replace('index', 'genero')\n",
        "cant_author_genre.columns.values"
      ],
      "metadata": {
        "colab": {
          "base_uri": "https://localhost:8080/"
        },
        "outputId": "6dd1e844-f242-468b-9d3c-87bbffe08405",
        "id": "UlXHQXzR79iM"
      },
      "execution_count": 193,
      "outputs": [
        {
          "output_type": "execute_result",
          "data": {
            "text/plain": [
              "array(['genre', 'authors'], dtype=object)"
            ]
          },
          "metadata": {},
          "execution_count": 193
        }
      ]
    },
    {
      "cell_type": "code",
      "source": [
        "fig = px.histogram(authors_per_genre, x='genre', y='authors', text_auto = True)\n",
        "fig.update_traces(textfont_size = 14, textangle = 0, textposition = \"outside\")\n",
        "fig.show()"
      ],
      "metadata": {
        "colab": {
          "base_uri": "https://localhost:8080/",
          "height": 542
        },
        "id": "9UMwqQ0cBRQz",
        "outputId": "92d62ad4-ad95-4e6f-b194-1a9e96eb5aee"
      },
      "execution_count": 215,
      "outputs": [
        {
          "output_type": "display_data",
          "data": {
            "text/html": [
              "<html>\n",
              "<head><meta charset=\"utf-8\" /></head>\n",
              "<body>\n",
              "    <div>            <script src=\"https://cdnjs.cloudflare.com/ajax/libs/mathjax/2.7.5/MathJax.js?config=TeX-AMS-MML_SVG\"></script><script type=\"text/javascript\">if (window.MathJax && window.MathJax.Hub && window.MathJax.Hub.Config) {window.MathJax.Hub.Config({SVG: {font: \"STIX-Web\"}});}</script>                <script type=\"text/javascript\">window.PlotlyConfig = {MathJaxConfig: 'local'};</script>\n",
              "        <script src=\"https://cdn.plot.ly/plotly-2.18.2.min.js\"></script>                <div id=\"536a3619-180b-4cd1-993e-f7232c597dee\" class=\"plotly-graph-div\" style=\"height:525px; width:100%;\"></div>            <script type=\"text/javascript\">                                    window.PLOTLYENV=window.PLOTLYENV || {};                                    if (document.getElementById(\"536a3619-180b-4cd1-993e-f7232c597dee\")) {                    Plotly.newPlot(                        \"536a3619-180b-4cd1-993e-f7232c597dee\",                        [{\"alignmentgroup\":\"True\",\"bingroup\":\"x\",\"histfunc\":\"sum\",\"hovertemplate\":\"genre=%{x}<br>sum of authors=%{y}<extra></extra>\",\"legendgroup\":\"\",\"marker\":{\"color\":\"#636efa\",\"pattern\":{\"shape\":\"\"}},\"name\":\"\",\"offsetgroup\":\"\",\"orientation\":\"v\",\"showlegend\":false,\"texttemplate\":\"%{value}\",\"x\":[\"ACTION\",\"COMEDY\",\"DRAMA\",\"FANTASY\",\"HISTORICAL\",\"HORROR\",\"ROMANCE\",\"SF\",\"SLICE_OF_LIFE\",\"SPORTS\",\"SUPERNATURAL\",\"SUPER_HERO\",\"THRILLER\",\"TIPTOON\"],\"xaxis\":\"x\",\"y\":[21,19,38,41,2,14,121,6,8,3,9,4,23,3],\"yaxis\":\"y\",\"type\":\"histogram\",\"textfont\":{\"size\":14},\"textangle\":0,\"textposition\":\"outside\"}],                        {\"template\":{\"data\":{\"histogram2dcontour\":[{\"type\":\"histogram2dcontour\",\"colorbar\":{\"outlinewidth\":0,\"ticks\":\"\"},\"colorscale\":[[0.0,\"#0d0887\"],[0.1111111111111111,\"#46039f\"],[0.2222222222222222,\"#7201a8\"],[0.3333333333333333,\"#9c179e\"],[0.4444444444444444,\"#bd3786\"],[0.5555555555555556,\"#d8576b\"],[0.6666666666666666,\"#ed7953\"],[0.7777777777777778,\"#fb9f3a\"],[0.8888888888888888,\"#fdca26\"],[1.0,\"#f0f921\"]]}],\"choropleth\":[{\"type\":\"choropleth\",\"colorbar\":{\"outlinewidth\":0,\"ticks\":\"\"}}],\"histogram2d\":[{\"type\":\"histogram2d\",\"colorbar\":{\"outlinewidth\":0,\"ticks\":\"\"},\"colorscale\":[[0.0,\"#0d0887\"],[0.1111111111111111,\"#46039f\"],[0.2222222222222222,\"#7201a8\"],[0.3333333333333333,\"#9c179e\"],[0.4444444444444444,\"#bd3786\"],[0.5555555555555556,\"#d8576b\"],[0.6666666666666666,\"#ed7953\"],[0.7777777777777778,\"#fb9f3a\"],[0.8888888888888888,\"#fdca26\"],[1.0,\"#f0f921\"]]}],\"heatmap\":[{\"type\":\"heatmap\",\"colorbar\":{\"outlinewidth\":0,\"ticks\":\"\"},\"colorscale\":[[0.0,\"#0d0887\"],[0.1111111111111111,\"#46039f\"],[0.2222222222222222,\"#7201a8\"],[0.3333333333333333,\"#9c179e\"],[0.4444444444444444,\"#bd3786\"],[0.5555555555555556,\"#d8576b\"],[0.6666666666666666,\"#ed7953\"],[0.7777777777777778,\"#fb9f3a\"],[0.8888888888888888,\"#fdca26\"],[1.0,\"#f0f921\"]]}],\"heatmapgl\":[{\"type\":\"heatmapgl\",\"colorbar\":{\"outlinewidth\":0,\"ticks\":\"\"},\"colorscale\":[[0.0,\"#0d0887\"],[0.1111111111111111,\"#46039f\"],[0.2222222222222222,\"#7201a8\"],[0.3333333333333333,\"#9c179e\"],[0.4444444444444444,\"#bd3786\"],[0.5555555555555556,\"#d8576b\"],[0.6666666666666666,\"#ed7953\"],[0.7777777777777778,\"#fb9f3a\"],[0.8888888888888888,\"#fdca26\"],[1.0,\"#f0f921\"]]}],\"contourcarpet\":[{\"type\":\"contourcarpet\",\"colorbar\":{\"outlinewidth\":0,\"ticks\":\"\"}}],\"contour\":[{\"type\":\"contour\",\"colorbar\":{\"outlinewidth\":0,\"ticks\":\"\"},\"colorscale\":[[0.0,\"#0d0887\"],[0.1111111111111111,\"#46039f\"],[0.2222222222222222,\"#7201a8\"],[0.3333333333333333,\"#9c179e\"],[0.4444444444444444,\"#bd3786\"],[0.5555555555555556,\"#d8576b\"],[0.6666666666666666,\"#ed7953\"],[0.7777777777777778,\"#fb9f3a\"],[0.8888888888888888,\"#fdca26\"],[1.0,\"#f0f921\"]]}],\"surface\":[{\"type\":\"surface\",\"colorbar\":{\"outlinewidth\":0,\"ticks\":\"\"},\"colorscale\":[[0.0,\"#0d0887\"],[0.1111111111111111,\"#46039f\"],[0.2222222222222222,\"#7201a8\"],[0.3333333333333333,\"#9c179e\"],[0.4444444444444444,\"#bd3786\"],[0.5555555555555556,\"#d8576b\"],[0.6666666666666666,\"#ed7953\"],[0.7777777777777778,\"#fb9f3a\"],[0.8888888888888888,\"#fdca26\"],[1.0,\"#f0f921\"]]}],\"mesh3d\":[{\"type\":\"mesh3d\",\"colorbar\":{\"outlinewidth\":0,\"ticks\":\"\"}}],\"scatter\":[{\"fillpattern\":{\"fillmode\":\"overlay\",\"size\":10,\"solidity\":0.2},\"type\":\"scatter\"}],\"parcoords\":[{\"type\":\"parcoords\",\"line\":{\"colorbar\":{\"outlinewidth\":0,\"ticks\":\"\"}}}],\"scatterpolargl\":[{\"type\":\"scatterpolargl\",\"marker\":{\"colorbar\":{\"outlinewidth\":0,\"ticks\":\"\"}}}],\"bar\":[{\"error_x\":{\"color\":\"#2a3f5f\"},\"error_y\":{\"color\":\"#2a3f5f\"},\"marker\":{\"line\":{\"color\":\"#E5ECF6\",\"width\":0.5},\"pattern\":{\"fillmode\":\"overlay\",\"size\":10,\"solidity\":0.2}},\"type\":\"bar\"}],\"scattergeo\":[{\"type\":\"scattergeo\",\"marker\":{\"colorbar\":{\"outlinewidth\":0,\"ticks\":\"\"}}}],\"scatterpolar\":[{\"type\":\"scatterpolar\",\"marker\":{\"colorbar\":{\"outlinewidth\":0,\"ticks\":\"\"}}}],\"histogram\":[{\"marker\":{\"pattern\":{\"fillmode\":\"overlay\",\"size\":10,\"solidity\":0.2}},\"type\":\"histogram\"}],\"scattergl\":[{\"type\":\"scattergl\",\"marker\":{\"colorbar\":{\"outlinewidth\":0,\"ticks\":\"\"}}}],\"scatter3d\":[{\"type\":\"scatter3d\",\"line\":{\"colorbar\":{\"outlinewidth\":0,\"ticks\":\"\"}},\"marker\":{\"colorbar\":{\"outlinewidth\":0,\"ticks\":\"\"}}}],\"scattermapbox\":[{\"type\":\"scattermapbox\",\"marker\":{\"colorbar\":{\"outlinewidth\":0,\"ticks\":\"\"}}}],\"scatterternary\":[{\"type\":\"scatterternary\",\"marker\":{\"colorbar\":{\"outlinewidth\":0,\"ticks\":\"\"}}}],\"scattercarpet\":[{\"type\":\"scattercarpet\",\"marker\":{\"colorbar\":{\"outlinewidth\":0,\"ticks\":\"\"}}}],\"carpet\":[{\"aaxis\":{\"endlinecolor\":\"#2a3f5f\",\"gridcolor\":\"white\",\"linecolor\":\"white\",\"minorgridcolor\":\"white\",\"startlinecolor\":\"#2a3f5f\"},\"baxis\":{\"endlinecolor\":\"#2a3f5f\",\"gridcolor\":\"white\",\"linecolor\":\"white\",\"minorgridcolor\":\"white\",\"startlinecolor\":\"#2a3f5f\"},\"type\":\"carpet\"}],\"table\":[{\"cells\":{\"fill\":{\"color\":\"#EBF0F8\"},\"line\":{\"color\":\"white\"}},\"header\":{\"fill\":{\"color\":\"#C8D4E3\"},\"line\":{\"color\":\"white\"}},\"type\":\"table\"}],\"barpolar\":[{\"marker\":{\"line\":{\"color\":\"#E5ECF6\",\"width\":0.5},\"pattern\":{\"fillmode\":\"overlay\",\"size\":10,\"solidity\":0.2}},\"type\":\"barpolar\"}],\"pie\":[{\"automargin\":true,\"type\":\"pie\"}]},\"layout\":{\"autotypenumbers\":\"strict\",\"colorway\":[\"#636efa\",\"#EF553B\",\"#00cc96\",\"#ab63fa\",\"#FFA15A\",\"#19d3f3\",\"#FF6692\",\"#B6E880\",\"#FF97FF\",\"#FECB52\"],\"font\":{\"color\":\"#2a3f5f\"},\"hovermode\":\"closest\",\"hoverlabel\":{\"align\":\"left\"},\"paper_bgcolor\":\"white\",\"plot_bgcolor\":\"#E5ECF6\",\"polar\":{\"bgcolor\":\"#E5ECF6\",\"angularaxis\":{\"gridcolor\":\"white\",\"linecolor\":\"white\",\"ticks\":\"\"},\"radialaxis\":{\"gridcolor\":\"white\",\"linecolor\":\"white\",\"ticks\":\"\"}},\"ternary\":{\"bgcolor\":\"#E5ECF6\",\"aaxis\":{\"gridcolor\":\"white\",\"linecolor\":\"white\",\"ticks\":\"\"},\"baxis\":{\"gridcolor\":\"white\",\"linecolor\":\"white\",\"ticks\":\"\"},\"caxis\":{\"gridcolor\":\"white\",\"linecolor\":\"white\",\"ticks\":\"\"}},\"coloraxis\":{\"colorbar\":{\"outlinewidth\":0,\"ticks\":\"\"}},\"colorscale\":{\"sequential\":[[0.0,\"#0d0887\"],[0.1111111111111111,\"#46039f\"],[0.2222222222222222,\"#7201a8\"],[0.3333333333333333,\"#9c179e\"],[0.4444444444444444,\"#bd3786\"],[0.5555555555555556,\"#d8576b\"],[0.6666666666666666,\"#ed7953\"],[0.7777777777777778,\"#fb9f3a\"],[0.8888888888888888,\"#fdca26\"],[1.0,\"#f0f921\"]],\"sequentialminus\":[[0.0,\"#0d0887\"],[0.1111111111111111,\"#46039f\"],[0.2222222222222222,\"#7201a8\"],[0.3333333333333333,\"#9c179e\"],[0.4444444444444444,\"#bd3786\"],[0.5555555555555556,\"#d8576b\"],[0.6666666666666666,\"#ed7953\"],[0.7777777777777778,\"#fb9f3a\"],[0.8888888888888888,\"#fdca26\"],[1.0,\"#f0f921\"]],\"diverging\":[[0,\"#8e0152\"],[0.1,\"#c51b7d\"],[0.2,\"#de77ae\"],[0.3,\"#f1b6da\"],[0.4,\"#fde0ef\"],[0.5,\"#f7f7f7\"],[0.6,\"#e6f5d0\"],[0.7,\"#b8e186\"],[0.8,\"#7fbc41\"],[0.9,\"#4d9221\"],[1,\"#276419\"]]},\"xaxis\":{\"gridcolor\":\"white\",\"linecolor\":\"white\",\"ticks\":\"\",\"title\":{\"standoff\":15},\"zerolinecolor\":\"white\",\"automargin\":true,\"zerolinewidth\":2},\"yaxis\":{\"gridcolor\":\"white\",\"linecolor\":\"white\",\"ticks\":\"\",\"title\":{\"standoff\":15},\"zerolinecolor\":\"white\",\"automargin\":true,\"zerolinewidth\":2},\"scene\":{\"xaxis\":{\"backgroundcolor\":\"#E5ECF6\",\"gridcolor\":\"white\",\"linecolor\":\"white\",\"showbackground\":true,\"ticks\":\"\",\"zerolinecolor\":\"white\",\"gridwidth\":2},\"yaxis\":{\"backgroundcolor\":\"#E5ECF6\",\"gridcolor\":\"white\",\"linecolor\":\"white\",\"showbackground\":true,\"ticks\":\"\",\"zerolinecolor\":\"white\",\"gridwidth\":2},\"zaxis\":{\"backgroundcolor\":\"#E5ECF6\",\"gridcolor\":\"white\",\"linecolor\":\"white\",\"showbackground\":true,\"ticks\":\"\",\"zerolinecolor\":\"white\",\"gridwidth\":2}},\"shapedefaults\":{\"line\":{\"color\":\"#2a3f5f\"}},\"annotationdefaults\":{\"arrowcolor\":\"#2a3f5f\",\"arrowhead\":0,\"arrowwidth\":1},\"geo\":{\"bgcolor\":\"white\",\"landcolor\":\"#E5ECF6\",\"subunitcolor\":\"white\",\"showland\":true,\"showlakes\":true,\"lakecolor\":\"white\"},\"title\":{\"x\":0.05},\"mapbox\":{\"style\":\"light\"}}},\"xaxis\":{\"anchor\":\"y\",\"domain\":[0.0,1.0],\"title\":{\"text\":\"genre\"}},\"yaxis\":{\"anchor\":\"x\",\"domain\":[0.0,1.0],\"title\":{\"text\":\"sum of authors\"}},\"legend\":{\"tracegroupgap\":0},\"margin\":{\"t\":60},\"barmode\":\"relative\"},                        {\"responsive\": true}                    ).then(function(){\n",
              "                            \n",
              "var gd = document.getElementById('536a3619-180b-4cd1-993e-f7232c597dee');\n",
              "var x = new MutationObserver(function (mutations, observer) {{\n",
              "        var display = window.getComputedStyle(gd).display;\n",
              "        if (!display || display === 'none') {{\n",
              "            console.log([gd, 'removed!']);\n",
              "            Plotly.purge(gd);\n",
              "            observer.disconnect();\n",
              "        }}\n",
              "}});\n",
              "\n",
              "// Listen for the removal of the full notebook cells\n",
              "var notebookContainer = gd.closest('#notebook-container');\n",
              "if (notebookContainer) {{\n",
              "    x.observe(notebookContainer, {childList: true});\n",
              "}}\n",
              "\n",
              "// Listen for the clearing of the current output cell\n",
              "var outputEl = gd.closest('.output');\n",
              "if (outputEl) {{\n",
              "    x.observe(outputEl, {childList: true});\n",
              "}}\n",
              "\n",
              "                        })                };                            </script>        </div>\n",
              "</body>\n",
              "</html>"
            ]
          },
          "metadata": {}
        }
      ]
    },
    {
      "cell_type": "markdown",
      "source": [
        "###Diagramas relacionados a los datos numéricos y al tipo de pase"
      ],
      "metadata": {
        "id": "1jM7LyogE4U7"
      }
    },
    {
      "cell_type": "code",
      "source": [
        "fig = px.scatter_matrix(data,\n",
        "    dimensions=[ \"length\", \"subscribers\", \"rating\",'views','likes','daily_pass'],\n",
        "    color=\"daily_pass\")\n",
        "fig.show()"
      ],
      "metadata": {
        "colab": {
          "base_uri": "https://localhost:8080/",
          "height": 542
        },
        "id": "PVVvegDBDrSq",
        "outputId": "4704c1e3-cd7b-4bfb-f9d1-93aa00711165"
      },
      "execution_count": 238,
      "outputs": [
        {
          "output_type": "display_data",
          "data": {
            "text/html": [
              "<html>\n",
              "<head><meta charset=\"utf-8\" /></head>\n",
              "<body>\n",
              "    <div>            <script src=\"https://cdnjs.cloudflare.com/ajax/libs/mathjax/2.7.5/MathJax.js?config=TeX-AMS-MML_SVG\"></script><script type=\"text/javascript\">if (window.MathJax && window.MathJax.Hub && window.MathJax.Hub.Config) {window.MathJax.Hub.Config({SVG: {font: \"STIX-Web\"}});}</script>                <script type=\"text/javascript\">window.PlotlyConfig = {MathJaxConfig: 'local'};</script>\n",
              "        <script src=\"https://cdn.plot.ly/plotly-2.18.2.min.js\"></script>                <div id=\"77b61896-1c76-4c88-a685-585e81bf2f53\" class=\"plotly-graph-div\" style=\"height:525px; width:100%;\"></div>            <script type=\"text/javascript\">                                    window.PLOTLYENV=window.PLOTLYENV || {};                                    if (document.getElementById(\"77b61896-1c76-4c88-a685-585e81bf2f53\")) {                    Plotly.newPlot(                        \"77b61896-1c76-4c88-a685-585e81bf2f53\",                        [{\"dimensions\":[{\"axis\":{\"matches\":true},\"label\":\"length\",\"values\":[4,6,4,3,11,7,9,9,10,11,9,12,18,15,10,9,14,14,12,12,12,12,13,13,38,15,15,42,16,16,18,20,18,7,16,30,18,17,18,19,19,38,22,22,24,23,23,20,22,24,25,25,27,27,27,28,55,29,29,31,61,7,12,13,33,33,30,30,31,61,33,60,36,36,37,15,7,57,38,38,20,39,41,33,39,32,78,79,27,43,42,42,28,42,32,30,41,42,70,44,83,43,43,44,44,44,45,75,87,45,8,46,47,47,45,47,39,144,50,98,48,48,48,49,49,49,50,49,142,51,51,24,52,69,38,52,53,46,54,51,53,54,43,55,50,43,50,87,55,51,49,56,57,57,48,58,58,50,50,39,58,60,60,61,61,62,62,63,63,108,65,195,108,51,66,56,62,67,101,60,50,60,51,70,70,69,71,64,71,50,50,72,62,73,67,54,12,75,76,61,77,57,69,77,102,78,73,83,85,81,67,82,64,48,130,47,87,106,92,96,49,97,98,471,24,67,102,102,94,110,91,95,109,110,10,77,324,105,145,103,116,44,100,116,215,8,79,154,114,141,118,127,17,228,46,175,344,184,130,257,132,125,27,139,91,130,116,137,73,52,105,114,327,544,109,141,26,101,122,98,721,550,584,175,160,159,547,212]},{\"axis\":{\"matches\":true},\"label\":\"subscribers\",\"values\":[63822,108708,61310,68428,38968,188646,111307,196866,173619,56196,229439,208806,141767,241282,35132,72582,70847,75168,118514,35195,92440,121397,39959,124535,160495,239426,100335,212796,104828,100425,125423,241965,91559,86012,22613,111081,290745,16733,123748,158102,134046,209744,474228,112131,239893,308139,178278,376186,150688,176433,79140,466546,59956,154476,121791,315602,386532,44065,77900,616736,96156,49568,425905,714714,111483,93055,53370,19081,49484,160827,207337,145138,111246,81695,317185,986693,895505,520858,98271,75313,454130,61590,326090,320462,168893,256675,206320,175224,128839,105849,259936,131950,216686,107852,67541,66844,217867,94595,125576,30318,54334,44680,68475,147238,35476,178366,113662,564850,254802,480351,63175,136238,44421,89725,74488,37689,70305,90910,39696,280618,100982,64745,39038,148124,143955,181028,509289,531555,110969,49467,191413,177276,296666,324437,829369,148969,208931,120204,202276,224525,124704,86828,42841,195173,107965,107321,55783,339279,175019,38630,121405,923246,314141,42833,409622,529746,49948,32271,56230,66467,186116,402938,65484,60991,969272,1256426,483266,199080,243016,975328,95383,117263,984599,27453,84138,56363,278796,101311,51486,146003,111094,130155,401772,693539,389780,266456,198984,625290,98773,308643,27495,259320,483364,284164,229083,196557,113236,568325,181410,220232,231925,54566,614816,171452,592393,848958,145272,983751,309295,539346,785542,238832,290893,206193,655360,313070,321905,102844,546688,294274,109668,377083,122153,134724,133030,256868,364320,274621,585914,2582098,145508,423348,708421,523474,299617,173686,256619,2182817,1059518,582036,127238,552418,587153,152252,245606,54968,233046,294721,232598,430259,1044638,210775,121774,162069,393563,1198580,483775,1089301,1272807,1089625,484735,193259,228703,598944,251074,278079,90090,1389866,177952,169793,241430,85276,857625,358216,165739,521120,97569,227084,415163,271653,287898,305587,203876,1576754,818260,2043943,385807,3285899]},{\"axis\":{\"matches\":true},\"label\":\"rating\",\"values\":[9.53,9.71,9.72,9.85,9.31,9.84,9.68,9.81,9.77,9.76,9.83,9.84,9.83,9.83,9.68,9.71,9.63,9.58,9.78,9.63,9.75,9.83,8.65,9.59,9.82,9.78,9.67,9.77,9.81,9.74,9.57,9.7,9.54,9.75,9.51,9.54,9.74,9.51,9.83,9.62,9.37,9.9,9.69,9.66,9.87,9.79,9.77,8.97,9.87,9.63,9.51,9.85,9.68,9.45,9.8,9.58,9.66,9.73,9.53,9.73,9.91,9.11,9.89,9.88,9.34,9.79,9.83,9.61,9.83,9.84,9.8,9.6,9.9,9.85,9.78,9.92,9.74,9.84,9.6,9.52,9.82,9.77,9.85,9.53,9.86,9.84,9.75,9.74,9.7,9.5,9.8,9.76,9.76,9.64,9.22,9.68,9.82,9.57,9.3,9.6,9.61,9.7,9.74,9.67,9.7,9.86,9.81,9.82,9.83,9.73,9.65,9.79,9.6,9.84,9.76,9.75,9.74,9.7,9.27,9.84,9.69,9.51,9.63,9.87,9.75,9.83,9.31,9.68,9.82,9.69,9.79,9.57,9.83,9.75,9.64,9.63,9.7,9.83,9.81,9.79,9.65,9.76,9.64,9.88,9.81,9.8,9.36,9.93,9.72,9.57,9.78,9.86,9.68,9.5,9.87,9.82,9.46,9.1,9.66,9.58,9.8,9.84,9.69,9.56,9.83,9.89,9.67,9.78,9.85,9.71,9.67,9.65,9.91,9.16,9.22,9.43,9.6,9.8,9.24,9.68,9.61,9.75,9.69,9.76,9.86,9.75,9.85,9.8,9.7,9.67,9.22,9.72,9.75,9.59,9.71,9.61,9.91,9.82,9.82,9.71,9.9,9.1,9.88,9.78,9.7,9.83,9.79,9.77,9.89,9.69,9.84,9.83,9.73,9.63,9.76,9.81,9.8,9.73,9.85,9.7,9.43,9.92,9.7,9.44,9.66,9.59,9.74,9.79,9.87,9.88,9.32,9.85,9.82,9.92,9.73,9.79,9.78,9.86,9.9,9.84,9.79,9.69,9.85,9.68,8.91,9.47,9.28,9.58,9.66,9.65,9.77,9.69,9.67,9.35,9.85,9.68,9.68,9.82,9.85,9.84,9.76,9.54,9.54,9.87,9.72,9.91,9.55,9.87,9.24,9.52,9.82,9.51,9.75,9.88,9.45,9.68,9.78,9.67,9.6,9.41,9.62,8.98,9.71,9.75,9.66,9.88,9.87,9.72]},{\"axis\":{\"matches\":true},\"label\":\"views\",\"values\":[216223,563964,171510,180379,178647,1111114,662914,1495496,1531499,498616,1769574,1586309,1415017,2578760,190930,480755,482370,708801,1606972,164527,594193,900050,167376,1169568,3941255,3681933,978133,3273961,1169065,886905,1389564,3718360,815435,416682,171604,2161643,4359665,63378,1351606,1763983,1373177,6036349,11281818,979883,5046584,5200840,2665999,7276025,2177960,2471169,563336,10717593,397438,2146504,1963685,7281470,17708968,532386,966221,17128657,2208320,239409,2572899,8562175,1460884,1544039,462561,115855,546595,4633833,2681755,2504189,2150514,946147,7274720,16964379,12648543,16210878,1486498,833109,5506500,1028584,8204236,8222986,3279509,4996920,8034860,8032090,1781805,2375912,7974125,2758373,5197020,2322532,905589,1167502,5255458,2082916,4799439,394272,1485598,703256,1495666,2718184,441661,3404897,1615694,27581519,10447507,15219927,356751,2639354,461737,1519521,969425,931426,1481872,4968259,741460,18554747,1512857,1308537,787328,4231266,3540084,4433321,25516653,18746367,8309909,524321,4146189,2302912,10137095,13046090,31516237,2452840,6314902,2708285,5436255,7951828,1759436,2123981,422509,6269046,3580418,2650476,1592584,16576753,4447749,646538,2496811,42622655,11161910,886711,14752540,19842287,985762,435126,1020888,907955,4451903,11362809,1251208,1295800,45925420,70076182,18135741,6558273,8078140,74346742,2290535,3658781,53758251,499919,2210780,1105538,8356781,3040020,1413179,3434197,1906425,3899255,14572608,22420028,16300338,7653035,7884261,26498159,2772426,10211628,239646,7958375,19356616,9789832,8844721,6461471,1438130,24012361,7057846,8263688,7941469,1144035,22183122,7324099,27962888,40333229,5095578,50704385,13418888,20021017,32952252,9196846,10543861,5797757,28973846,9108310,10675905,4800731,26898261,15340680,2844764,19425597,4372286,15924721,2543245,11909215,17152196,13369390,29138142,204173084,6918598,18621849,30568667,26874294,5840515,7446720,17965213,171215606,88904191,38653565,6732602,23496066,29029769,6125625,27379227,1192177,7336738,18359513,11604305,31867697,66336679,11447742,5815914,10841162,12590154,112400504,57124487,100175433,74158499,120180269,36999542,9968535,8444211,46172949,15969667,11544424,4276301,109990425,5766708,4781639,12332678,2179658,147048396,58014427,9533860,39568203,2212068,13118922,23787343,19685293,81941754,60579973,53398566,162753946,71086052,205192244,59239849,406292262]},{\"axis\":{\"matches\":true},\"label\":\"likes\",\"values\":[31111,81905,24556,35401,29455,163806,86919,179686,194183,61251,266259,220034,223038,440862,26905,74678,93685,115171,164127,27114,83953,123528,26318,143088,555128,420440,159976,600256,148186,123540,185305,469856,108687,61595,28143,266240,489287,11493,209242,229777,177902,777271,1357201,142471,704110,836777,418905,648836,328179,316860,96580,1234320,72729,280071,285889,747008,1807267,87849,154502,1284895,437654,25056,500935,1061182,175162,229610,80532,23850,95007,770335,387889,393156,396789,203454,943717,1728255,1910629,2388775,220345,138419,707184,173240,1100918,1009652,480244,901202,1301961,1088731,251523,105088,1066777,491009,754821,422558,108959,192776,815449,292155,697813,77486,305705,149241,311402,432421,78403,534304,287580,3745458,1875357,1832914,71473,449924,88529,270216,188403,141859,286475,1139730,140846,2645185,222281,230208,159938,730830,536669,592006,2917294,2169085,1557966,113533,659056,365567,1569018,1778422,2440721,425621,930619,410448,944724,972638,289900,405472,85347,672950,526399,502610,278185,2223948,744362,134646,500690,4118268,3697262,170896,1511556,2390265,148904,87108,211260,191202,889190,1792623,215164,238630,4346284,5990557,2323594,806373,1223567,9419229,533123,827699,8754382,118576,416591,241557,1596070,569457,244515,534674,361898,704083,1948194,3086093,2274770,1375706,1034680,3252384,511545,1530014,48111,1442181,2271373,1593830,1540448,815223,288091,3323526,1258650,1482598,1505361,227108,3140972,1464773,3955325,4836507,833037,6364334,1595431,3331632,4776184,1908710,1801321,1032747,5140434,1534352,1919354,1080699,4057908,3060903,363630,3391936,899425,3628504,423529,1648832,2769620,2229399,4215599,18911636,1186083,3037086,4511956,4191984,403390,1272726,2515456,10939596,11045719,4572471,933878,3060381,4732972,1217162,4655814,71445,1088963,3230215,1845893,4679775,8424155,1690888,492053,2103018,1946904,13647122,9489393,12735810,8004485,11602847,4794382,1673462,739136,5898251,2225858,2097921,490413,11924992,566427,475603,1848661,347107,13786280,8349725,1067411,5010482,314781,1908481,2651627,2460916,12814267,6416355,7903012,13795357,7231060,21389047,6139593,31645529]},{\"axis\":{\"matches\":true},\"label\":\"daily_pass\",\"values\":[false,false,false,false,false,false,false,false,false,false,false,false,false,false,false,false,false,false,false,false,false,false,false,false,false,false,false,false,false,false,false,false,false,false,false,false,false,false,false,false,false,false,false,false,false,false,false,false,false,false,false,false,false,false,false,false,false,false,false,false,false,false,false,false,false,false,false,false,false,false,false,false,false,false,false,false,false,false,false,false,false,false,false,false,false,false,false,false,false,false,false,false,false,false,false,false,false,false,false,false,false,false,false,false,false,false,false,false,false,false,false,false,false,false,false,false,false,false,false,false,false,false,false,false,false,false,false,false,false,false,false,false,false,false,false,false,false,false,false,false,false,false,false,false,false,false,false,false,false,false,false,false,false,false,false,false,false,false,false,false,false,false,false,false,false,false,false,false,false,false,false,false,false,false,false,false,false,false,false,false,false,false,false,false,false,false,false,false,false,false,false,false,false,false,false,false,false,false,false,false,false,false,false,false,false,false,false,false,false,false,false,false,false,false,false,false,false,false,false,false,false,false,false,false,false,false,false,false,false,false,false,false,false,false,false,false,false,false,false,false,false,false,false,false,false,false,false,false,false,false,false,false,false,false,false,false,false,false,false,false,false,false,false,false,false,false,false,false,false,false,false,false,false,false,false,false,false,false,false,false,false,false,false,false,false,false,false,false]}],\"hovertemplate\":\"daily_pass=False<br>%{xaxis.title.text}=%{x}<br>%{yaxis.title.text}=%{y}<extra></extra>\",\"legendgroup\":\"False\",\"marker\":{\"color\":\"#636efa\",\"symbol\":\"circle\"},\"name\":\"False\",\"showlegend\":true,\"type\":\"splom\"},{\"dimensions\":[{\"axis\":{\"matches\":true},\"label\":\"length\",\"values\":[10,6,9,7,9,5,5,7,5,2,7,7,11,8,4,7,5,10,6,9,7,27,21,15,1,11,16,11,25]},{\"axis\":{\"matches\":true},\"label\":\"subscribers\",\"values\":[119394,34780,275560,136739,212110,62464,53593,99728,45974,82893,103993,107501,63336,164882,296746,68671,37480,214803,88810,137648,1093427,362519,217557,1386948,610512,1771384,1409903,459023,699043]},{\"axis\":{\"matches\":true},\"label\":\"rating\",\"values\":[9.74,9.52,9.6,9.51,9.75,9.52,9.65,9.76,8.57,9.83,9.77,9.67,9.63,9.83,9.43,9.78,9.57,9.87,9.76,9.74,9.77,9.75,9.87,9.88,9.86,9.79,9.84,9.9,9.81]},{\"axis\":{\"matches\":true},\"label\":\"views\",\"values\":[3385872,824352,9400737,3455373,8898541,1045067,926448,2472612,651091,1126758,2799986,2625596,2593680,2241197,3294930,2163294,659003,11308170,1996688,4287829,72215320,31579626,18237134,95938013,7896546,128773480,107274559,28487340,95214332]},{\"axis\":{\"matches\":true},\"label\":\"likes\",\"values\":[519310,175227,943076,553376,1364644,182987,177908,398740,106108,214306,531151,478990,484749,380521,524687,429155,138308,1950976,356925,746653,8643939,4175094,3286668,8981862,1277079,12532851,10622960,3147779,8333923]},{\"axis\":{\"matches\":true},\"label\":\"daily_pass\",\"values\":[true,true,true,true,true,true,true,true,true,true,true,true,true,true,true,true,true,true,true,true,true,true,true,true,true,true,true,true,true]}],\"hovertemplate\":\"daily_pass=True<br>%{xaxis.title.text}=%{x}<br>%{yaxis.title.text}=%{y}<extra></extra>\",\"legendgroup\":\"True\",\"marker\":{\"color\":\"#EF553B\",\"symbol\":\"circle\"},\"name\":\"True\",\"showlegend\":true,\"type\":\"splom\"}],                        {\"template\":{\"data\":{\"histogram2dcontour\":[{\"type\":\"histogram2dcontour\",\"colorbar\":{\"outlinewidth\":0,\"ticks\":\"\"},\"colorscale\":[[0.0,\"#0d0887\"],[0.1111111111111111,\"#46039f\"],[0.2222222222222222,\"#7201a8\"],[0.3333333333333333,\"#9c179e\"],[0.4444444444444444,\"#bd3786\"],[0.5555555555555556,\"#d8576b\"],[0.6666666666666666,\"#ed7953\"],[0.7777777777777778,\"#fb9f3a\"],[0.8888888888888888,\"#fdca26\"],[1.0,\"#f0f921\"]]}],\"choropleth\":[{\"type\":\"choropleth\",\"colorbar\":{\"outlinewidth\":0,\"ticks\":\"\"}}],\"histogram2d\":[{\"type\":\"histogram2d\",\"colorbar\":{\"outlinewidth\":0,\"ticks\":\"\"},\"colorscale\":[[0.0,\"#0d0887\"],[0.1111111111111111,\"#46039f\"],[0.2222222222222222,\"#7201a8\"],[0.3333333333333333,\"#9c179e\"],[0.4444444444444444,\"#bd3786\"],[0.5555555555555556,\"#d8576b\"],[0.6666666666666666,\"#ed7953\"],[0.7777777777777778,\"#fb9f3a\"],[0.8888888888888888,\"#fdca26\"],[1.0,\"#f0f921\"]]}],\"heatmap\":[{\"type\":\"heatmap\",\"colorbar\":{\"outlinewidth\":0,\"ticks\":\"\"},\"colorscale\":[[0.0,\"#0d0887\"],[0.1111111111111111,\"#46039f\"],[0.2222222222222222,\"#7201a8\"],[0.3333333333333333,\"#9c179e\"],[0.4444444444444444,\"#bd3786\"],[0.5555555555555556,\"#d8576b\"],[0.6666666666666666,\"#ed7953\"],[0.7777777777777778,\"#fb9f3a\"],[0.8888888888888888,\"#fdca26\"],[1.0,\"#f0f921\"]]}],\"heatmapgl\":[{\"type\":\"heatmapgl\",\"colorbar\":{\"outlinewidth\":0,\"ticks\":\"\"},\"colorscale\":[[0.0,\"#0d0887\"],[0.1111111111111111,\"#46039f\"],[0.2222222222222222,\"#7201a8\"],[0.3333333333333333,\"#9c179e\"],[0.4444444444444444,\"#bd3786\"],[0.5555555555555556,\"#d8576b\"],[0.6666666666666666,\"#ed7953\"],[0.7777777777777778,\"#fb9f3a\"],[0.8888888888888888,\"#fdca26\"],[1.0,\"#f0f921\"]]}],\"contourcarpet\":[{\"type\":\"contourcarpet\",\"colorbar\":{\"outlinewidth\":0,\"ticks\":\"\"}}],\"contour\":[{\"type\":\"contour\",\"colorbar\":{\"outlinewidth\":0,\"ticks\":\"\"},\"colorscale\":[[0.0,\"#0d0887\"],[0.1111111111111111,\"#46039f\"],[0.2222222222222222,\"#7201a8\"],[0.3333333333333333,\"#9c179e\"],[0.4444444444444444,\"#bd3786\"],[0.5555555555555556,\"#d8576b\"],[0.6666666666666666,\"#ed7953\"],[0.7777777777777778,\"#fb9f3a\"],[0.8888888888888888,\"#fdca26\"],[1.0,\"#f0f921\"]]}],\"surface\":[{\"type\":\"surface\",\"colorbar\":{\"outlinewidth\":0,\"ticks\":\"\"},\"colorscale\":[[0.0,\"#0d0887\"],[0.1111111111111111,\"#46039f\"],[0.2222222222222222,\"#7201a8\"],[0.3333333333333333,\"#9c179e\"],[0.4444444444444444,\"#bd3786\"],[0.5555555555555556,\"#d8576b\"],[0.6666666666666666,\"#ed7953\"],[0.7777777777777778,\"#fb9f3a\"],[0.8888888888888888,\"#fdca26\"],[1.0,\"#f0f921\"]]}],\"mesh3d\":[{\"type\":\"mesh3d\",\"colorbar\":{\"outlinewidth\":0,\"ticks\":\"\"}}],\"scatter\":[{\"fillpattern\":{\"fillmode\":\"overlay\",\"size\":10,\"solidity\":0.2},\"type\":\"scatter\"}],\"parcoords\":[{\"type\":\"parcoords\",\"line\":{\"colorbar\":{\"outlinewidth\":0,\"ticks\":\"\"}}}],\"scatterpolargl\":[{\"type\":\"scatterpolargl\",\"marker\":{\"colorbar\":{\"outlinewidth\":0,\"ticks\":\"\"}}}],\"bar\":[{\"error_x\":{\"color\":\"#2a3f5f\"},\"error_y\":{\"color\":\"#2a3f5f\"},\"marker\":{\"line\":{\"color\":\"#E5ECF6\",\"width\":0.5},\"pattern\":{\"fillmode\":\"overlay\",\"size\":10,\"solidity\":0.2}},\"type\":\"bar\"}],\"scattergeo\":[{\"type\":\"scattergeo\",\"marker\":{\"colorbar\":{\"outlinewidth\":0,\"ticks\":\"\"}}}],\"scatterpolar\":[{\"type\":\"scatterpolar\",\"marker\":{\"colorbar\":{\"outlinewidth\":0,\"ticks\":\"\"}}}],\"histogram\":[{\"marker\":{\"pattern\":{\"fillmode\":\"overlay\",\"size\":10,\"solidity\":0.2}},\"type\":\"histogram\"}],\"scattergl\":[{\"type\":\"scattergl\",\"marker\":{\"colorbar\":{\"outlinewidth\":0,\"ticks\":\"\"}}}],\"scatter3d\":[{\"type\":\"scatter3d\",\"line\":{\"colorbar\":{\"outlinewidth\":0,\"ticks\":\"\"}},\"marker\":{\"colorbar\":{\"outlinewidth\":0,\"ticks\":\"\"}}}],\"scattermapbox\":[{\"type\":\"scattermapbox\",\"marker\":{\"colorbar\":{\"outlinewidth\":0,\"ticks\":\"\"}}}],\"scatterternary\":[{\"type\":\"scatterternary\",\"marker\":{\"colorbar\":{\"outlinewidth\":0,\"ticks\":\"\"}}}],\"scattercarpet\":[{\"type\":\"scattercarpet\",\"marker\":{\"colorbar\":{\"outlinewidth\":0,\"ticks\":\"\"}}}],\"carpet\":[{\"aaxis\":{\"endlinecolor\":\"#2a3f5f\",\"gridcolor\":\"white\",\"linecolor\":\"white\",\"minorgridcolor\":\"white\",\"startlinecolor\":\"#2a3f5f\"},\"baxis\":{\"endlinecolor\":\"#2a3f5f\",\"gridcolor\":\"white\",\"linecolor\":\"white\",\"minorgridcolor\":\"white\",\"startlinecolor\":\"#2a3f5f\"},\"type\":\"carpet\"}],\"table\":[{\"cells\":{\"fill\":{\"color\":\"#EBF0F8\"},\"line\":{\"color\":\"white\"}},\"header\":{\"fill\":{\"color\":\"#C8D4E3\"},\"line\":{\"color\":\"white\"}},\"type\":\"table\"}],\"barpolar\":[{\"marker\":{\"line\":{\"color\":\"#E5ECF6\",\"width\":0.5},\"pattern\":{\"fillmode\":\"overlay\",\"size\":10,\"solidity\":0.2}},\"type\":\"barpolar\"}],\"pie\":[{\"automargin\":true,\"type\":\"pie\"}]},\"layout\":{\"autotypenumbers\":\"strict\",\"colorway\":[\"#636efa\",\"#EF553B\",\"#00cc96\",\"#ab63fa\",\"#FFA15A\",\"#19d3f3\",\"#FF6692\",\"#B6E880\",\"#FF97FF\",\"#FECB52\"],\"font\":{\"color\":\"#2a3f5f\"},\"hovermode\":\"closest\",\"hoverlabel\":{\"align\":\"left\"},\"paper_bgcolor\":\"white\",\"plot_bgcolor\":\"#E5ECF6\",\"polar\":{\"bgcolor\":\"#E5ECF6\",\"angularaxis\":{\"gridcolor\":\"white\",\"linecolor\":\"white\",\"ticks\":\"\"},\"radialaxis\":{\"gridcolor\":\"white\",\"linecolor\":\"white\",\"ticks\":\"\"}},\"ternary\":{\"bgcolor\":\"#E5ECF6\",\"aaxis\":{\"gridcolor\":\"white\",\"linecolor\":\"white\",\"ticks\":\"\"},\"baxis\":{\"gridcolor\":\"white\",\"linecolor\":\"white\",\"ticks\":\"\"},\"caxis\":{\"gridcolor\":\"white\",\"linecolor\":\"white\",\"ticks\":\"\"}},\"coloraxis\":{\"colorbar\":{\"outlinewidth\":0,\"ticks\":\"\"}},\"colorscale\":{\"sequential\":[[0.0,\"#0d0887\"],[0.1111111111111111,\"#46039f\"],[0.2222222222222222,\"#7201a8\"],[0.3333333333333333,\"#9c179e\"],[0.4444444444444444,\"#bd3786\"],[0.5555555555555556,\"#d8576b\"],[0.6666666666666666,\"#ed7953\"],[0.7777777777777778,\"#fb9f3a\"],[0.8888888888888888,\"#fdca26\"],[1.0,\"#f0f921\"]],\"sequentialminus\":[[0.0,\"#0d0887\"],[0.1111111111111111,\"#46039f\"],[0.2222222222222222,\"#7201a8\"],[0.3333333333333333,\"#9c179e\"],[0.4444444444444444,\"#bd3786\"],[0.5555555555555556,\"#d8576b\"],[0.6666666666666666,\"#ed7953\"],[0.7777777777777778,\"#fb9f3a\"],[0.8888888888888888,\"#fdca26\"],[1.0,\"#f0f921\"]],\"diverging\":[[0,\"#8e0152\"],[0.1,\"#c51b7d\"],[0.2,\"#de77ae\"],[0.3,\"#f1b6da\"],[0.4,\"#fde0ef\"],[0.5,\"#f7f7f7\"],[0.6,\"#e6f5d0\"],[0.7,\"#b8e186\"],[0.8,\"#7fbc41\"],[0.9,\"#4d9221\"],[1,\"#276419\"]]},\"xaxis\":{\"gridcolor\":\"white\",\"linecolor\":\"white\",\"ticks\":\"\",\"title\":{\"standoff\":15},\"zerolinecolor\":\"white\",\"automargin\":true,\"zerolinewidth\":2},\"yaxis\":{\"gridcolor\":\"white\",\"linecolor\":\"white\",\"ticks\":\"\",\"title\":{\"standoff\":15},\"zerolinecolor\":\"white\",\"automargin\":true,\"zerolinewidth\":2},\"scene\":{\"xaxis\":{\"backgroundcolor\":\"#E5ECF6\",\"gridcolor\":\"white\",\"linecolor\":\"white\",\"showbackground\":true,\"ticks\":\"\",\"zerolinecolor\":\"white\",\"gridwidth\":2},\"yaxis\":{\"backgroundcolor\":\"#E5ECF6\",\"gridcolor\":\"white\",\"linecolor\":\"white\",\"showbackground\":true,\"ticks\":\"\",\"zerolinecolor\":\"white\",\"gridwidth\":2},\"zaxis\":{\"backgroundcolor\":\"#E5ECF6\",\"gridcolor\":\"white\",\"linecolor\":\"white\",\"showbackground\":true,\"ticks\":\"\",\"zerolinecolor\":\"white\",\"gridwidth\":2}},\"shapedefaults\":{\"line\":{\"color\":\"#2a3f5f\"}},\"annotationdefaults\":{\"arrowcolor\":\"#2a3f5f\",\"arrowhead\":0,\"arrowwidth\":1},\"geo\":{\"bgcolor\":\"white\",\"landcolor\":\"#E5ECF6\",\"subunitcolor\":\"white\",\"showland\":true,\"showlakes\":true,\"lakecolor\":\"white\"},\"title\":{\"x\":0.05},\"mapbox\":{\"style\":\"light\"}}},\"legend\":{\"title\":{\"text\":\"daily_pass\"},\"tracegroupgap\":0},\"margin\":{\"t\":60},\"dragmode\":\"select\"},                        {\"responsive\": true}                    ).then(function(){\n",
              "                            \n",
              "var gd = document.getElementById('77b61896-1c76-4c88-a685-585e81bf2f53');\n",
              "var x = new MutationObserver(function (mutations, observer) {{\n",
              "        var display = window.getComputedStyle(gd).display;\n",
              "        if (!display || display === 'none') {{\n",
              "            console.log([gd, 'removed!']);\n",
              "            Plotly.purge(gd);\n",
              "            observer.disconnect();\n",
              "        }}\n",
              "}});\n",
              "\n",
              "// Listen for the removal of the full notebook cells\n",
              "var notebookContainer = gd.closest('#notebook-container');\n",
              "if (notebookContainer) {{\n",
              "    x.observe(notebookContainer, {childList: true});\n",
              "}}\n",
              "\n",
              "// Listen for the clearing of the current output cell\n",
              "var outputEl = gd.closest('.output');\n",
              "if (outputEl) {{\n",
              "    x.observe(outputEl, {childList: true});\n",
              "}}\n",
              "\n",
              "                        })                };                            </script>        </div>\n",
              "</body>\n",
              "</html>"
            ]
          },
          "metadata": {}
        }
      ]
    },
    {
      "cell_type": "markdown",
      "source": [
        "###Diagramas relacionados a los datos numéricos y estado de publicación"
      ],
      "metadata": {
        "id": "3XKhZcb_Fhv4"
      }
    },
    {
      "cell_type": "code",
      "source": [
        "fig = px.scatter_matrix(data,\n",
        "    dimensions=[ \"length\", \"subscribers\", \"rating\",'views','likes','daily_pass'],\n",
        "    color=\"status\")\n",
        "fig.show()"
      ],
      "metadata": {
        "colab": {
          "base_uri": "https://localhost:8080/",
          "height": 542
        },
        "outputId": "5ebb59e3-eb60-41a3-a496-fc0dba1f0ac0",
        "id": "ARnpBgKpFhv5"
      },
      "execution_count": 196,
      "outputs": [
        {
          "output_type": "display_data",
          "data": {
            "text/html": [
              "<html>\n",
              "<head><meta charset=\"utf-8\" /></head>\n",
              "<body>\n",
              "    <div>            <script src=\"https://cdnjs.cloudflare.com/ajax/libs/mathjax/2.7.5/MathJax.js?config=TeX-AMS-MML_SVG\"></script><script type=\"text/javascript\">if (window.MathJax && window.MathJax.Hub && window.MathJax.Hub.Config) {window.MathJax.Hub.Config({SVG: {font: \"STIX-Web\"}});}</script>                <script type=\"text/javascript\">window.PlotlyConfig = {MathJaxConfig: 'local'};</script>\n",
              "        <script src=\"https://cdn.plot.ly/plotly-2.18.2.min.js\"></script>                <div id=\"c29aaf1d-a798-4f55-a943-24440d3f181f\" class=\"plotly-graph-div\" style=\"height:525px; width:100%;\"></div>            <script type=\"text/javascript\">                                    window.PLOTLYENV=window.PLOTLYENV || {};                                    if (document.getElementById(\"c29aaf1d-a798-4f55-a943-24440d3f181f\")) {                    Plotly.newPlot(                        \"c29aaf1d-a798-4f55-a943-24440d3f181f\",                        [{\"dimensions\":[{\"axis\":{\"matches\":true},\"label\":\"length\",\"values\":[4,6,4,3,11,7,9,9,10,11,9,12,18,15,10,9,14,14,12,12,12,12,13,13,38,15,15,42,16,16,18,20,18,7,16,30,18,17,18,19,19,38,22,22,24,23,23,20,22,24,25,25,27,27,27,28,55,29,29,31,61,33,33,30,30,31,61,33,36,36,37,15,57,38,38,39,41,33,39,32,78,79,43,42,42,42,32,41,42,70,44,83,43,43,44,44,44,45,75,87,45,46,47,47,47,144,50,98,48,48,48,49,49,49,49,142,51,51,52,69,38,52,53,54,51,54,43,55,87,55,56,57,57,58,58,39,60,60,61,61,62,62,63,63,108,65,195,108,66,67,70,70,69,71,71,72,73,75,76,77,77,78,83,85,81,82,87,106,92,96,97,98,471,102,110,109,110,324,105,116,116,118,127,228,175,344,184,130,257,139,130,141,101,721,550,584,175,160,547,212]},{\"axis\":{\"matches\":true},\"label\":\"subscribers\",\"values\":[63822,108708,61310,68428,38968,188646,111307,196866,173619,56196,229439,208806,141767,241282,35132,72582,70847,75168,118514,35195,92440,121397,39959,124535,160495,239426,100335,212796,104828,100425,125423,241965,91559,86012,22613,111081,290745,16733,123748,158102,134046,209744,474228,112131,239893,308139,178278,376186,150688,176433,79140,466546,59956,154476,121791,315602,386532,44065,77900,616736,96156,111483,93055,53370,19081,49484,160827,207337,111246,81695,317185,986693,520858,98271,75313,61590,326090,320462,168893,256675,206320,175224,105849,259936,131950,107852,67541,217867,94595,125576,30318,54334,44680,68475,147238,35476,178366,113662,564850,254802,480351,136238,44421,89725,37689,90910,39696,280618,100982,64745,39038,148124,143955,181028,531555,110969,49467,191413,296666,324437,829369,148969,208931,202276,224525,86828,42841,195173,339279,175019,923246,314141,42833,529746,49948,66467,402938,65484,60991,969272,1256426,483266,199080,243016,975328,95383,117263,984599,84138,101311,693539,389780,266456,198984,98773,259320,284164,568325,181410,231925,171452,848958,983751,309295,539346,238832,321905,102844,546688,294274,377083,122153,134724,364320,2582098,708421,523474,256619,2182817,127238,152252,1044638,210775,162069,1198580,483775,1089301,1272807,1089625,598944,278079,521120,227084,287898,305587,203876,1576754,818260,385807,3285899]},{\"axis\":{\"matches\":true},\"label\":\"rating\",\"values\":[9.53,9.71,9.72,9.85,9.31,9.84,9.68,9.81,9.77,9.76,9.83,9.84,9.83,9.83,9.68,9.71,9.63,9.58,9.78,9.63,9.75,9.83,8.65,9.59,9.82,9.78,9.67,9.77,9.81,9.74,9.57,9.7,9.54,9.75,9.51,9.54,9.74,9.51,9.83,9.62,9.37,9.9,9.69,9.66,9.87,9.79,9.77,8.97,9.87,9.63,9.51,9.85,9.68,9.45,9.8,9.58,9.66,9.73,9.53,9.73,9.91,9.34,9.79,9.83,9.61,9.83,9.84,9.8,9.9,9.85,9.78,9.92,9.84,9.6,9.52,9.77,9.85,9.53,9.86,9.84,9.75,9.74,9.5,9.8,9.76,9.64,9.22,9.82,9.57,9.3,9.6,9.61,9.7,9.74,9.67,9.7,9.86,9.81,9.82,9.83,9.73,9.79,9.6,9.84,9.75,9.7,9.27,9.84,9.69,9.51,9.63,9.87,9.75,9.83,9.68,9.82,9.69,9.79,9.83,9.75,9.64,9.63,9.7,9.81,9.79,9.76,9.64,9.88,9.93,9.72,9.86,9.68,9.5,9.82,9.46,9.58,9.84,9.69,9.56,9.83,9.89,9.67,9.78,9.85,9.71,9.67,9.65,9.91,9.22,9.8,9.76,9.86,9.75,9.85,9.7,9.72,9.59,9.82,9.82,9.9,9.78,9.83,9.77,9.89,9.69,9.83,9.8,9.73,9.85,9.7,9.92,9.7,9.44,9.74,9.88,9.82,9.92,9.78,9.86,9.79,9.68,9.77,9.69,9.35,9.68,9.68,9.82,9.85,9.84,9.87,9.91,9.68,9.67,9.62,8.98,9.71,9.75,9.66,9.87,9.72]},{\"axis\":{\"matches\":true},\"label\":\"views\",\"values\":[216223,563964,171510,180379,178647,1111114,662914,1495496,1531499,498616,1769574,1586309,1415017,2578760,190930,480755,482370,708801,1606972,164527,594193,900050,167376,1169568,3941255,3681933,978133,3273961,1169065,886905,1389564,3718360,815435,416682,171604,2161643,4359665,63378,1351606,1763983,1373177,6036349,11281818,979883,5046584,5200840,2665999,7276025,2177960,2471169,563336,10717593,397438,2146504,1963685,7281470,17708968,532386,966221,17128657,2208320,1460884,1544039,462561,115855,546595,4633833,2681755,2150514,946147,7274720,16964379,16210878,1486498,833109,1028584,8204236,8222986,3279509,4996920,8034860,8032090,2375912,7974125,2758373,2322532,905589,5255458,2082916,4799439,394272,1485598,703256,1495666,2718184,441661,3404897,1615694,27581519,10447507,15219927,2639354,461737,1519521,931426,4968259,741460,18554747,1512857,1308537,787328,4231266,3540084,4433321,18746367,8309909,524321,4146189,10137095,13046090,31516237,2452840,6314902,5436255,7951828,2123981,422509,6269046,16576753,4447749,42622655,11161910,886711,19842287,985762,907955,11362809,1251208,1295800,45925420,70076182,18135741,6558273,8078140,74346742,2290535,3658781,53758251,2210780,3040020,22420028,16300338,7653035,7884261,2772426,7958375,9789832,24012361,7057846,7941469,7324099,40333229,50704385,13418888,20021017,9196846,10675905,4800731,26898261,15340680,19425597,4372286,15924721,17152196,204173084,30568667,26874294,17965213,171215606,6732602,6125625,66336679,11447742,10841162,112400504,57124487,100175433,74158499,120180269,46172949,11544424,39568203,13118922,81941754,60579973,53398566,162753946,71086052,59239849,406292262]},{\"axis\":{\"matches\":true},\"label\":\"likes\",\"values\":[31111,81905,24556,35401,29455,163806,86919,179686,194183,61251,266259,220034,223038,440862,26905,74678,93685,115171,164127,27114,83953,123528,26318,143088,555128,420440,159976,600256,148186,123540,185305,469856,108687,61595,28143,266240,489287,11493,209242,229777,177902,777271,1357201,142471,704110,836777,418905,648836,328179,316860,96580,1234320,72729,280071,285889,747008,1807267,87849,154502,1284895,437654,175162,229610,80532,23850,95007,770335,387889,396789,203454,943717,1728255,2388775,220345,138419,173240,1100918,1009652,480244,901202,1301961,1088731,105088,1066777,491009,422558,108959,815449,292155,697813,77486,305705,149241,311402,432421,78403,534304,287580,3745458,1875357,1832914,449924,88529,270216,141859,1139730,140846,2645185,222281,230208,159938,730830,536669,592006,2169085,1557966,113533,659056,1569018,1778422,2440721,425621,930619,944724,972638,405472,85347,672950,2223948,744362,4118268,3697262,170896,2390265,148904,191202,1792623,215164,238630,4346284,5990557,2323594,806373,1223567,9419229,533123,827699,8754382,416591,569457,3086093,2274770,1375706,1034680,511545,1442181,1593830,3323526,1258650,1505361,1464773,4836507,6364334,1595431,3331632,1908710,1919354,1080699,4057908,3060903,3391936,899425,3628504,2769620,18911636,4511956,4191984,2515456,10939596,933878,1217162,8424155,1690888,2103018,13647122,9489393,12735810,8004485,11602847,5898251,2097921,5010482,1908481,12814267,6416355,7903012,13795357,7231060,6139593,31645529]},{\"axis\":{\"matches\":true},\"label\":\"daily_pass\",\"values\":[false,false,false,false,false,false,false,false,false,false,false,false,false,false,false,false,false,false,false,false,false,false,false,false,false,false,false,false,false,false,false,false,false,false,false,false,false,false,false,false,false,false,false,false,false,false,false,false,false,false,false,false,false,false,false,false,false,false,false,false,false,false,false,false,false,false,false,false,false,false,false,false,false,false,false,false,false,false,false,false,false,false,false,false,false,false,false,false,false,false,false,false,false,false,false,false,false,false,false,false,false,false,false,false,false,false,false,false,false,false,false,false,false,false,false,false,false,false,false,false,false,false,false,false,false,false,false,false,false,false,false,false,false,false,false,false,false,false,false,false,false,false,false,false,false,false,false,false,false,false,false,false,false,false,false,false,false,false,false,false,false,false,false,false,false,false,false,false,false,false,false,false,false,false,false,false,false,false,false,false,false,false,false,false,false,false,false,false,false,false,false,false,false,false,false,false,false,false,false,false]}],\"hovertemplate\":\"status=ONGOING<br>%{xaxis.title.text}=%{x}<br>%{yaxis.title.text}=%{y}<extra></extra>\",\"legendgroup\":\"ONGOING\",\"marker\":{\"color\":\"#636efa\",\"symbol\":\"circle\"},\"name\":\"ONGOING\",\"showlegend\":true,\"type\":\"splom\"},{\"dimensions\":[{\"axis\":{\"matches\":true},\"label\":\"length\",\"values\":[10,7,6,60,9,7,7,20,9,5,8,5,7,45,39,5,2,53,50,7,51,7,50,11,8,4,7,5,51,10,56,60,60,51,64,50,50,6,9,67,12,61,57,69,102,64,130,47,24,67,102,94,95,10,44,79,154,141,7,17,27,125,27,21,73,52,544,109,26,15,1,98,11,16,159,11,25]},{\"axis\":{\"matches\":true},\"label\":\"subscribers\",\"values\":[119394,49568,34780,145138,275560,895505,136739,454130,212110,62464,63175,53593,99728,74488,70305,45974,82893,124704,55783,103993,38630,107501,32271,63336,164882,296746,68671,37480,27453,214803,56363,146003,130155,401772,625290,308643,27495,88810,137648,229083,113236,220232,54566,614816,592393,290893,655360,313070,133030,256868,274621,585914,423348,299617,552418,233046,294721,430259,1093427,121774,362519,193259,228703,217557,177952,169793,358216,165739,97569,1386948,610512,271653,1771384,1409903,2043943,459023,699043]},{\"axis\":{\"matches\":true},\"label\":\"rating\",\"values\":[9.74,9.11,9.52,9.6,9.6,9.74,9.51,9.82,9.75,9.52,9.65,9.65,9.76,9.76,9.74,8.57,9.83,9.65,9.36,9.77,9.57,9.67,9.1,9.63,9.83,9.43,9.78,9.57,9.16,9.87,9.43,9.68,9.75,9.69,9.8,9.67,9.22,9.76,9.74,9.71,9.91,9.71,9.1,9.88,9.7,9.73,9.76,9.81,9.66,9.59,9.79,9.87,9.85,9.73,9.69,9.28,9.58,9.65,9.77,9.67,9.75,9.54,9.54,9.87,9.24,9.52,9.88,9.45,9.78,9.88,9.86,9.41,9.79,9.84,9.88,9.9,9.81]},{\"axis\":{\"matches\":true},\"label\":\"views\",\"values\":[3385872,239409,824352,2504189,9400737,12648543,3455373,5506500,8898541,1045067,356751,926448,2472612,969425,1481872,651091,1126758,1759436,1592584,2799986,646538,2625596,435126,2593680,2241197,3294930,2163294,659003,499919,11308170,1105538,3434197,3899255,14572608,26498159,10211628,239646,1996688,4287829,8844721,1438130,8263688,1144035,22183122,27962888,10543861,28973846,9108310,2543245,11909215,13369390,29138142,18621849,5840515,23496066,7336738,18359513,31867697,72215320,5815914,31579626,9968535,8444211,18237134,5766708,4781639,58014427,9533860,2212068,95938013,7896546,19685293,128773480,107274559,205192244,28487340,95214332]},{\"axis\":{\"matches\":true},\"label\":\"likes\",\"values\":[519310,25056,175227,393156,943076,1910629,553376,707184,1364644,182987,71473,177908,398740,188403,286475,106108,214306,289900,278185,531151,134646,478990,87108,484749,380521,524687,429155,138308,118576,1950976,241557,534674,704083,1948194,3252384,1530014,48111,356925,746653,1540448,288091,1482598,227108,3140972,3955325,1801321,5140434,1534352,423529,1648832,2229399,4215599,3037086,403390,3060381,1088963,3230215,4679775,8643939,492053,4175094,1673462,739136,3286668,566427,475603,8349725,1067411,314781,8981862,1277079,2460916,12532851,10622960,21389047,3147779,8333923]},{\"axis\":{\"matches\":true},\"label\":\"daily_pass\",\"values\":[true,false,true,false,true,false,true,false,true,true,false,true,true,false,false,true,true,false,false,true,false,true,false,true,true,true,true,true,false,true,false,false,false,false,false,false,false,true,true,false,false,false,false,false,false,false,false,false,false,false,false,false,false,false,false,false,false,false,true,false,true,false,false,true,false,false,false,false,false,true,true,false,true,true,false,true,true]}],\"hovertemplate\":\"status=COMPLETED<br>%{xaxis.title.text}=%{x}<br>%{yaxis.title.text}=%{y}<extra></extra>\",\"legendgroup\":\"COMPLETED\",\"marker\":{\"color\":\"#EF553B\",\"symbol\":\"circle\"},\"name\":\"COMPLETED\",\"showlegend\":true,\"type\":\"splom\"},{\"dimensions\":[{\"axis\":{\"matches\":true},\"label\":\"length\",\"values\":[12,13,27,28,30,50,24,46,50,43,49,48,50,58,62,101,50,62,54,73,67,48,49,91,77,145,103,100,215,8,114,46,132,91,116,137,105,114,327,122]},{\"axis\":{\"matches\":true},\"label\":\"subscribers\",\"values\":[425905,714714,128839,216686,66844,509289,177276,120204,107965,107321,121405,409622,56230,186116,278796,51486,111094,483364,196557,145272,785542,206193,109668,145508,173686,1059518,582036,587153,245606,54968,232598,393563,484735,251074,90090,1389866,241430,85276,857625,415163]},{\"axis\":{\"matches\":true},\"label\":\"rating\",\"values\":[9.89,9.88,9.7,9.76,9.68,9.31,9.57,9.83,9.81,9.8,9.78,9.87,9.66,9.8,9.6,9.24,9.61,9.75,9.61,9.79,9.84,9.63,9.43,9.32,9.79,9.9,9.84,9.85,8.91,9.47,9.66,9.85,9.76,9.72,9.55,9.87,9.82,9.51,9.75,9.6]},{\"axis\":{\"matches\":true},\"label\":\"views\",\"values\":[2572899,8562175,1781805,5197020,1167502,25516653,2302912,2708285,3580418,2650476,2496811,14752540,1020888,4451903,8356781,1413179,1906425,19356616,6461471,5095578,32952252,5797757,2844764,6918598,7446720,88904191,38653565,29029769,27379227,1192177,11604305,12590154,36999542,15969667,4276301,109990425,12332678,2179658,147048396,23787343]},{\"axis\":{\"matches\":true},\"label\":\"likes\",\"values\":[500935,1061182,251523,754821,192776,2917294,365567,410448,526399,502610,500690,1511556,211260,889190,1596070,244515,361898,2271373,815223,833037,4776184,1032747,363630,1186083,1272726,11045719,4572471,4732972,4655814,71445,1845893,1946904,4794382,2225858,490413,11924992,1848661,347107,13786280,2651627]},{\"axis\":{\"matches\":true},\"label\":\"daily_pass\",\"values\":[false,false,false,false,false,false,false,false,false,false,false,false,false,false,false,false,false,false,false,false,false,false,false,false,false,false,false,false,false,false,false,false,false,false,false,false,false,false,false,false]}],\"hovertemplate\":\"status=HIATUS<br>%{xaxis.title.text}=%{x}<br>%{yaxis.title.text}=%{y}<extra></extra>\",\"legendgroup\":\"HIATUS\",\"marker\":{\"color\":\"#00cc96\",\"symbol\":\"circle\"},\"name\":\"HIATUS\",\"showlegend\":true,\"type\":\"splom\"}],                        {\"template\":{\"data\":{\"histogram2dcontour\":[{\"type\":\"histogram2dcontour\",\"colorbar\":{\"outlinewidth\":0,\"ticks\":\"\"},\"colorscale\":[[0.0,\"#0d0887\"],[0.1111111111111111,\"#46039f\"],[0.2222222222222222,\"#7201a8\"],[0.3333333333333333,\"#9c179e\"],[0.4444444444444444,\"#bd3786\"],[0.5555555555555556,\"#d8576b\"],[0.6666666666666666,\"#ed7953\"],[0.7777777777777778,\"#fb9f3a\"],[0.8888888888888888,\"#fdca26\"],[1.0,\"#f0f921\"]]}],\"choropleth\":[{\"type\":\"choropleth\",\"colorbar\":{\"outlinewidth\":0,\"ticks\":\"\"}}],\"histogram2d\":[{\"type\":\"histogram2d\",\"colorbar\":{\"outlinewidth\":0,\"ticks\":\"\"},\"colorscale\":[[0.0,\"#0d0887\"],[0.1111111111111111,\"#46039f\"],[0.2222222222222222,\"#7201a8\"],[0.3333333333333333,\"#9c179e\"],[0.4444444444444444,\"#bd3786\"],[0.5555555555555556,\"#d8576b\"],[0.6666666666666666,\"#ed7953\"],[0.7777777777777778,\"#fb9f3a\"],[0.8888888888888888,\"#fdca26\"],[1.0,\"#f0f921\"]]}],\"heatmap\":[{\"type\":\"heatmap\",\"colorbar\":{\"outlinewidth\":0,\"ticks\":\"\"},\"colorscale\":[[0.0,\"#0d0887\"],[0.1111111111111111,\"#46039f\"],[0.2222222222222222,\"#7201a8\"],[0.3333333333333333,\"#9c179e\"],[0.4444444444444444,\"#bd3786\"],[0.5555555555555556,\"#d8576b\"],[0.6666666666666666,\"#ed7953\"],[0.7777777777777778,\"#fb9f3a\"],[0.8888888888888888,\"#fdca26\"],[1.0,\"#f0f921\"]]}],\"heatmapgl\":[{\"type\":\"heatmapgl\",\"colorbar\":{\"outlinewidth\":0,\"ticks\":\"\"},\"colorscale\":[[0.0,\"#0d0887\"],[0.1111111111111111,\"#46039f\"],[0.2222222222222222,\"#7201a8\"],[0.3333333333333333,\"#9c179e\"],[0.4444444444444444,\"#bd3786\"],[0.5555555555555556,\"#d8576b\"],[0.6666666666666666,\"#ed7953\"],[0.7777777777777778,\"#fb9f3a\"],[0.8888888888888888,\"#fdca26\"],[1.0,\"#f0f921\"]]}],\"contourcarpet\":[{\"type\":\"contourcarpet\",\"colorbar\":{\"outlinewidth\":0,\"ticks\":\"\"}}],\"contour\":[{\"type\":\"contour\",\"colorbar\":{\"outlinewidth\":0,\"ticks\":\"\"},\"colorscale\":[[0.0,\"#0d0887\"],[0.1111111111111111,\"#46039f\"],[0.2222222222222222,\"#7201a8\"],[0.3333333333333333,\"#9c179e\"],[0.4444444444444444,\"#bd3786\"],[0.5555555555555556,\"#d8576b\"],[0.6666666666666666,\"#ed7953\"],[0.7777777777777778,\"#fb9f3a\"],[0.8888888888888888,\"#fdca26\"],[1.0,\"#f0f921\"]]}],\"surface\":[{\"type\":\"surface\",\"colorbar\":{\"outlinewidth\":0,\"ticks\":\"\"},\"colorscale\":[[0.0,\"#0d0887\"],[0.1111111111111111,\"#46039f\"],[0.2222222222222222,\"#7201a8\"],[0.3333333333333333,\"#9c179e\"],[0.4444444444444444,\"#bd3786\"],[0.5555555555555556,\"#d8576b\"],[0.6666666666666666,\"#ed7953\"],[0.7777777777777778,\"#fb9f3a\"],[0.8888888888888888,\"#fdca26\"],[1.0,\"#f0f921\"]]}],\"mesh3d\":[{\"type\":\"mesh3d\",\"colorbar\":{\"outlinewidth\":0,\"ticks\":\"\"}}],\"scatter\":[{\"fillpattern\":{\"fillmode\":\"overlay\",\"size\":10,\"solidity\":0.2},\"type\":\"scatter\"}],\"parcoords\":[{\"type\":\"parcoords\",\"line\":{\"colorbar\":{\"outlinewidth\":0,\"ticks\":\"\"}}}],\"scatterpolargl\":[{\"type\":\"scatterpolargl\",\"marker\":{\"colorbar\":{\"outlinewidth\":0,\"ticks\":\"\"}}}],\"bar\":[{\"error_x\":{\"color\":\"#2a3f5f\"},\"error_y\":{\"color\":\"#2a3f5f\"},\"marker\":{\"line\":{\"color\":\"#E5ECF6\",\"width\":0.5},\"pattern\":{\"fillmode\":\"overlay\",\"size\":10,\"solidity\":0.2}},\"type\":\"bar\"}],\"scattergeo\":[{\"type\":\"scattergeo\",\"marker\":{\"colorbar\":{\"outlinewidth\":0,\"ticks\":\"\"}}}],\"scatterpolar\":[{\"type\":\"scatterpolar\",\"marker\":{\"colorbar\":{\"outlinewidth\":0,\"ticks\":\"\"}}}],\"histogram\":[{\"marker\":{\"pattern\":{\"fillmode\":\"overlay\",\"size\":10,\"solidity\":0.2}},\"type\":\"histogram\"}],\"scattergl\":[{\"type\":\"scattergl\",\"marker\":{\"colorbar\":{\"outlinewidth\":0,\"ticks\":\"\"}}}],\"scatter3d\":[{\"type\":\"scatter3d\",\"line\":{\"colorbar\":{\"outlinewidth\":0,\"ticks\":\"\"}},\"marker\":{\"colorbar\":{\"outlinewidth\":0,\"ticks\":\"\"}}}],\"scattermapbox\":[{\"type\":\"scattermapbox\",\"marker\":{\"colorbar\":{\"outlinewidth\":0,\"ticks\":\"\"}}}],\"scatterternary\":[{\"type\":\"scatterternary\",\"marker\":{\"colorbar\":{\"outlinewidth\":0,\"ticks\":\"\"}}}],\"scattercarpet\":[{\"type\":\"scattercarpet\",\"marker\":{\"colorbar\":{\"outlinewidth\":0,\"ticks\":\"\"}}}],\"carpet\":[{\"aaxis\":{\"endlinecolor\":\"#2a3f5f\",\"gridcolor\":\"white\",\"linecolor\":\"white\",\"minorgridcolor\":\"white\",\"startlinecolor\":\"#2a3f5f\"},\"baxis\":{\"endlinecolor\":\"#2a3f5f\",\"gridcolor\":\"white\",\"linecolor\":\"white\",\"minorgridcolor\":\"white\",\"startlinecolor\":\"#2a3f5f\"},\"type\":\"carpet\"}],\"table\":[{\"cells\":{\"fill\":{\"color\":\"#EBF0F8\"},\"line\":{\"color\":\"white\"}},\"header\":{\"fill\":{\"color\":\"#C8D4E3\"},\"line\":{\"color\":\"white\"}},\"type\":\"table\"}],\"barpolar\":[{\"marker\":{\"line\":{\"color\":\"#E5ECF6\",\"width\":0.5},\"pattern\":{\"fillmode\":\"overlay\",\"size\":10,\"solidity\":0.2}},\"type\":\"barpolar\"}],\"pie\":[{\"automargin\":true,\"type\":\"pie\"}]},\"layout\":{\"autotypenumbers\":\"strict\",\"colorway\":[\"#636efa\",\"#EF553B\",\"#00cc96\",\"#ab63fa\",\"#FFA15A\",\"#19d3f3\",\"#FF6692\",\"#B6E880\",\"#FF97FF\",\"#FECB52\"],\"font\":{\"color\":\"#2a3f5f\"},\"hovermode\":\"closest\",\"hoverlabel\":{\"align\":\"left\"},\"paper_bgcolor\":\"white\",\"plot_bgcolor\":\"#E5ECF6\",\"polar\":{\"bgcolor\":\"#E5ECF6\",\"angularaxis\":{\"gridcolor\":\"white\",\"linecolor\":\"white\",\"ticks\":\"\"},\"radialaxis\":{\"gridcolor\":\"white\",\"linecolor\":\"white\",\"ticks\":\"\"}},\"ternary\":{\"bgcolor\":\"#E5ECF6\",\"aaxis\":{\"gridcolor\":\"white\",\"linecolor\":\"white\",\"ticks\":\"\"},\"baxis\":{\"gridcolor\":\"white\",\"linecolor\":\"white\",\"ticks\":\"\"},\"caxis\":{\"gridcolor\":\"white\",\"linecolor\":\"white\",\"ticks\":\"\"}},\"coloraxis\":{\"colorbar\":{\"outlinewidth\":0,\"ticks\":\"\"}},\"colorscale\":{\"sequential\":[[0.0,\"#0d0887\"],[0.1111111111111111,\"#46039f\"],[0.2222222222222222,\"#7201a8\"],[0.3333333333333333,\"#9c179e\"],[0.4444444444444444,\"#bd3786\"],[0.5555555555555556,\"#d8576b\"],[0.6666666666666666,\"#ed7953\"],[0.7777777777777778,\"#fb9f3a\"],[0.8888888888888888,\"#fdca26\"],[1.0,\"#f0f921\"]],\"sequentialminus\":[[0.0,\"#0d0887\"],[0.1111111111111111,\"#46039f\"],[0.2222222222222222,\"#7201a8\"],[0.3333333333333333,\"#9c179e\"],[0.4444444444444444,\"#bd3786\"],[0.5555555555555556,\"#d8576b\"],[0.6666666666666666,\"#ed7953\"],[0.7777777777777778,\"#fb9f3a\"],[0.8888888888888888,\"#fdca26\"],[1.0,\"#f0f921\"]],\"diverging\":[[0,\"#8e0152\"],[0.1,\"#c51b7d\"],[0.2,\"#de77ae\"],[0.3,\"#f1b6da\"],[0.4,\"#fde0ef\"],[0.5,\"#f7f7f7\"],[0.6,\"#e6f5d0\"],[0.7,\"#b8e186\"],[0.8,\"#7fbc41\"],[0.9,\"#4d9221\"],[1,\"#276419\"]]},\"xaxis\":{\"gridcolor\":\"white\",\"linecolor\":\"white\",\"ticks\":\"\",\"title\":{\"standoff\":15},\"zerolinecolor\":\"white\",\"automargin\":true,\"zerolinewidth\":2},\"yaxis\":{\"gridcolor\":\"white\",\"linecolor\":\"white\",\"ticks\":\"\",\"title\":{\"standoff\":15},\"zerolinecolor\":\"white\",\"automargin\":true,\"zerolinewidth\":2},\"scene\":{\"xaxis\":{\"backgroundcolor\":\"#E5ECF6\",\"gridcolor\":\"white\",\"linecolor\":\"white\",\"showbackground\":true,\"ticks\":\"\",\"zerolinecolor\":\"white\",\"gridwidth\":2},\"yaxis\":{\"backgroundcolor\":\"#E5ECF6\",\"gridcolor\":\"white\",\"linecolor\":\"white\",\"showbackground\":true,\"ticks\":\"\",\"zerolinecolor\":\"white\",\"gridwidth\":2},\"zaxis\":{\"backgroundcolor\":\"#E5ECF6\",\"gridcolor\":\"white\",\"linecolor\":\"white\",\"showbackground\":true,\"ticks\":\"\",\"zerolinecolor\":\"white\",\"gridwidth\":2}},\"shapedefaults\":{\"line\":{\"color\":\"#2a3f5f\"}},\"annotationdefaults\":{\"arrowcolor\":\"#2a3f5f\",\"arrowhead\":0,\"arrowwidth\":1},\"geo\":{\"bgcolor\":\"white\",\"landcolor\":\"#E5ECF6\",\"subunitcolor\":\"white\",\"showland\":true,\"showlakes\":true,\"lakecolor\":\"white\"},\"title\":{\"x\":0.05},\"mapbox\":{\"style\":\"light\"}}},\"legend\":{\"title\":{\"text\":\"status\"},\"tracegroupgap\":0},\"margin\":{\"t\":60},\"dragmode\":\"select\"},                        {\"responsive\": true}                    ).then(function(){\n",
              "                            \n",
              "var gd = document.getElementById('c29aaf1d-a798-4f55-a943-24440d3f181f');\n",
              "var x = new MutationObserver(function (mutations, observer) {{\n",
              "        var display = window.getComputedStyle(gd).display;\n",
              "        if (!display || display === 'none') {{\n",
              "            console.log([gd, 'removed!']);\n",
              "            Plotly.purge(gd);\n",
              "            observer.disconnect();\n",
              "        }}\n",
              "}});\n",
              "\n",
              "// Listen for the removal of the full notebook cells\n",
              "var notebookContainer = gd.closest('#notebook-container');\n",
              "if (notebookContainer) {{\n",
              "    x.observe(notebookContainer, {childList: true});\n",
              "}}\n",
              "\n",
              "// Listen for the clearing of the current output cell\n",
              "var outputEl = gd.closest('.output');\n",
              "if (outputEl) {{\n",
              "    x.observe(outputEl, {childList: true});\n",
              "}}\n",
              "\n",
              "                        })                };                            </script>        </div>\n",
              "</body>\n",
              "</html>"
            ]
          },
          "metadata": {}
        }
      ]
    },
    {
      "cell_type": "markdown",
      "source": [
        "###Diagramas relacionados a los datos numéricos y los días de publicación"
      ],
      "metadata": {
        "id": "6j_kWEhzGWj5"
      }
    },
    {
      "cell_type": "code",
      "source": [
        "cant_views_weekdays=data.groupby('weekdays')['views'].sum()"
      ],
      "metadata": {
        "id": "1bMVERkbJ6-f"
      },
      "execution_count": 197,
      "outputs": []
    },
    {
      "cell_type": "code",
      "source": [
        "cant_views_weekdays=pd.DataFrame(cant_views_weekdays,columns=['views'])\n",
        "cant_views_weekdays.reset_index(inplace=True)\n",
        "cant_views_weekdays.columns.values"
      ],
      "metadata": {
        "colab": {
          "base_uri": "https://localhost:8080/"
        },
        "id": "k_OpxmgHKRL5",
        "outputId": "8dab4fe4-3933-4bec-e252-55191088a444"
      },
      "execution_count": 198,
      "outputs": [
        {
          "output_type": "execute_result",
          "data": {
            "text/plain": [
              "array(['weekdays', 'views'], dtype=object)"
            ]
          },
          "metadata": {},
          "execution_count": 198
        }
      ]
    },
    {
      "cell_type": "code",
      "source": [
        "cant_views_weekdays['views'] = cant_views_weekdays['views'].astype(int)\n",
        "\n",
        "def separar_dias(row):\n",
        "    dias_list = row['weekdays'].split(',')\n",
        "    return pd.Series({dia.strip(): row['views'] for dia in dias_list})\n",
        "\n",
        "# Aplicar la función a cada fila del DataFrame\n",
        "data_separada = cant_views_weekdays.apply(separar_dias, axis=1).fillna(0)\n",
        "\n",
        "# Sumar las ocurrencias de cada día individualmente\n",
        "total_views_weekdays = data_separada.sum()\n",
        "total_views_weekdays=pd.DataFrame(total_views_weekdays,columns=['views'])\n"
      ],
      "metadata": {
        "id": "q0JoPRe5KvW5"
      },
      "execution_count": 199,
      "outputs": []
    },
    {
      "cell_type": "code",
      "source": [
        "total_views_weekdays.reset_index(inplace=True)"
      ],
      "metadata": {
        "id": "4bGfyW_CL8_v"
      },
      "execution_count": 200,
      "outputs": []
    },
    {
      "cell_type": "code",
      "source": [
        "total_views_weekdays.columns = total_views_weekdays.columns.str.replace('index', 'dias')\n",
        "total_views_weekdays.columns.values"
      ],
      "metadata": {
        "colab": {
          "base_uri": "https://localhost:8080/"
        },
        "id": "spW61YtPLigW",
        "outputId": "e8d44965-e518-4560-dc3a-6df1309e5d0f"
      },
      "execution_count": 201,
      "outputs": [
        {
          "output_type": "execute_result",
          "data": {
            "text/plain": [
              "array(['dias', 'views'], dtype=object)"
            ]
          },
          "metadata": {},
          "execution_count": 201
        }
      ]
    },
    {
      "cell_type": "code",
      "source": [
        "fig = px.histogram(total_views_weekdays, x='dias', y='views', text_auto = True)\n",
        "fig.update_traces(textfont_size = 14, textangle = 0, textposition = \"outside\")\n",
        "fig.show()"
      ],
      "metadata": {
        "colab": {
          "base_uri": "https://localhost:8080/",
          "height": 542
        },
        "id": "kf7BUjUkLDdp",
        "outputId": "9e701572-c1a2-46ca-a42c-7f1bb7c14d05"
      },
      "execution_count": 202,
      "outputs": [
        {
          "output_type": "display_data",
          "data": {
            "text/html": [
              "<html>\n",
              "<head><meta charset=\"utf-8\" /></head>\n",
              "<body>\n",
              "    <div>            <script src=\"https://cdnjs.cloudflare.com/ajax/libs/mathjax/2.7.5/MathJax.js?config=TeX-AMS-MML_SVG\"></script><script type=\"text/javascript\">if (window.MathJax && window.MathJax.Hub && window.MathJax.Hub.Config) {window.MathJax.Hub.Config({SVG: {font: \"STIX-Web\"}});}</script>                <script type=\"text/javascript\">window.PlotlyConfig = {MathJaxConfig: 'local'};</script>\n",
              "        <script src=\"https://cdn.plot.ly/plotly-2.18.2.min.js\"></script>                <div id=\"279e1274-7903-4894-b747-42c64bb41e71\" class=\"plotly-graph-div\" style=\"height:525px; width:100%;\"></div>            <script type=\"text/javascript\">                                    window.PLOTLYENV=window.PLOTLYENV || {};                                    if (document.getElementById(\"279e1274-7903-4894-b747-42c64bb41e71\")) {                    Plotly.newPlot(                        \"279e1274-7903-4894-b747-42c64bb41e71\",                        [{\"alignmentgroup\":\"True\",\"bingroup\":\"x\",\"histfunc\":\"sum\",\"hovertemplate\":\"dias=%{x}<br>sum of views=%{y}<extra></extra>\",\"legendgroup\":\"\",\"marker\":{\"color\":\"#636efa\",\"pattern\":{\"shape\":\"\"}},\"name\":\"\",\"offsetgroup\":\"\",\"orientation\":\"v\",\"showlegend\":false,\"texttemplate\":\"%{value}\",\"x\":[\"FRIDAY\",\"MONDAY\",\"SATURDAY\",\"SUNDAY\",\"THURSDAY\",\"TUESDAY\",\"WEDNESDAY\"],\"xaxis\":\"x\",\"y\":[1005150822.0,1072021323.0,894241303.0,1215766725.0,904375985.0,1205896438.0,1091978389.0],\"yaxis\":\"y\",\"type\":\"histogram\",\"textfont\":{\"size\":14},\"textangle\":0,\"textposition\":\"outside\"}],                        {\"template\":{\"data\":{\"histogram2dcontour\":[{\"type\":\"histogram2dcontour\",\"colorbar\":{\"outlinewidth\":0,\"ticks\":\"\"},\"colorscale\":[[0.0,\"#0d0887\"],[0.1111111111111111,\"#46039f\"],[0.2222222222222222,\"#7201a8\"],[0.3333333333333333,\"#9c179e\"],[0.4444444444444444,\"#bd3786\"],[0.5555555555555556,\"#d8576b\"],[0.6666666666666666,\"#ed7953\"],[0.7777777777777778,\"#fb9f3a\"],[0.8888888888888888,\"#fdca26\"],[1.0,\"#f0f921\"]]}],\"choropleth\":[{\"type\":\"choropleth\",\"colorbar\":{\"outlinewidth\":0,\"ticks\":\"\"}}],\"histogram2d\":[{\"type\":\"histogram2d\",\"colorbar\":{\"outlinewidth\":0,\"ticks\":\"\"},\"colorscale\":[[0.0,\"#0d0887\"],[0.1111111111111111,\"#46039f\"],[0.2222222222222222,\"#7201a8\"],[0.3333333333333333,\"#9c179e\"],[0.4444444444444444,\"#bd3786\"],[0.5555555555555556,\"#d8576b\"],[0.6666666666666666,\"#ed7953\"],[0.7777777777777778,\"#fb9f3a\"],[0.8888888888888888,\"#fdca26\"],[1.0,\"#f0f921\"]]}],\"heatmap\":[{\"type\":\"heatmap\",\"colorbar\":{\"outlinewidth\":0,\"ticks\":\"\"},\"colorscale\":[[0.0,\"#0d0887\"],[0.1111111111111111,\"#46039f\"],[0.2222222222222222,\"#7201a8\"],[0.3333333333333333,\"#9c179e\"],[0.4444444444444444,\"#bd3786\"],[0.5555555555555556,\"#d8576b\"],[0.6666666666666666,\"#ed7953\"],[0.7777777777777778,\"#fb9f3a\"],[0.8888888888888888,\"#fdca26\"],[1.0,\"#f0f921\"]]}],\"heatmapgl\":[{\"type\":\"heatmapgl\",\"colorbar\":{\"outlinewidth\":0,\"ticks\":\"\"},\"colorscale\":[[0.0,\"#0d0887\"],[0.1111111111111111,\"#46039f\"],[0.2222222222222222,\"#7201a8\"],[0.3333333333333333,\"#9c179e\"],[0.4444444444444444,\"#bd3786\"],[0.5555555555555556,\"#d8576b\"],[0.6666666666666666,\"#ed7953\"],[0.7777777777777778,\"#fb9f3a\"],[0.8888888888888888,\"#fdca26\"],[1.0,\"#f0f921\"]]}],\"contourcarpet\":[{\"type\":\"contourcarpet\",\"colorbar\":{\"outlinewidth\":0,\"ticks\":\"\"}}],\"contour\":[{\"type\":\"contour\",\"colorbar\":{\"outlinewidth\":0,\"ticks\":\"\"},\"colorscale\":[[0.0,\"#0d0887\"],[0.1111111111111111,\"#46039f\"],[0.2222222222222222,\"#7201a8\"],[0.3333333333333333,\"#9c179e\"],[0.4444444444444444,\"#bd3786\"],[0.5555555555555556,\"#d8576b\"],[0.6666666666666666,\"#ed7953\"],[0.7777777777777778,\"#fb9f3a\"],[0.8888888888888888,\"#fdca26\"],[1.0,\"#f0f921\"]]}],\"surface\":[{\"type\":\"surface\",\"colorbar\":{\"outlinewidth\":0,\"ticks\":\"\"},\"colorscale\":[[0.0,\"#0d0887\"],[0.1111111111111111,\"#46039f\"],[0.2222222222222222,\"#7201a8\"],[0.3333333333333333,\"#9c179e\"],[0.4444444444444444,\"#bd3786\"],[0.5555555555555556,\"#d8576b\"],[0.6666666666666666,\"#ed7953\"],[0.7777777777777778,\"#fb9f3a\"],[0.8888888888888888,\"#fdca26\"],[1.0,\"#f0f921\"]]}],\"mesh3d\":[{\"type\":\"mesh3d\",\"colorbar\":{\"outlinewidth\":0,\"ticks\":\"\"}}],\"scatter\":[{\"fillpattern\":{\"fillmode\":\"overlay\",\"size\":10,\"solidity\":0.2},\"type\":\"scatter\"}],\"parcoords\":[{\"type\":\"parcoords\",\"line\":{\"colorbar\":{\"outlinewidth\":0,\"ticks\":\"\"}}}],\"scatterpolargl\":[{\"type\":\"scatterpolargl\",\"marker\":{\"colorbar\":{\"outlinewidth\":0,\"ticks\":\"\"}}}],\"bar\":[{\"error_x\":{\"color\":\"#2a3f5f\"},\"error_y\":{\"color\":\"#2a3f5f\"},\"marker\":{\"line\":{\"color\":\"#E5ECF6\",\"width\":0.5},\"pattern\":{\"fillmode\":\"overlay\",\"size\":10,\"solidity\":0.2}},\"type\":\"bar\"}],\"scattergeo\":[{\"type\":\"scattergeo\",\"marker\":{\"colorbar\":{\"outlinewidth\":0,\"ticks\":\"\"}}}],\"scatterpolar\":[{\"type\":\"scatterpolar\",\"marker\":{\"colorbar\":{\"outlinewidth\":0,\"ticks\":\"\"}}}],\"histogram\":[{\"marker\":{\"pattern\":{\"fillmode\":\"overlay\",\"size\":10,\"solidity\":0.2}},\"type\":\"histogram\"}],\"scattergl\":[{\"type\":\"scattergl\",\"marker\":{\"colorbar\":{\"outlinewidth\":0,\"ticks\":\"\"}}}],\"scatter3d\":[{\"type\":\"scatter3d\",\"line\":{\"colorbar\":{\"outlinewidth\":0,\"ticks\":\"\"}},\"marker\":{\"colorbar\":{\"outlinewidth\":0,\"ticks\":\"\"}}}],\"scattermapbox\":[{\"type\":\"scattermapbox\",\"marker\":{\"colorbar\":{\"outlinewidth\":0,\"ticks\":\"\"}}}],\"scatterternary\":[{\"type\":\"scatterternary\",\"marker\":{\"colorbar\":{\"outlinewidth\":0,\"ticks\":\"\"}}}],\"scattercarpet\":[{\"type\":\"scattercarpet\",\"marker\":{\"colorbar\":{\"outlinewidth\":0,\"ticks\":\"\"}}}],\"carpet\":[{\"aaxis\":{\"endlinecolor\":\"#2a3f5f\",\"gridcolor\":\"white\",\"linecolor\":\"white\",\"minorgridcolor\":\"white\",\"startlinecolor\":\"#2a3f5f\"},\"baxis\":{\"endlinecolor\":\"#2a3f5f\",\"gridcolor\":\"white\",\"linecolor\":\"white\",\"minorgridcolor\":\"white\",\"startlinecolor\":\"#2a3f5f\"},\"type\":\"carpet\"}],\"table\":[{\"cells\":{\"fill\":{\"color\":\"#EBF0F8\"},\"line\":{\"color\":\"white\"}},\"header\":{\"fill\":{\"color\":\"#C8D4E3\"},\"line\":{\"color\":\"white\"}},\"type\":\"table\"}],\"barpolar\":[{\"marker\":{\"line\":{\"color\":\"#E5ECF6\",\"width\":0.5},\"pattern\":{\"fillmode\":\"overlay\",\"size\":10,\"solidity\":0.2}},\"type\":\"barpolar\"}],\"pie\":[{\"automargin\":true,\"type\":\"pie\"}]},\"layout\":{\"autotypenumbers\":\"strict\",\"colorway\":[\"#636efa\",\"#EF553B\",\"#00cc96\",\"#ab63fa\",\"#FFA15A\",\"#19d3f3\",\"#FF6692\",\"#B6E880\",\"#FF97FF\",\"#FECB52\"],\"font\":{\"color\":\"#2a3f5f\"},\"hovermode\":\"closest\",\"hoverlabel\":{\"align\":\"left\"},\"paper_bgcolor\":\"white\",\"plot_bgcolor\":\"#E5ECF6\",\"polar\":{\"bgcolor\":\"#E5ECF6\",\"angularaxis\":{\"gridcolor\":\"white\",\"linecolor\":\"white\",\"ticks\":\"\"},\"radialaxis\":{\"gridcolor\":\"white\",\"linecolor\":\"white\",\"ticks\":\"\"}},\"ternary\":{\"bgcolor\":\"#E5ECF6\",\"aaxis\":{\"gridcolor\":\"white\",\"linecolor\":\"white\",\"ticks\":\"\"},\"baxis\":{\"gridcolor\":\"white\",\"linecolor\":\"white\",\"ticks\":\"\"},\"caxis\":{\"gridcolor\":\"white\",\"linecolor\":\"white\",\"ticks\":\"\"}},\"coloraxis\":{\"colorbar\":{\"outlinewidth\":0,\"ticks\":\"\"}},\"colorscale\":{\"sequential\":[[0.0,\"#0d0887\"],[0.1111111111111111,\"#46039f\"],[0.2222222222222222,\"#7201a8\"],[0.3333333333333333,\"#9c179e\"],[0.4444444444444444,\"#bd3786\"],[0.5555555555555556,\"#d8576b\"],[0.6666666666666666,\"#ed7953\"],[0.7777777777777778,\"#fb9f3a\"],[0.8888888888888888,\"#fdca26\"],[1.0,\"#f0f921\"]],\"sequentialminus\":[[0.0,\"#0d0887\"],[0.1111111111111111,\"#46039f\"],[0.2222222222222222,\"#7201a8\"],[0.3333333333333333,\"#9c179e\"],[0.4444444444444444,\"#bd3786\"],[0.5555555555555556,\"#d8576b\"],[0.6666666666666666,\"#ed7953\"],[0.7777777777777778,\"#fb9f3a\"],[0.8888888888888888,\"#fdca26\"],[1.0,\"#f0f921\"]],\"diverging\":[[0,\"#8e0152\"],[0.1,\"#c51b7d\"],[0.2,\"#de77ae\"],[0.3,\"#f1b6da\"],[0.4,\"#fde0ef\"],[0.5,\"#f7f7f7\"],[0.6,\"#e6f5d0\"],[0.7,\"#b8e186\"],[0.8,\"#7fbc41\"],[0.9,\"#4d9221\"],[1,\"#276419\"]]},\"xaxis\":{\"gridcolor\":\"white\",\"linecolor\":\"white\",\"ticks\":\"\",\"title\":{\"standoff\":15},\"zerolinecolor\":\"white\",\"automargin\":true,\"zerolinewidth\":2},\"yaxis\":{\"gridcolor\":\"white\",\"linecolor\":\"white\",\"ticks\":\"\",\"title\":{\"standoff\":15},\"zerolinecolor\":\"white\",\"automargin\":true,\"zerolinewidth\":2},\"scene\":{\"xaxis\":{\"backgroundcolor\":\"#E5ECF6\",\"gridcolor\":\"white\",\"linecolor\":\"white\",\"showbackground\":true,\"ticks\":\"\",\"zerolinecolor\":\"white\",\"gridwidth\":2},\"yaxis\":{\"backgroundcolor\":\"#E5ECF6\",\"gridcolor\":\"white\",\"linecolor\":\"white\",\"showbackground\":true,\"ticks\":\"\",\"zerolinecolor\":\"white\",\"gridwidth\":2},\"zaxis\":{\"backgroundcolor\":\"#E5ECF6\",\"gridcolor\":\"white\",\"linecolor\":\"white\",\"showbackground\":true,\"ticks\":\"\",\"zerolinecolor\":\"white\",\"gridwidth\":2}},\"shapedefaults\":{\"line\":{\"color\":\"#2a3f5f\"}},\"annotationdefaults\":{\"arrowcolor\":\"#2a3f5f\",\"arrowhead\":0,\"arrowwidth\":1},\"geo\":{\"bgcolor\":\"white\",\"landcolor\":\"#E5ECF6\",\"subunitcolor\":\"white\",\"showland\":true,\"showlakes\":true,\"lakecolor\":\"white\"},\"title\":{\"x\":0.05},\"mapbox\":{\"style\":\"light\"}}},\"xaxis\":{\"anchor\":\"y\",\"domain\":[0.0,1.0],\"title\":{\"text\":\"dias\"}},\"yaxis\":{\"anchor\":\"x\",\"domain\":[0.0,1.0],\"title\":{\"text\":\"sum of views\"}},\"legend\":{\"tracegroupgap\":0},\"margin\":{\"t\":60},\"barmode\":\"relative\"},                        {\"responsive\": true}                    ).then(function(){\n",
              "                            \n",
              "var gd = document.getElementById('279e1274-7903-4894-b747-42c64bb41e71');\n",
              "var x = new MutationObserver(function (mutations, observer) {{\n",
              "        var display = window.getComputedStyle(gd).display;\n",
              "        if (!display || display === 'none') {{\n",
              "            console.log([gd, 'removed!']);\n",
              "            Plotly.purge(gd);\n",
              "            observer.disconnect();\n",
              "        }}\n",
              "}});\n",
              "\n",
              "// Listen for the removal of the full notebook cells\n",
              "var notebookContainer = gd.closest('#notebook-container');\n",
              "if (notebookContainer) {{\n",
              "    x.observe(notebookContainer, {childList: true});\n",
              "}}\n",
              "\n",
              "// Listen for the clearing of the current output cell\n",
              "var outputEl = gd.closest('.output');\n",
              "if (outputEl) {{\n",
              "    x.observe(outputEl, {childList: true});\n",
              "}}\n",
              "\n",
              "                        })                };                            </script>        </div>\n",
              "</body>\n",
              "</html>"
            ]
          },
          "metadata": {}
        }
      ]
    },
    {
      "cell_type": "markdown",
      "source": [
        "##Recomendación de webtoons en cada género"
      ],
      "metadata": {
        "id": "4oJ4ZOPQN0NF"
      }
    },
    {
      "cell_type": "markdown",
      "source": [
        "###TOP 10 por género"
      ],
      "metadata": {
        "id": "ynQOpF7wOEPc"
      }
    },
    {
      "cell_type": "code",
      "source": [
        "data.value_counts('genre')"
      ],
      "metadata": {
        "colab": {
          "base_uri": "https://localhost:8080/"
        },
        "id": "UHCe_lHqNXVV",
        "outputId": "976faf9a-cbf7-4c36-da2f-53e171e7fd83"
      },
      "execution_count": 203,
      "outputs": [
        {
          "output_type": "execute_result",
          "data": {
            "text/plain": [
              "genre\n",
              "ROMANCE          123\n",
              "FANTASY           43\n",
              "DRAMA             38\n",
              "THRILLER          24\n",
              "ACTION            21\n",
              "COMEDY            19\n",
              "HORROR            14\n",
              "SUPERNATURAL       9\n",
              "SLICE_OF_LIFE      8\n",
              "SF                 6\n",
              "SUPER_HERO         4\n",
              "SPORTS             3\n",
              "TIPTOON            3\n",
              "HISTORICAL         2\n",
              "dtype: int64"
            ]
          },
          "metadata": {},
          "execution_count": 203
        }
      ]
    },
    {
      "cell_type": "code",
      "source": [
        "data.groupby('genre')['likes'].sum().sort_values(ascending=False)"
      ],
      "metadata": {
        "colab": {
          "base_uri": "https://localhost:8080/"
        },
        "id": "LnLME7W0EL08",
        "outputId": "3d6ee133-f94f-4e53-c014-c4b533e52234"
      },
      "execution_count": 226,
      "outputs": [
        {
          "output_type": "execute_result",
          "data": {
            "text/plain": [
              "genre\n",
              "ROMANCE          262092951\n",
              "FANTASY          101791122\n",
              "DRAMA             75798330\n",
              "COMEDY            51007085\n",
              "SLICE_OF_LIFE     37584587\n",
              "THRILLER          33878557\n",
              "SUPERNATURAL      27749452\n",
              "ACTION            25302119\n",
              "HORROR            12555665\n",
              "SUPER_HERO        12146459\n",
              "SF                 3059071\n",
              "SPORTS             2671168\n",
              "TIPTOON             634971\n",
              "HISTORICAL          446048\n",
              "Name: likes, dtype: int64"
            ]
          },
          "metadata": {},
          "execution_count": 226
        }
      ]
    },
    {
      "cell_type": "code",
      "source": [
        "genero_ingresado = input(\"Ingresa el género que deseas buscar: \")\n",
        "\n",
        "# Filtrar los webtoons por el género ingresado\n",
        "webtoons_filtrados = data[data['genre'] == genero_ingresado]\n",
        "\n",
        "# Ordenar los webtoons filtrados por 'rating','likes','views' en orden descendente\n",
        "webtoons_top_10 = webtoons_filtrados.sort_values(by=['rating','likes','views'], ascending=False).head(10)\n",
        "\n",
        "# Mostrar los 10 mejores webtoons\n",
        "print(\"Los 10 mejores webtoons del género\", genero_ingresado, \"son:\")\n",
        "print(webtoons_top_10[['title','rating','likes','views','length']])"
      ],
      "metadata": {
        "colab": {
          "base_uri": "https://localhost:8080/"
        },
        "id": "uOOCGqOyNOu2",
        "outputId": "c33baf3b-8abf-4902-d4e3-74c1d14a1bd3"
      },
      "execution_count": 242,
      "outputs": [
        {
          "output_type": "stream",
          "name": "stdout",
          "text": [
            "Ingresa el género que deseas buscar: ACTION\n",
            "Los 10 mejores webtoons del género ACTION son:\n",
            "                                        title  rating    likes     views  \\\n",
            "157                    Mercenario adolescente    9.93  2223948  16576753   \n",
            "220              Eleceed: Velocidad eléctrica    9.90  1505361   7941469   \n",
            "296                                  Noblesse    9.88  8349725  58014427   \n",
            "153  Doom Breaker: Venganza contra los Dioses    9.88   672950   6269046   \n",
            "88                      Un villano para matar    9.86   480244   3279509   \n",
            "184                            Jugo de Jungla    9.85  1223567   8078140   \n",
            "204                                 Hit viral    9.85  1034680   7884261   \n",
            "70                                        100    9.83    95007    546595   \n",
            "195                    El florista más fuerte    9.80   569457   3040020   \n",
            "139                      La asesina de héroes    9.79   659056   4146189   \n",
            "\n",
            "     length  \n",
            "157      87  \n",
            "220      77  \n",
            "296     544  \n",
            "153      55  \n",
            "88       39  \n",
            "184      63  \n",
            "204      71  \n",
            "70       31  \n",
            "195      67  \n",
            "139      51  \n"
          ]
        }
      ]
    },
    {
      "cell_type": "markdown",
      "source": [
        "###El mejor en cada género"
      ],
      "metadata": {
        "id": "UmVsLaFoOImK"
      }
    },
    {
      "cell_type": "code",
      "source": [
        "genero_ingresado = input(\"Ingresa el género que deseas buscar: \")\n",
        "\n",
        "# Filtrar los webtoons por el género ingresado\n",
        "webtoons_filtrados = data[data['genre'] == genero_ingresado]\n",
        "\n",
        "# Ordenar los webtoons filtrados por 'rating','likes','views' en orden descendente\n",
        "webtoons_the_best = webtoons_filtrados.sort_values(by=['rating','likes','views'], ascending=False).head(1)\n",
        "\n",
        "# Mostrar el mejor webtoon por genero\n",
        "print(\"El mejor webtoon del género\", genero_ingresado, \"es:\")\n",
        "webtoons_the_best.reset_index(inplace=True)\n",
        "title=webtoons_the_best.loc[0,'title']\n",
        "daily_pass=webtoons_the_best.loc[0,'daily_pass']\n",
        "length=webtoons_the_best.loc[0,'length']\n",
        "sinopsis=webtoons_the_best.loc[0,'synopsis']\n",
        "print('TITULO: ',title)\n",
        "print('Daily pass: ',daily_pass)\n",
        "print('Cantidad de capítulos: ',length)\n",
        "print('SINOPSIS')\n",
        "print(str(sinopsis))"
      ],
      "metadata": {
        "colab": {
          "base_uri": "https://localhost:8080/"
        },
        "id": "s-CLJb1eOLf0",
        "outputId": "7ed2d759-693f-4d83-c0a4-f72f3bdf5138"
      },
      "execution_count": 205,
      "outputs": [
        {
          "output_type": "stream",
          "name": "stdout",
          "text": [
            "Ingresa el género que deseas buscar: HORROR\n",
            "El mejor webtoon del género HORROR es:\n",
            "TITULO:  Relatos de fantasmas\n",
            "Daily pass:  False\n",
            "Cantidad de capítulos:  61\n",
            "SINOPSIS\n",
            "¿Crees que tus historias de fantasmas dan miedo? Prueba a leer estas historias contadas por los propios fantasmas.\n"
          ]
        }
      ]
    }
  ]
}